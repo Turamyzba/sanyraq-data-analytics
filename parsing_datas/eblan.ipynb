{
 "cells": [
  {
   "cell_type": "code",
   "execution_count": 1,
   "metadata": {},
   "outputs": [
    {
     "name": "stderr",
     "output_type": "stream",
     "text": [
      "C:\\Users\\Admin\\AppData\\Roaming\\Python\\Python311\\site-packages\\tqdm\\auto.py:21: TqdmWarning: IProgress not found. Please update jupyter and ipywidgets. See https://ipywidgets.readthedocs.io/en/stable/user_install.html\n",
      "  from .autonotebook import tqdm as notebook_tqdm\n"
     ]
    },
    {
     "name": "stdout",
     "output_type": "stream",
     "text": [
      "Подселениеге срочно 1қыз керек Айына 30комуслуга ішінде Адрес Тайқоңыр 191а Однокомнотная Общития таза тыныш жер Толық ақпарат 87075541231\n"
     ]
    },
    {
     "data": {
      "text/plain": [
       "date                                           2024-01-31 21:24:21\n",
       "message          2 болмели квартирага 1 кыз керек Таза ишпейтин...\n",
       "channel_name                           Аренда квартир Алматы - Чат\n",
       "address                                               Алматы арена\n",
       "cost                                                           NaN\n",
       "gender                                                      female\n",
       "people_needed                                                    1\n",
       "long_term                                                      NaN\n",
       "phone_number                                           87772002740\n",
       "utilities                                                    False\n",
       "deposit                                                        NaN\n",
       "Name: 16099, dtype: object"
      ]
     },
     "execution_count": 1,
     "metadata": {},
     "output_type": "execute_result"
    }
   ],
   "source": [
    "import pandas as pd\n",
    "from eblan import gemini\n",
    "\n",
    "# Read the CSV file\n",
    "# FROM 0 TO 20000\n",
    "df = pd.read_csv(\"all_csv_19886_row.csv\")\n",
    "print(df.iloc[12204].message)\n",
    "df.iloc[16099]"
   ]
  },
  {
   "cell_type": "code",
   "execution_count": null,
   "metadata": {},
   "outputs": [],
   "source": []
  },
  {
   "cell_type": "code",
   "execution_count": 4,
   "metadata": {},
   "outputs": [
    {
     "name": "stdout",
     "output_type": "stream",
     "text": [
      "Processed and saved rows 19996 to 19999\n"
     ]
    }
   ],
   "source": [
    "import time\n",
    "import pandas as pd\n",
    "from eblan import gemini\n",
    "\n",
    "def process_batch(batch):\n",
    "    for index, row in batch.iterrows():\n",
    "        message = row['message']\n",
    "        structured_data = gemini(message)\n",
    "\n",
    "        df.at[index, 'address'] = structured_data.get('address', None)\n",
    "        df.at[index, 'cost'] = structured_data.get('cost', None)\n",
    "        df.at[index, 'gender'] = structured_data.get('gender', None)\n",
    "        df.at[index, 'people_needed'] = structured_data.get('people_needed', None)\n",
    "        df.at[index, 'long_term'] = structured_data.get('long_term', None)\n",
    "        df.at[index, 'phone_number'] = structured_data.get('phone_number', None)\n",
    "        df.at[index, 'utilities'] = structured_data.get('utilities', None)\n",
    "        df.at[index, 'deposit'] = structured_data.get('deposit', None)\n",
    "\n",
    "    # df.to_csv('all_csv_1427_row.csv', mode='a', header=False, index=False)\n",
    "    print(f\"Processed and saved rows {batch.index[0]} to {batch.index[-1]}\")\n",
    "\n",
    "\n",
    "ranges = 19996\n",
    "\n",
    "for i in range(ranges, ranges + 4, 4):\n",
    "    batch = df.iloc[i:i+4] \n",
    "    process_batch(batch)  \n",
    "    time.sleep(15)  \n"
   ]
  },
  {
   "cell_type": "code",
   "execution_count": 5,
   "metadata": {},
   "outputs": [],
   "source": [
    "df.to_excel('res8.xlsx', index=False)"
   ]
  },
  {
   "cell_type": "code",
   "execution_count": null,
   "metadata": {},
   "outputs": [
    {
     "name": "stdout",
     "output_type": "stream",
     "text": [
      "62500 комм услуги 25000 за депозит Букар Жырау 342 Нужна девушка\n"
     ]
    },
    {
     "data": {
      "text/plain": [
       "date                                           2024-05-09 18:27:10\n",
       "message          Ищу 2 людей на подселение в трехкомнатную квар...\n",
       "channel_name                                Аренда квартира Алматы\n",
       "address                                                        NaN\n",
       "cost                                                           NaN\n",
       "gender                                                         NaN\n",
       "people_needed                                                  NaN\n",
       "long_term                                                      NaN\n",
       "phone_number                                                   NaN\n",
       "utilities                                                      NaN\n",
       "deposit                                                        NaN\n",
       "Name: 19887, dtype: object"
      ]
     },
     "execution_count": 17,
     "metadata": {},
     "output_type": "execute_result"
    }
   ],
   "source": [
    "print(df.iloc[1].message)\n",
    "df.iloc[19886]"
   ]
  },
  {
   "cell_type": "code",
   "execution_count": 6,
   "metadata": {},
   "outputs": [],
   "source": [
    "path = 'res8.xlsx'\n",
    "df = pd.read_excel(path)\n",
    "df.to_csv('all_csv_19999_row.csv',  index=False)"
   ]
  },
  {
   "cell_type": "code",
   "execution_count": 6,
   "metadata": {},
   "outputs": [
    {
     "data": {
      "text/plain": [
       "date                                           2024-01-07 18:43:36\n",
       "message          Ищу 1 пацана на подселение у квартиры хорошее ...\n",
       "channel_name                                         SDU [housing]\n",
       "address                                                        NaN\n",
       "cost                                                           NaN\n",
       "gender                                                         NaN\n",
       "people_needed                                                  NaN\n",
       "long_term                                                      NaN\n",
       "phone_number                                                   NaN\n",
       "utilities                                                      NaN\n",
       "deposit                                                        NaN\n",
       "Name: 8000, dtype: object"
      ]
     },
     "execution_count": 6,
     "metadata": {},
     "output_type": "execute_result"
    }
   ],
   "source": [
    "# df2 = pd.read_csv('all_csv_4457_row.csv')\n",
    "# df2.head()\n",
    "df.iloc[8000]"
   ]
  },
  {
   "cell_type": "code",
   "execution_count": null,
   "metadata": {},
   "outputs": [],
   "source": []
  }
 ],
 "metadata": {
  "kernelspec": {
   "display_name": "Python 3",
   "language": "python",
   "name": "python3"
  },
  "language_info": {
   "codemirror_mode": {
    "name": "ipython",
    "version": 3
   },
   "file_extension": ".py",
   "mimetype": "text/x-python",
   "name": "python",
   "nbconvert_exporter": "python",
   "pygments_lexer": "ipython3",
   "version": "3.11.5"
  }
 },
 "nbformat": 4,
 "nbformat_minor": 2
}
