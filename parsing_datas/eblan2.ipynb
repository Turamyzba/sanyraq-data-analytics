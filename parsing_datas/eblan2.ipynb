{
 "cells": [
  {
   "cell_type": "code",
   "execution_count": 1,
   "metadata": {},
   "outputs": [
    {
     "name": "stderr",
     "output_type": "stream",
     "text": [
      "C:\\Users\\Admin\\AppData\\Roaming\\Python\\Python311\\site-packages\\tqdm\\auto.py:21: TqdmWarning: IProgress not found. Please update jupyter and ipywidgets. See https://ipywidgets.readthedocs.io/en/stable/user_install.html\n",
      "  from .autonotebook import tqdm as notebook_tqdm\n"
     ]
    },
    {
     "name": "stdout",
     "output_type": "stream",
     "text": [
      "Ищем одну или двух девушек на подселение до 5 числа на долгий срок Аренда 250к есть депозит 25к с каждойвозращаемый коммуналкаинтернет с каждого примерно 35к В кв есть все условия Холоднаягорячая вода опотление вся техника в рабочем состоянии Адрес 10 микрорайон 5 дом Контакты 7 771 403 6446 77714036446\n"
     ]
    },
    {
     "data": {
      "text/plain": [
       "date                                           2024-08-13 15:23:59\n",
       "message          ИЩУ НА ПОДСЕЛЕНИЕ ДЕВУШКУ Объявление 7437 В го...\n",
       "channel_name     Подселение Астана сдам сниму комнату квартиру ...\n",
       "address                                      Алихана бокейхана 163\n",
       "cost                                                       89900.0\n",
       "gender                                                      female\n",
       "people_needed                                                    2\n",
       "long_term                                                      NaN\n",
       "phone_number                                           87781482200\n",
       "utilities                                                     True\n",
       "deposit                                                    25000.0\n",
       "Name: 31878, dtype: object"
      ]
     },
     "execution_count": 1,
     "metadata": {},
     "output_type": "execute_result"
    }
   ],
   "source": [
    "import pandas as pd\n",
    "from eblan import gemini\n",
    "\n",
    "# Read the CSV file\n",
    "# FROM 20000\n",
    "df = pd.read_csv(\"from_20000/all_csv_32347_row.csv\")\n",
    "print(df.iloc[23929].message)\n",
    "df.iloc[31878]"
   ]
  },
  {
   "cell_type": "code",
   "execution_count": 5,
   "metadata": {},
   "outputs": [
    {
     "name": "stdout",
     "output_type": "stream",
     "text": [
      "Processed and saved rows 32642 to 32646\n",
      "Processed and saved rows 32647 to 32651\n",
      "Processed and saved rows 32652 to 32656\n",
      "Processed and saved rows 32657 to 32659\n"
     ]
    }
   ],
   "source": [
    "import time\n",
    "import pandas as pd\n",
    "from gemini_1 import gemini\n",
    "\n",
    "def process_batch(batch):\n",
    "    for index, row in batch.iterrows():\n",
    "        message = row['message']\n",
    "        structured_data = gemini(message)\n",
    "\n",
    "        df.at[index, 'address'] = structured_data.get('address', None)\n",
    "        df.at[index, 'cost'] = structured_data.get('cost', None)\n",
    "        df.at[index, 'gender'] = structured_data.get('gender', None)\n",
    "        df.at[index, 'people_needed'] = structured_data.get('people_needed', None)\n",
    "        df.at[index, 'long_term'] = structured_data.get('long_term', None)\n",
    "        df.at[index, 'phone_number'] = structured_data.get('phone_number', None)\n",
    "        df.at[index, 'utilities'] = structured_data.get('utilities', None)\n",
    "        df.at[index, 'deposit'] = structured_data.get('deposit', None)\n",
    "\n",
    "    # df.to_csv('all_csv_1427_row.csv', mode='a', header=False, index=False)\n",
    "    print(f\"Processed and saved rows {batch.index[0]} to {batch.index[-1]}\")\n",
    "\n",
    "\n",
    "ranges = 32642\n",
    "\n",
    "for i in range(ranges, ranges + 20, 5):\n",
    "    batch = df.iloc[i:i+5] \n",
    "    process_batch(batch)  \n",
    "    time.sleep(15)  \n"
   ]
  },
  {
   "cell_type": "code",
   "execution_count": null,
   "metadata": {},
   "outputs": [
    {
     "name": "stdout",
     "output_type": "stream",
     "text": [
      "Всем привет Подселениеге 1 кыз іздеймін жк АККЕНТ квартира новая 3 х комнатнаяответственныйбез вредных привычеккоторый оплачивает вовремя мебельхолодильникстиралкасушилка кухня отдельноуютный дом9 этаж лифт бар О себе 21 лет работаю Оплата 60кком Ватсап87082348127 7082348127\n"
     ]
    },
    {
     "data": {
      "text/plain": [
       "date                                           2024-08-29 16:32:28\n",
       "message          Ищу куда подселиться парень 18лет бюджет 8090к...\n",
       "channel_name                  Студенты Астана (аренда, подселение)\n",
       "address                                                        NaN\n",
       "cost                                                           NaN\n",
       "gender                                                         NaN\n",
       "people_needed                                                  NaN\n",
       "long_term                                                      NaN\n",
       "phone_number                                                   NaN\n",
       "utilities                                                      NaN\n",
       "deposit                                                        NaN\n",
       "Name: 32348, dtype: object"
      ]
     },
     "execution_count": 17,
     "metadata": {},
     "output_type": "execute_result"
    }
   ],
   "source": [
    "print(df.iloc[23756].message)\n",
    "df.iloc[32347]"
   ]
  },
  {
   "cell_type": "code",
   "execution_count": 6,
   "metadata": {},
   "outputs": [],
   "source": [
    "df.to_excel('from_20000/res6.xlsx', index=False)"
   ]
  },
  {
   "cell_type": "code",
   "execution_count": null,
   "metadata": {},
   "outputs": [],
   "source": [
    "path = 'from_20000/res6.xlsx'\n",
    "dt = pd.read_excel(path)\n",
    "dt.to_csv('from_20000/all_csv_32659_row.csv',  index=False)"
   ]
  },
  {
   "cell_type": "code",
   "execution_count": null,
   "metadata": {},
   "outputs": [],
   "source": []
  }
 ],
 "metadata": {
  "kernelspec": {
   "display_name": "Python 3",
   "language": "python",
   "name": "python3"
  },
  "language_info": {
   "codemirror_mode": {
    "name": "ipython",
    "version": 3
   },
   "file_extension": ".py",
   "mimetype": "text/x-python",
   "name": "python",
   "nbconvert_exporter": "python",
   "pygments_lexer": "ipython3",
   "version": "3.11.5"
  }
 },
 "nbformat": 4,
 "nbformat_minor": 2
}
