{
 "cells": [
  {
   "cell_type": "code",
   "execution_count": 3,
   "id": "initial_id",
   "metadata": {
    "ExecuteTime": {
     "end_time": "2024-11-07T11:27:25.323900Z",
     "start_time": "2024-11-07T11:27:25.315352200Z"
    }
   },
   "outputs": [],
   "source": [
    "import pandas as pd\n",
    "import matplotlib.pyplot as plt\n",
    "import seaborn as sns"
   ]
  },
  {
   "cell_type": "code",
   "execution_count": 11,
   "id": "b2683bd6745d83c0",
   "metadata": {
    "ExecuteTime": {
     "end_time": "2024-11-07T11:27:26.167895900Z",
     "start_time": "2024-11-07T11:27:26.120415500Z"
    },
    "collapsed": false,
    "jupyter": {
     "outputs_hidden": false
    }
   },
   "outputs": [
    {
     "name": "stdout",
     "output_type": "stream",
     "text": [
      "1525\n"
     ]
    },
    {
     "data": {
      "text/html": [
       "<div>\n",
       "<style scoped>\n",
       "    .dataframe tbody tr th:only-of-type {\n",
       "        vertical-align: middle;\n",
       "    }\n",
       "\n",
       "    .dataframe tbody tr th {\n",
       "        vertical-align: top;\n",
       "    }\n",
       "\n",
       "    .dataframe thead th {\n",
       "        text-align: right;\n",
       "    }\n",
       "</style>\n",
       "<table border=\"1\" class=\"dataframe\">\n",
       "  <thead>\n",
       "    <tr style=\"text-align: right;\">\n",
       "      <th></th>\n",
       "      <th>date</th>\n",
       "      <th>message</th>\n",
       "      <th>channel_name</th>\n",
       "      <th>city</th>\n",
       "      <th>address</th>\n",
       "      <th>cost</th>\n",
       "      <th>gender</th>\n",
       "      <th>people_needed</th>\n",
       "      <th>long_term</th>\n",
       "      <th>phone_number</th>\n",
       "      <th>utilities</th>\n",
       "      <th>deposit</th>\n",
       "    </tr>\n",
       "  </thead>\n",
       "  <tbody>\n",
       "    <tr>\n",
       "      <th>0</th>\n",
       "      <td>2024-10-28 16:40:34</td>\n",
       "      <td>Привет ищем 3х девушек для подселения 3х комна...</td>\n",
       "      <td>DAILY ХАТА</td>\n",
       "      <td>Astana</td>\n",
       "      <td>NaN</td>\n",
       "      <td>60000</td>\n",
       "      <td>female</td>\n",
       "      <td>3.0</td>\n",
       "      <td>False</td>\n",
       "      <td>NaN</td>\n",
       "      <td>TRUE</td>\n",
       "      <td>NaN</td>\n",
       "    </tr>\n",
       "    <tr>\n",
       "      <th>1</th>\n",
       "      <td>2024-10-27 17:30:22</td>\n",
       "      <td>Ищем третью девочку на подселение чистоплотную...</td>\n",
       "      <td>DAILY ХАТА</td>\n",
       "      <td>Astana</td>\n",
       "      <td>Жк Сенім</td>\n",
       "      <td>60000</td>\n",
       "      <td>female</td>\n",
       "      <td>1.0</td>\n",
       "      <td>True</td>\n",
       "      <td>NaN</td>\n",
       "      <td>TRUE</td>\n",
       "      <td>NaN</td>\n",
       "    </tr>\n",
       "    <tr>\n",
       "      <th>2</th>\n",
       "      <td>2024-10-27 17:30:08</td>\n",
       "      <td>СРОЧНО Ищем одну девочку на заселение на долги...</td>\n",
       "      <td>DAILY ХАТА</td>\n",
       "      <td>Astana</td>\n",
       "      <td>ЖК Будем жить</td>\n",
       "      <td>60000</td>\n",
       "      <td>female</td>\n",
       "      <td>1.0</td>\n",
       "      <td>True</td>\n",
       "      <td>NaN</td>\n",
       "      <td>TRUE</td>\n",
       "      <td>NaN</td>\n",
       "    </tr>\n",
       "    <tr>\n",
       "      <th>3</th>\n",
       "      <td>2024-10-27 17:29:54</td>\n",
       "      <td>СРОЧНО Ищем девочку на подселение в ЖК Будем ж...</td>\n",
       "      <td>DAILY ХАТА</td>\n",
       "      <td>Astana</td>\n",
       "      <td>ЖК Будем жить</td>\n",
       "      <td>60000</td>\n",
       "      <td>female</td>\n",
       "      <td>1.0</td>\n",
       "      <td>False</td>\n",
       "      <td>NaN</td>\n",
       "      <td>TRUE</td>\n",
       "      <td>NaN</td>\n",
       "    </tr>\n",
       "    <tr>\n",
       "      <th>4</th>\n",
       "      <td>2024-10-25 17:00:55</td>\n",
       "      <td>Срочно ищем соседку Жк Ищем одну девочку на за...</td>\n",
       "      <td>DAILY ХАТА</td>\n",
       "      <td>Astana</td>\n",
       "      <td>Жк</td>\n",
       "      <td>65000</td>\n",
       "      <td>female</td>\n",
       "      <td>1.0</td>\n",
       "      <td>False</td>\n",
       "      <td>NaN</td>\n",
       "      <td>TRUE</td>\n",
       "      <td>NaN</td>\n",
       "    </tr>\n",
       "  </tbody>\n",
       "</table>\n",
       "</div>"
      ],
      "text/plain": [
       "                  date                                            message  \\\n",
       "0  2024-10-28 16:40:34  Привет ищем 3х девушек для подселения 3х комна...   \n",
       "1  2024-10-27 17:30:22  Ищем третью девочку на подселение чистоплотную...   \n",
       "2  2024-10-27 17:30:08  СРОЧНО Ищем одну девочку на заселение на долги...   \n",
       "3  2024-10-27 17:29:54  СРОЧНО Ищем девочку на подселение в ЖК Будем ж...   \n",
       "4  2024-10-25 17:00:55  Срочно ищем соседку Жк Ищем одну девочку на за...   \n",
       "\n",
       "  channel_name    city        address   cost  gender  people_needed  \\\n",
       "0   DAILY ХАТА  Astana            NaN  60000  female            3.0   \n",
       "1   DAILY ХАТА  Astana       Жк Сенім  60000  female            1.0   \n",
       "2   DAILY ХАТА  Astana  ЖК Будем жить  60000  female            1.0   \n",
       "3   DAILY ХАТА  Astana  ЖК Будем жить  60000  female            1.0   \n",
       "4   DAILY ХАТА  Astana             Жк  65000  female            1.0   \n",
       "\n",
       "   long_term phone_number utilities  deposit  \n",
       "0      False          NaN      TRUE      NaN  \n",
       "1       True          NaN      TRUE      NaN  \n",
       "2       True          NaN      TRUE      NaN  \n",
       "3      False          NaN      TRUE      NaN  \n",
       "4      False          NaN      TRUE      NaN  "
      ]
     },
     "execution_count": 11,
     "metadata": {},
     "output_type": "execute_result"
    }
   ],
   "source": [
    "df = pd.read_csv('processed_top_100_per_channel.csv')\n",
    "print(len(df))\n",
    "df.head()"
   ]
  },
  {
   "cell_type": "code",
   "execution_count": 13,
   "id": "81e9e04cee2fb43b",
   "metadata": {
    "ExecuteTime": {
     "end_time": "2024-11-07T11:28:19.556929800Z",
     "start_time": "2024-11-07T11:28:19.544372600Z"
    },
    "collapsed": false,
    "jupyter": {
     "outputs_hidden": false
    }
   },
   "outputs": [
    {
     "data": {
      "text/plain": [
       "['date',\n",
       " 'message',\n",
       " 'channel_name',\n",
       " 'city',\n",
       " 'address',\n",
       " 'cost',\n",
       " 'gender',\n",
       " 'people_needed',\n",
       " 'long_term',\n",
       " 'phone_number',\n",
       " 'utilities',\n",
       " 'deposit']"
      ]
     },
     "execution_count": 13,
     "metadata": {},
     "output_type": "execute_result"
    }
   ],
   "source": [
    "df.columns.tolist()"
   ]
  },
  {
   "cell_type": "code",
   "execution_count": 15,
   "id": "4c148e9b593e374",
   "metadata": {
    "ExecuteTime": {
     "end_time": "2024-11-07T11:28:23.239215900Z",
     "start_time": "2024-11-07T11:28:23.213478100Z"
    },
    "collapsed": false,
    "jupyter": {
     "outputs_hidden": false
    }
   },
   "outputs": [
    {
     "data": {
      "text/plain": [
       "date                0\n",
       "message             0\n",
       "channel_name        1\n",
       "city                0\n",
       "address           618\n",
       "cost              517\n",
       "gender            502\n",
       "people_needed     499\n",
       "long_term           0\n",
       "phone_number      600\n",
       "utilities           0\n",
       "deposit          1396\n",
       "dtype: int64"
      ]
     },
     "execution_count": 15,
     "metadata": {},
     "output_type": "execute_result"
    }
   ],
   "source": [
    "df.isnull().sum()"
   ]
  },
  {
   "cell_type": "code",
   "execution_count": 21,
   "id": "fbaef948c07022e5",
   "metadata": {
    "ExecuteTime": {
     "end_time": "2024-11-07T11:35:46.465045100Z",
     "start_time": "2024-11-07T11:35:46.433806100Z"
    },
    "collapsed": false,
    "jupyter": {
     "outputs_hidden": false
    }
   },
   "outputs": [
    {
     "data": {
      "text/html": [
       "<div>\n",
       "<style scoped>\n",
       "    .dataframe tbody tr th:only-of-type {\n",
       "        vertical-align: middle;\n",
       "    }\n",
       "\n",
       "    .dataframe tbody tr th {\n",
       "        vertical-align: top;\n",
       "    }\n",
       "\n",
       "    .dataframe thead th {\n",
       "        text-align: right;\n",
       "    }\n",
       "</style>\n",
       "<table border=\"1\" class=\"dataframe\">\n",
       "  <thead>\n",
       "    <tr style=\"text-align: right;\">\n",
       "      <th></th>\n",
       "      <th>date</th>\n",
       "      <th>message</th>\n",
       "      <th>channel_name</th>\n",
       "      <th>city</th>\n",
       "      <th>address</th>\n",
       "      <th>cost</th>\n",
       "      <th>gender</th>\n",
       "      <th>people_needed</th>\n",
       "      <th>long_term</th>\n",
       "      <th>phone_number</th>\n",
       "      <th>utilities</th>\n",
       "      <th>deposit</th>\n",
       "    </tr>\n",
       "  </thead>\n",
       "  <tbody>\n",
       "    <tr>\n",
       "      <th>0</th>\n",
       "      <td>2024-10-28 16:40:34</td>\n",
       "      <td>Привет ищем 3х девушек для подселения 3х комна...</td>\n",
       "      <td>DAILY ХАТА</td>\n",
       "      <td>Astana</td>\n",
       "      <td>NaN</td>\n",
       "      <td>60000.0</td>\n",
       "      <td>female</td>\n",
       "      <td>3.0</td>\n",
       "      <td>False</td>\n",
       "      <td>NaN</td>\n",
       "      <td>TRUE</td>\n",
       "      <td>NaN</td>\n",
       "    </tr>\n",
       "    <tr>\n",
       "      <th>1</th>\n",
       "      <td>2024-10-27 17:30:22</td>\n",
       "      <td>Ищем третью девочку на подселение чистоплотную...</td>\n",
       "      <td>DAILY ХАТА</td>\n",
       "      <td>Astana</td>\n",
       "      <td>Жк Сенім</td>\n",
       "      <td>60000.0</td>\n",
       "      <td>female</td>\n",
       "      <td>1.0</td>\n",
       "      <td>True</td>\n",
       "      <td>NaN</td>\n",
       "      <td>TRUE</td>\n",
       "      <td>NaN</td>\n",
       "    </tr>\n",
       "    <tr>\n",
       "      <th>2</th>\n",
       "      <td>2024-10-27 17:30:08</td>\n",
       "      <td>СРОЧНО Ищем одну девочку на заселение на долги...</td>\n",
       "      <td>DAILY ХАТА</td>\n",
       "      <td>Astana</td>\n",
       "      <td>ЖК Будем жить</td>\n",
       "      <td>60000.0</td>\n",
       "      <td>female</td>\n",
       "      <td>1.0</td>\n",
       "      <td>True</td>\n",
       "      <td>NaN</td>\n",
       "      <td>TRUE</td>\n",
       "      <td>NaN</td>\n",
       "    </tr>\n",
       "    <tr>\n",
       "      <th>3</th>\n",
       "      <td>2024-10-27 17:29:54</td>\n",
       "      <td>СРОЧНО Ищем девочку на подселение в ЖК Будем ж...</td>\n",
       "      <td>DAILY ХАТА</td>\n",
       "      <td>Astana</td>\n",
       "      <td>ЖК Будем жить</td>\n",
       "      <td>60000.0</td>\n",
       "      <td>female</td>\n",
       "      <td>1.0</td>\n",
       "      <td>False</td>\n",
       "      <td>NaN</td>\n",
       "      <td>TRUE</td>\n",
       "      <td>NaN</td>\n",
       "    </tr>\n",
       "    <tr>\n",
       "      <th>4</th>\n",
       "      <td>2024-10-25 17:00:55</td>\n",
       "      <td>Срочно ищем соседку Жк Ищем одну девочку на за...</td>\n",
       "      <td>DAILY ХАТА</td>\n",
       "      <td>Astana</td>\n",
       "      <td>Жк</td>\n",
       "      <td>65000.0</td>\n",
       "      <td>female</td>\n",
       "      <td>1.0</td>\n",
       "      <td>False</td>\n",
       "      <td>NaN</td>\n",
       "      <td>TRUE</td>\n",
       "      <td>NaN</td>\n",
       "    </tr>\n",
       "  </tbody>\n",
       "</table>\n",
       "</div>"
      ],
      "text/plain": [
       "                  date                                            message  \\\n",
       "0  2024-10-28 16:40:34  Привет ищем 3х девушек для подселения 3х комна...   \n",
       "1  2024-10-27 17:30:22  Ищем третью девочку на подселение чистоплотную...   \n",
       "2  2024-10-27 17:30:08  СРОЧНО Ищем одну девочку на заселение на долги...   \n",
       "3  2024-10-27 17:29:54  СРОЧНО Ищем девочку на подселение в ЖК Будем ж...   \n",
       "4  2024-10-25 17:00:55  Срочно ищем соседку Жк Ищем одну девочку на за...   \n",
       "\n",
       "  channel_name    city        address     cost  gender  people_needed  \\\n",
       "0   DAILY ХАТА  Astana            NaN  60000.0  female            3.0   \n",
       "1   DAILY ХАТА  Astana       Жк Сенім  60000.0  female            1.0   \n",
       "2   DAILY ХАТА  Astana  ЖК Будем жить  60000.0  female            1.0   \n",
       "3   DAILY ХАТА  Astana  ЖК Будем жить  60000.0  female            1.0   \n",
       "4   DAILY ХАТА  Astana             Жк  65000.0  female            1.0   \n",
       "\n",
       "   long_term phone_number utilities  deposit  \n",
       "0      False          NaN      TRUE      NaN  \n",
       "1       True          NaN      TRUE      NaN  \n",
       "2       True          NaN      TRUE      NaN  \n",
       "3      False          NaN      TRUE      NaN  \n",
       "4      False          NaN      TRUE      NaN  "
      ]
     },
     "execution_count": 21,
     "metadata": {},
     "output_type": "execute_result"
    }
   ],
   "source": [
    "df['cost'] = pd.to_numeric(df['cost'], errors='coerce')\n",
    "\n",
    "# Normalize the 'gender' column\n",
    "df['gender'] = df['gender'].str.lower()  # Convert all to lowercase\n",
    "df['gender'] = df['gender'].replace({\n",
    "    'femlae': 'female', \n",
    "    'femaile': 'female', \n",
    "    'female': 'female',\n",
    "    'mael': 'male', \n",
    "    'male': 'male'\n",
    "})\n",
    "df['gender'] = df['gender'].where(df['gender'].isin(['male', 'female']))  # Set non-standard values to NaN\n",
    "df.head()"
   ]
  },
  {
   "cell_type": "code",
   "execution_count": 43,
   "id": "eccb6ff3a827d30a",
   "metadata": {
    "ExecuteTime": {
     "end_time": "2024-11-07T11:35:54.210601800Z",
     "start_time": "2024-11-07T11:35:54.088712800Z"
    },
    "collapsed": false,
    "jupyter": {
     "outputs_hidden": false
    }
   },
   "outputs": [
    {
     "data": {
      "image/png": "[encoded data removed]",
      "text/plain": [
       "<Figure size 600x600 with 1 Axes>"
      ]
     },
     "metadata": {},
     "output_type": "display_data"
    }
   ],
   "source": [
    "gender_counts = df['gender'].value_counts()\n",
    "\n",
    "# Define colors for each gender\n",
    "colors = ['blue' if gender == 'male' else 'pink' for gender in gender_counts.index]\n",
    "\n",
    "# Visualization: Gender Distribution Pie Chart\n",
    "plt.figure(figsize=(6, 6))\n",
    "gender_counts.plot(kind='pie', autopct='%1.1f%%', startangle=90, colors=colors)\n",
    "plt.title('Gender Distribution')\n",
    "plt.ylabel('')  # Remove the y-label as it is not necessary for pie charts\n",
    "plt.show()"
   ]
  },
  {
   "cell_type": "code",
   "execution_count": 45,
   "id": "53ae75b0677c56a",
   "metadata": {
    "collapsed": false,
    "jupyter": {
     "outputs_hidden": false
    }
   },
   "outputs": [
    {
     "data": {
      "image/png": "[encoded data removed]",
      "text/plain": [
       "<Figure size 1000x600 with 1 Axes>"
      ]
     },
     "metadata": {},
     "output_type": "display_data"
    }
   ],
   "source": [
    "# Visualization 1: Histogram of Costs\n",
    "# Filter the DataFrame to only include costs between 0 and 150000 tenge\n",
    "df_filtered = df[(df['cost'] >= 0) & (df['cost'] <= 150000)]\n",
    "plt.figure(figsize=(10, 6))\n",
    "sns.histplot(df_filtered['cost'], bins=30, kde=False, color='blue')\n",
    "plt.title('Distribution of Costs')\n",
    "plt.xlabel('Cost (Tenge)')\n",
    "plt.ylabel('Frequency')\n",
    "plt.show()"
   ]
  },
  {
   "cell_type": "code",
   "execution_count": 47,
   "id": "e7f09d4d-073f-491e-8749-4b57dcf3670d",
   "metadata": {},
   "outputs": [
    {
     "name": "stdout",
     "output_type": "stream",
     "text": [
      "Здравствуйте ищу девочку на подселеник в красивую двухкомнатную квартиру в Алмасити БЕСПЛАТНО С вас уборка готовка и присмотр за школьником когда я на работе Я девушка 87770373873\n"
     ]
    }
   ],
   "source": [
    "print(df[df['cost'] == 0]['message'].iloc[0])"
   ]
  },
  {
   "cell_type": "code",
   "execution_count": 49,
   "id": "b9750c8a-df23-423b-aed5-ab11e525ffd4",
   "metadata": {},
   "outputs": [
    {
     "data": {
      "image/png": "[encoded data removed]",
      "text/plain": [
       "<Figure size 1000x600 with 1 Axes>"
      ]
     },
     "metadata": {},
     "output_type": "display_data"
    }
   ],
   "source": [
    "# Visualization 3: Average Cost by Gender\n",
    "plt.figure(figsize=(10, 6))\n",
    "average_cost_by_gender = df_filtered.groupby('gender')['cost'].mean()\n",
    "average_cost_by_gender.plot(kind='bar', color='green')\n",
    "plt.title('Average Cost by Gender')\n",
    "plt.xlabel('Gender')\n",
    "plt.ylabel('Average Cost (Tenge)')\n",
    "plt.show()"
   ]
  },
  {
   "cell_type": "code",
   "execution_count": 59,
   "id": "83532c12-54dd-4507-8da4-62f5beb5ecec",
   "metadata": {},
   "outputs": [
    {
     "data": {
      "image/png": "[encoded data removed]",
      "text/plain": [
       "<Figure size 1000x600 with 1 Axes>"
      ]
     },
     "metadata": {},
     "output_type": "display_data"
    }
   ],
   "source": [
    "# Calculate the average cost per city\n",
    "average_cost_per_city = df_filtered.groupby('city')['cost'].mean()\n",
    "\n",
    "# Visualization: Average Cost per City\n",
    "plt.figure(figsize=(10, 6))\n",
    "average_cost_per_city.sort_values(ascending=True).plot(kind='barh', color='skyblue')\n",
    "plt.title('Average Cost per City')\n",
    "plt.xlabel('Average Cost (Tenge)')\n",
    "plt.ylabel('City')\n",
    "plt.show()"
   ]
  },
  {
   "cell_type": "code",
   "execution_count": null,
   "id": "2e971034-0d07-4124-be29-f26ec0b7eb7a",
   "metadata": {},
   "outputs": [],
   "source": []
  }
 ],
 "metadata": {
  "kernelspec": {
   "display_name": "Python 3 (ipykernel)",
   "language": "python",
   "name": "python3"
  },
  "language_info": {
   "codemirror_mode": {
    "name": "ipython",
    "version": 3
   },
   "file_extension": ".py",
   "mimetype": "text/x-python",
   "name": "python",
   "nbconvert_exporter": "python",
   "pygments_lexer": "ipython3",
   "version": "3.12.3"
  }
 },
 "nbformat": 4,
 "nbformat_minor": 5
}
