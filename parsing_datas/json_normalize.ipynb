{
 "cells": [
  {
   "cell_type": "code",
   "execution_count": 10,
   "id": "7c88db811bb2759b",
   "metadata": {
    "collapsed": false,
    "ExecuteTime": {
     "end_time": "2024-11-05T19:10:52.144423400Z",
     "start_time": "2024-11-05T19:10:50.692520800Z"
    }
   },
   "outputs": [],
   "source": [
    "import pandas as pd\n",
    "\n",
    "# Step 1: Load the CSV without the \"Unnamed: 0\" column\n",
    "combined_df = pd.read_csv('All_in_one.csv', index_col=0)\n",
    "\n",
    "# Step 2: Save it without adding an index\n",
    "# combined_df.to_csv('All_in_one.csv', index=False)"
   ]
  },
  {
   "cell_type": "code",
   "execution_count": 11,
   "outputs": [
    {
     "data": {
      "text/plain": "                      date                                            message  \\\n0      2024-10-31 19:19:02  Ищем на подселение 1 девушку Квартира 3 комнат...   \n1      2024-10-31 18:32:46  Всем привет ищу 12 девочку к себе на подселени...   \n2      2024-10-31 18:23:14  Алма Сити 5 екы жыгыт ыздеймыз поселениеге 50к...   \n3      2024-10-31 17:43:32  СДУға жақын жерде орналасқан коттедж үй жалға ...   \n4      2024-10-31 16:42:10  ищем одну девушку на подселение в однокомнатну...   \n...                    ...                                                ...   \n71566  2024-09-19 11:59:23  Сниму квартиру в районе сахзаводана длительный...   \n71567  2024-09-19 11:45:18  Подселение в 2х комнатную кв Проживание с ХОЗЯ...   \n71568  2024-09-08 22:21:26  Здравствуйтепомогу с поиском квартиры по вашем...   \n71569  2024-09-04 21:54:05             Сниму 12комнкв в 15 мкр на долгий срок   \n71570  2024-04-06 07:46:24  Подселение в 2х комнатную кв Проживание с ХОЗЯ...   \n\n                                            channel_name    city  \n0                                          SDU [housing]  Almaty  \n1                                          SDU [housing]  Almaty  \n2                                          SDU [housing]  Almaty  \n3                                          SDU [housing]  Almaty  \n4                                          SDU [housing]  Almaty  \n...                                                  ...     ...  \n71566  ТАРАЗ КВАРТИРА ВРЕМЯНКА ДОМ СДАМ СНИМУ ПОДСЕЛЕНИЕ   Taraz  \n71567  ТАРАЗ КВАРТИРА ВРЕМЯНКА ДОМ СДАМ СНИМУ ПОДСЕЛЕНИЕ   Taraz  \n71568  ТАРАЗ КВАРТИРА ВРЕМЯНКА ДОМ СДАМ СНИМУ ПОДСЕЛЕНИЕ   Taraz  \n71569  ТАРАЗ КВАРТИРА ВРЕМЯНКА ДОМ СДАМ СНИМУ ПОДСЕЛЕНИЕ   Taraz  \n71570  ТАРАЗ КВАРТИРА ВРЕМЯНКА ДОМ СДАМ СНИМУ ПОДСЕЛЕНИЕ   Taraz  \n\n[71571 rows x 4 columns]",
      "text/html": "<div>\n<style scoped>\n    .dataframe tbody tr th:only-of-type {\n        vertical-align: middle;\n    }\n\n    .dataframe tbody tr th {\n        vertical-align: top;\n    }\n\n    .dataframe thead th {\n        text-align: right;\n    }\n</style>\n<table border=\"1\" class=\"dataframe\">\n  <thead>\n    <tr style=\"text-align: right;\">\n      <th></th>\n      <th>date</th>\n      <th>message</th>\n      <th>channel_name</th>\n      <th>city</th>\n    </tr>\n  </thead>\n  <tbody>\n    <tr>\n      <th>0</th>\n      <td>2024-10-31 19:19:02</td>\n      <td>Ищем на подселение 1 девушку Квартира 3 комнат...</td>\n      <td>SDU [housing]</td>\n      <td>Almaty</td>\n    </tr>\n    <tr>\n      <th>1</th>\n      <td>2024-10-31 18:32:46</td>\n      <td>Всем привет ищу 12 девочку к себе на подселени...</td>\n      <td>SDU [housing]</td>\n      <td>Almaty</td>\n    </tr>\n    <tr>\n      <th>2</th>\n      <td>2024-10-31 18:23:14</td>\n      <td>Алма Сити 5 екы жыгыт ыздеймыз поселениеге 50к...</td>\n      <td>SDU [housing]</td>\n      <td>Almaty</td>\n    </tr>\n    <tr>\n      <th>3</th>\n      <td>2024-10-31 17:43:32</td>\n      <td>СДУға жақын жерде орналасқан коттедж үй жалға ...</td>\n      <td>SDU [housing]</td>\n      <td>Almaty</td>\n    </tr>\n    <tr>\n      <th>4</th>\n      <td>2024-10-31 16:42:10</td>\n      <td>ищем одну девушку на подселение в однокомнатну...</td>\n      <td>SDU [housing]</td>\n      <td>Almaty</td>\n    </tr>\n    <tr>\n      <th>...</th>\n      <td>...</td>\n      <td>...</td>\n      <td>...</td>\n      <td>...</td>\n    </tr>\n    <tr>\n      <th>71566</th>\n      <td>2024-09-19 11:59:23</td>\n      <td>Сниму квартиру в районе сахзаводана длительный...</td>\n      <td>ТАРАЗ КВАРТИРА ВРЕМЯНКА ДОМ СДАМ СНИМУ ПОДСЕЛЕНИЕ</td>\n      <td>Taraz</td>\n    </tr>\n    <tr>\n      <th>71567</th>\n      <td>2024-09-19 11:45:18</td>\n      <td>Подселение в 2х комнатную кв Проживание с ХОЗЯ...</td>\n      <td>ТАРАЗ КВАРТИРА ВРЕМЯНКА ДОМ СДАМ СНИМУ ПОДСЕЛЕНИЕ</td>\n      <td>Taraz</td>\n    </tr>\n    <tr>\n      <th>71568</th>\n      <td>2024-09-08 22:21:26</td>\n      <td>Здравствуйтепомогу с поиском квартиры по вашем...</td>\n      <td>ТАРАЗ КВАРТИРА ВРЕМЯНКА ДОМ СДАМ СНИМУ ПОДСЕЛЕНИЕ</td>\n      <td>Taraz</td>\n    </tr>\n    <tr>\n      <th>71569</th>\n      <td>2024-09-04 21:54:05</td>\n      <td>Сниму 12комнкв в 15 мкр на долгий срок</td>\n      <td>ТАРАЗ КВАРТИРА ВРЕМЯНКА ДОМ СДАМ СНИМУ ПОДСЕЛЕНИЕ</td>\n      <td>Taraz</td>\n    </tr>\n    <tr>\n      <th>71570</th>\n      <td>2024-04-06 07:46:24</td>\n      <td>Подселение в 2х комнатную кв Проживание с ХОЗЯ...</td>\n      <td>ТАРАЗ КВАРТИРА ВРЕМЯНКА ДОМ СДАМ СНИМУ ПОДСЕЛЕНИЕ</td>\n      <td>Taraz</td>\n    </tr>\n  </tbody>\n</table>\n<p>71571 rows × 4 columns</p>\n</div>"
     },
     "execution_count": 11,
     "metadata": {},
     "output_type": "execute_result"
    }
   ],
   "source": [
    "combined_df = pd.read_csv('All_in_one.csv')\n",
    "# combined_df = combined_df.loc[:, ~combined_df.columns.str.contains('^Unnamed')]\n",
    "# combined_df['date'] = pd.to_datetime(combined_df['date'])\n",
    "# combined_df.to_csv('All_in_one.csv', index=False)\n",
    "combined_df"
   ],
   "metadata": {
    "collapsed": false,
    "ExecuteTime": {
     "end_time": "2024-11-05T19:10:57.408200900Z",
     "start_time": "2024-11-05T19:10:56.572533300Z"
    }
   },
   "id": "11890bfc52afc793"
  },
  {
   "cell_type": "code",
   "execution_count": 12,
   "outputs": [
    {
     "data": {
      "text/plain": "71571"
     },
     "execution_count": 12,
     "metadata": {},
     "output_type": "execute_result"
    }
   ],
   "source": [
    "len(combined_df)"
   ],
   "metadata": {
    "collapsed": false,
    "ExecuteTime": {
     "end_time": "2024-11-05T19:11:09.228276300Z",
     "start_time": "2024-11-05T19:11:09.214239400Z"
    }
   },
   "id": "30d14c59175a80d3"
  },
  {
   "cell_type": "code",
   "execution_count": 38,
   "outputs": [
    {
     "name": "stdout",
     "output_type": "stream",
     "text": [
      "Квартирага 1бала керек Ішпейтіншекпейтінтазалықты сақтайтын болу керек Квартира сдудан 5мин жерде 4бала болып турамыз Бір айға 500 00 Коммуналка бәрі ішінде Толығырақ жекеге\n",
      "district: null\n",
      "address: null\n",
      "cost: 500000\n",
      "gender: null\n",
      "people_needed: 1\n",
      "long_term: False\n",
      "phone_number: null\n",
      "utilities: True\n",
      "deposit: null\n"
     ]
    }
   ],
   "source": [
    "from gemini1 import gemini\n",
    "import re\n",
    "\n",
    "mes = combined_df['message'].iloc[1000]\n",
    "print(mes)\n",
    "print(gemini(mes))"
   ],
   "metadata": {
    "collapsed": false,
    "ExecuteTime": {
     "end_time": "2024-11-05T19:57:28.870769100Z",
     "start_time": "2024-11-05T19:57:26.103336300Z"
    }
   },
   "id": "6c98e2771f9c0ee1"
  },
  {
   "cell_type": "code",
   "execution_count": 41,
   "outputs": [
    {
     "data": {
      "text/plain": "                      date                                            message  \\\n46520  2024-10-28 16:40:34  Привет ищем 3х девушек для подселения 3х комна...   \n46521  2024-10-27 17:30:22  Ищем третью девочку на подселение чистоплотную...   \n46522  2024-10-27 17:30:08  СРОЧНО Ищем одну девочку на заселение на долги...   \n46523  2024-10-27 17:29:54  СРОЧНО Ищем девочку на подселение в ЖК Будем ж...   \n46524  2024-10-25 17:00:55  Срочно ищем соседку Жк Ищем одну девочку на за...   \n...                    ...                                                ...   \n67956  2024-10-28 23:28:37  Келесі айдың 5і нен бастап көшетін кв керек 2 ...   \n67957  2024-10-28 02:25:25  Квартира іздеймін 1 бөлмелі Барлық жағдайы жас...   \n67958  2024-10-28 01:39:27  Ищу квартиру В районе пединститута либо школьн...   \n67959  2024-10-20 21:44:37  Бирге туруга кв керек подселение Центр жактан ...   \n67960  2024-10-20 11:54:04  Қасыма бірге тұратын 1 немесе 2 қыз керек Адрс...   \n\n                                 channel_name    city district address  cost  \\\n46520                              DAILY ХАТА  Astana     None    None  None   \n46521                              DAILY ХАТА  Astana     None    None  None   \n46522                              DAILY ХАТА  Astana     None    None  None   \n46523                              DAILY ХАТА  Astana     None    None  None   \n46524                              DAILY ХАТА  Astana     None    None  None   \n...                                       ...     ...      ...     ...   ...   \n67956  Уральск Квартира  Орал КВАРТИРА Аренда    Oral     None    None  None   \n67957  Уральск Квартира  Орал КВАРТИРА Аренда    Oral     None    None  None   \n67958  Уральск Квартира  Орал КВАРТИРА Аренда    Oral     None    None  None   \n67959  Уральск Квартира  Орал КВАРТИРА Аренда    Oral     None    None  None   \n67960  Уральск Квартира  Орал КВАРТИРА Аренда    Oral     None    None  None   \n\n      gender people_needed long_term phone_number utilities deposit  \n46520   None          None      None         None      None    None  \n46521   None          None      None         None      None    None  \n46522   None          None      None         None      None    None  \n46523   None          None      None         None      None    None  \n46524   None          None      None         None      None    None  \n...      ...           ...       ...          ...       ...     ...  \n67956   None          None      None         None      None    None  \n67957   None          None      None         None      None    None  \n67958   None          None      None         None      None    None  \n67959   None          None      None         None      None    None  \n67960   None          None      None         None      None    None  \n\n[215 rows x 13 columns]",
      "text/html": "<div>\n<style scoped>\n    .dataframe tbody tr th:only-of-type {\n        vertical-align: middle;\n    }\n\n    .dataframe tbody tr th {\n        vertical-align: top;\n    }\n\n    .dataframe thead th {\n        text-align: right;\n    }\n</style>\n<table border=\"1\" class=\"dataframe\">\n  <thead>\n    <tr style=\"text-align: right;\">\n      <th></th>\n      <th>date</th>\n      <th>message</th>\n      <th>channel_name</th>\n      <th>city</th>\n      <th>district</th>\n      <th>address</th>\n      <th>cost</th>\n      <th>gender</th>\n      <th>people_needed</th>\n      <th>long_term</th>\n      <th>phone_number</th>\n      <th>utilities</th>\n      <th>deposit</th>\n    </tr>\n  </thead>\n  <tbody>\n    <tr>\n      <th>46520</th>\n      <td>2024-10-28 16:40:34</td>\n      <td>Привет ищем 3х девушек для подселения 3х комна...</td>\n      <td>DAILY ХАТА</td>\n      <td>Astana</td>\n      <td>None</td>\n      <td>None</td>\n      <td>None</td>\n      <td>None</td>\n      <td>None</td>\n      <td>None</td>\n      <td>None</td>\n      <td>None</td>\n      <td>None</td>\n    </tr>\n    <tr>\n      <th>46521</th>\n      <td>2024-10-27 17:30:22</td>\n      <td>Ищем третью девочку на подселение чистоплотную...</td>\n      <td>DAILY ХАТА</td>\n      <td>Astana</td>\n      <td>None</td>\n      <td>None</td>\n      <td>None</td>\n      <td>None</td>\n      <td>None</td>\n      <td>None</td>\n      <td>None</td>\n      <td>None</td>\n      <td>None</td>\n    </tr>\n    <tr>\n      <th>46522</th>\n      <td>2024-10-27 17:30:08</td>\n      <td>СРОЧНО Ищем одну девочку на заселение на долги...</td>\n      <td>DAILY ХАТА</td>\n      <td>Astana</td>\n      <td>None</td>\n      <td>None</td>\n      <td>None</td>\n      <td>None</td>\n      <td>None</td>\n      <td>None</td>\n      <td>None</td>\n      <td>None</td>\n      <td>None</td>\n    </tr>\n    <tr>\n      <th>46523</th>\n      <td>2024-10-27 17:29:54</td>\n      <td>СРОЧНО Ищем девочку на подселение в ЖК Будем ж...</td>\n      <td>DAILY ХАТА</td>\n      <td>Astana</td>\n      <td>None</td>\n      <td>None</td>\n      <td>None</td>\n      <td>None</td>\n      <td>None</td>\n      <td>None</td>\n      <td>None</td>\n      <td>None</td>\n      <td>None</td>\n    </tr>\n    <tr>\n      <th>46524</th>\n      <td>2024-10-25 17:00:55</td>\n      <td>Срочно ищем соседку Жк Ищем одну девочку на за...</td>\n      <td>DAILY ХАТА</td>\n      <td>Astana</td>\n      <td>None</td>\n      <td>None</td>\n      <td>None</td>\n      <td>None</td>\n      <td>None</td>\n      <td>None</td>\n      <td>None</td>\n      <td>None</td>\n      <td>None</td>\n    </tr>\n    <tr>\n      <th>...</th>\n      <td>...</td>\n      <td>...</td>\n      <td>...</td>\n      <td>...</td>\n      <td>...</td>\n      <td>...</td>\n      <td>...</td>\n      <td>...</td>\n      <td>...</td>\n      <td>...</td>\n      <td>...</td>\n      <td>...</td>\n      <td>...</td>\n    </tr>\n    <tr>\n      <th>67956</th>\n      <td>2024-10-28 23:28:37</td>\n      <td>Келесі айдың 5і нен бастап көшетін кв керек 2 ...</td>\n      <td>Уральск Квартира  Орал КВАРТИРА Аренда</td>\n      <td>Oral</td>\n      <td>None</td>\n      <td>None</td>\n      <td>None</td>\n      <td>None</td>\n      <td>None</td>\n      <td>None</td>\n      <td>None</td>\n      <td>None</td>\n      <td>None</td>\n    </tr>\n    <tr>\n      <th>67957</th>\n      <td>2024-10-28 02:25:25</td>\n      <td>Квартира іздеймін 1 бөлмелі Барлық жағдайы жас...</td>\n      <td>Уральск Квартира  Орал КВАРТИРА Аренда</td>\n      <td>Oral</td>\n      <td>None</td>\n      <td>None</td>\n      <td>None</td>\n      <td>None</td>\n      <td>None</td>\n      <td>None</td>\n      <td>None</td>\n      <td>None</td>\n      <td>None</td>\n    </tr>\n    <tr>\n      <th>67958</th>\n      <td>2024-10-28 01:39:27</td>\n      <td>Ищу квартиру В районе пединститута либо школьн...</td>\n      <td>Уральск Квартира  Орал КВАРТИРА Аренда</td>\n      <td>Oral</td>\n      <td>None</td>\n      <td>None</td>\n      <td>None</td>\n      <td>None</td>\n      <td>None</td>\n      <td>None</td>\n      <td>None</td>\n      <td>None</td>\n      <td>None</td>\n    </tr>\n    <tr>\n      <th>67959</th>\n      <td>2024-10-20 21:44:37</td>\n      <td>Бирге туруга кв керек подселение Центр жактан ...</td>\n      <td>Уральск Квартира  Орал КВАРТИРА Аренда</td>\n      <td>Oral</td>\n      <td>None</td>\n      <td>None</td>\n      <td>None</td>\n      <td>None</td>\n      <td>None</td>\n      <td>None</td>\n      <td>None</td>\n      <td>None</td>\n      <td>None</td>\n    </tr>\n    <tr>\n      <th>67960</th>\n      <td>2024-10-20 11:54:04</td>\n      <td>Қасыма бірге тұратын 1 немесе 2 қыз керек Адрс...</td>\n      <td>Уральск Квартира  Орал КВАРТИРА Аренда</td>\n      <td>Oral</td>\n      <td>None</td>\n      <td>None</td>\n      <td>None</td>\n      <td>None</td>\n      <td>None</td>\n      <td>None</td>\n      <td>None</td>\n      <td>None</td>\n      <td>None</td>\n    </tr>\n  </tbody>\n</table>\n<p>215 rows × 13 columns</p>\n</div>"
     },
     "execution_count": 41,
     "metadata": {},
     "output_type": "execute_result"
    }
   ],
   "source": [
    "new_df = (\n",
    "    combined_df.sort_values(by=['channel_name', 'date'], ascending=[True, False])\n",
    "    .groupby('channel_name')\n",
    "    .head(10)\n",
    ")\n",
    "new_df['district'] = None\n",
    "new_df['address'] = None\n",
    "new_df['cost'] = None\n",
    "new_df['gender'] = None\n",
    "new_df['people_needed'] = None\n",
    "new_df['long_term'] = None\n",
    "new_df['phone_number'] = None\n",
    "new_df['utilities'] = None\n",
    "new_df['deposit'] = None\n",
    "\n",
    "new_df"
   ],
   "metadata": {
    "collapsed": false,
    "ExecuteTime": {
     "end_time": "2024-11-05T19:58:07.537765200Z",
     "start_time": "2024-11-05T19:58:07.409479900Z"
    }
   },
   "id": "ae44b5d20b194819"
  },
  {
   "cell_type": "code",
   "execution_count": 43,
   "outputs": [
    {
     "data": {
      "text/plain": "                      date                                            message  \\\n46520  2024-10-28 16:40:34  Привет ищем 3х девушек для подселения 3х комна...   \n46521  2024-10-27 17:30:22  Ищем третью девочку на подселение чистоплотную...   \n46522  2024-10-27 17:30:08  СРОЧНО Ищем одну девочку на заселение на долги...   \n46523  2024-10-27 17:29:54  СРОЧНО Ищем девочку на подселение в ЖК Будем ж...   \n46524  2024-10-25 17:00:55  Срочно ищем соседку Жк Ищем одну девочку на за...   \n...                    ...                                                ...   \n67956  2024-10-28 23:28:37  Келесі айдың 5і нен бастап көшетін кв керек 2 ...   \n67957  2024-10-28 02:25:25  Квартира іздеймін 1 бөлмелі Барлық жағдайы жас...   \n67958  2024-10-28 01:39:27  Ищу квартиру В районе пединститута либо школьн...   \n67959  2024-10-20 21:44:37  Бирге туруга кв керек подселение Центр жактан ...   \n67960  2024-10-20 11:54:04  Қасыма бірге тұратын 1 немесе 2 қыз керек Адрс...   \n\n                                 channel_name    city district  \\\n46520                              DAILY ХАТА  Astana     None   \n46521                              DAILY ХАТА  Astana     None   \n46522                              DAILY ХАТА  Astana     None   \n46523                              DAILY ХАТА  Astana     None   \n46524                              DAILY ХАТА  Astana     None   \n...                                       ...     ...      ...   \n67956  Уральск Квартира  Орал КВАРТИРА Аренда    Oral     None   \n67957  Уральск Квартира  Орал КВАРТИРА Аренда    Oral     None   \n67958  Уральск Квартира  Орал КВАРТИРА Аренда    Oral     None   \n67959  Уральск Квартира  Орал КВАРТИРА Аренда    Oral     None   \n67960  Уральск Квартира  Орал КВАРТИРА Аренда    Oral     None   \n\n                       address   cost  gender people_needed long_term  \\\n46520                     null     60  female             3     False   \n46521                 Жк Сенім     60  female             1     False   \n46522            ЖК Будем жить  60000  female             1      True   \n46523            ЖК Будем жить     60  female             1     False   \n46524     Жк Ищем одну девочку     65  female             1     False   \n...                        ...    ...     ...           ...       ...   \n67956                     None   None    None          None     False   \n67957                     None   None    None          None     False   \n67958                     null   2535    null          None     False   \n67959                     None   None    None          None     False   \n67960  ОстМолодёжный 2комт 70к   None  female             2     False   \n\n      phone_number utilities deposit  \n46520         null      True    None  \n46521         null      True    None  \n46522         null      True    None  \n46523         null      True    None  \n46524         null      True    None  \n...            ...       ...     ...  \n67956         None     False    None  \n67957         None     False    None  \n67958  77788077747     False    None  \n67959         None     False    None  \n67960  87759911625      True    None  \n\n[215 rows x 13 columns]",
      "text/html": "<div>\n<style scoped>\n    .dataframe tbody tr th:only-of-type {\n        vertical-align: middle;\n    }\n\n    .dataframe tbody tr th {\n        vertical-align: top;\n    }\n\n    .dataframe thead th {\n        text-align: right;\n    }\n</style>\n<table border=\"1\" class=\"dataframe\">\n  <thead>\n    <tr style=\"text-align: right;\">\n      <th></th>\n      <th>date</th>\n      <th>message</th>\n      <th>channel_name</th>\n      <th>city</th>\n      <th>district</th>\n      <th>address</th>\n      <th>cost</th>\n      <th>gender</th>\n      <th>people_needed</th>\n      <th>long_term</th>\n      <th>phone_number</th>\n      <th>utilities</th>\n      <th>deposit</th>\n    </tr>\n  </thead>\n  <tbody>\n    <tr>\n      <th>46520</th>\n      <td>2024-10-28 16:40:34</td>\n      <td>Привет ищем 3х девушек для подселения 3х комна...</td>\n      <td>DAILY ХАТА</td>\n      <td>Astana</td>\n      <td>None</td>\n      <td>null</td>\n      <td>60</td>\n      <td>female</td>\n      <td>3</td>\n      <td>False</td>\n      <td>null</td>\n      <td>True</td>\n      <td>None</td>\n    </tr>\n    <tr>\n      <th>46521</th>\n      <td>2024-10-27 17:30:22</td>\n      <td>Ищем третью девочку на подселение чистоплотную...</td>\n      <td>DAILY ХАТА</td>\n      <td>Astana</td>\n      <td>None</td>\n      <td>Жк Сенім</td>\n      <td>60</td>\n      <td>female</td>\n      <td>1</td>\n      <td>False</td>\n      <td>null</td>\n      <td>True</td>\n      <td>None</td>\n    </tr>\n    <tr>\n      <th>46522</th>\n      <td>2024-10-27 17:30:08</td>\n      <td>СРОЧНО Ищем одну девочку на заселение на долги...</td>\n      <td>DAILY ХАТА</td>\n      <td>Astana</td>\n      <td>None</td>\n      <td>ЖК Будем жить</td>\n      <td>60000</td>\n      <td>female</td>\n      <td>1</td>\n      <td>True</td>\n      <td>null</td>\n      <td>True</td>\n      <td>None</td>\n    </tr>\n    <tr>\n      <th>46523</th>\n      <td>2024-10-27 17:29:54</td>\n      <td>СРОЧНО Ищем девочку на подселение в ЖК Будем ж...</td>\n      <td>DAILY ХАТА</td>\n      <td>Astana</td>\n      <td>None</td>\n      <td>ЖК Будем жить</td>\n      <td>60</td>\n      <td>female</td>\n      <td>1</td>\n      <td>False</td>\n      <td>null</td>\n      <td>True</td>\n      <td>None</td>\n    </tr>\n    <tr>\n      <th>46524</th>\n      <td>2024-10-25 17:00:55</td>\n      <td>Срочно ищем соседку Жк Ищем одну девочку на за...</td>\n      <td>DAILY ХАТА</td>\n      <td>Astana</td>\n      <td>None</td>\n      <td>Жк Ищем одну девочку</td>\n      <td>65</td>\n      <td>female</td>\n      <td>1</td>\n      <td>False</td>\n      <td>null</td>\n      <td>True</td>\n      <td>None</td>\n    </tr>\n    <tr>\n      <th>...</th>\n      <td>...</td>\n      <td>...</td>\n      <td>...</td>\n      <td>...</td>\n      <td>...</td>\n      <td>...</td>\n      <td>...</td>\n      <td>...</td>\n      <td>...</td>\n      <td>...</td>\n      <td>...</td>\n      <td>...</td>\n      <td>...</td>\n    </tr>\n    <tr>\n      <th>67956</th>\n      <td>2024-10-28 23:28:37</td>\n      <td>Келесі айдың 5і нен бастап көшетін кв керек 2 ...</td>\n      <td>Уральск Квартира  Орал КВАРТИРА Аренда</td>\n      <td>Oral</td>\n      <td>None</td>\n      <td>None</td>\n      <td>None</td>\n      <td>None</td>\n      <td>None</td>\n      <td>False</td>\n      <td>None</td>\n      <td>False</td>\n      <td>None</td>\n    </tr>\n    <tr>\n      <th>67957</th>\n      <td>2024-10-28 02:25:25</td>\n      <td>Квартира іздеймін 1 бөлмелі Барлық жағдайы жас...</td>\n      <td>Уральск Квартира  Орал КВАРТИРА Аренда</td>\n      <td>Oral</td>\n      <td>None</td>\n      <td>None</td>\n      <td>None</td>\n      <td>None</td>\n      <td>None</td>\n      <td>False</td>\n      <td>None</td>\n      <td>False</td>\n      <td>None</td>\n    </tr>\n    <tr>\n      <th>67958</th>\n      <td>2024-10-28 01:39:27</td>\n      <td>Ищу квартиру В районе пединститута либо школьн...</td>\n      <td>Уральск Квартира  Орал КВАРТИРА Аренда</td>\n      <td>Oral</td>\n      <td>None</td>\n      <td>null</td>\n      <td>2535</td>\n      <td>null</td>\n      <td>None</td>\n      <td>False</td>\n      <td>77788077747</td>\n      <td>False</td>\n      <td>None</td>\n    </tr>\n    <tr>\n      <th>67959</th>\n      <td>2024-10-20 21:44:37</td>\n      <td>Бирге туруга кв керек подселение Центр жактан ...</td>\n      <td>Уральск Квартира  Орал КВАРТИРА Аренда</td>\n      <td>Oral</td>\n      <td>None</td>\n      <td>None</td>\n      <td>None</td>\n      <td>None</td>\n      <td>None</td>\n      <td>False</td>\n      <td>None</td>\n      <td>False</td>\n      <td>None</td>\n    </tr>\n    <tr>\n      <th>67960</th>\n      <td>2024-10-20 11:54:04</td>\n      <td>Қасыма бірге тұратын 1 немесе 2 қыз керек Адрс...</td>\n      <td>Уральск Квартира  Орал КВАРТИРА Аренда</td>\n      <td>Oral</td>\n      <td>None</td>\n      <td>ОстМолодёжный 2комт 70к</td>\n      <td>None</td>\n      <td>female</td>\n      <td>2</td>\n      <td>False</td>\n      <td>87759911625</td>\n      <td>True</td>\n      <td>None</td>\n    </tr>\n  </tbody>\n</table>\n<p>215 rows × 13 columns</p>\n</div>"
     },
     "execution_count": 43,
     "metadata": {},
     "output_type": "execute_result"
    }
   ],
   "source": [
    "for index, row in new_df.iterrows():\n",
    "    message = row['message']\n",
    "    data = gemini(message)  # Get the structured data as a string from gemini\n",
    "\n",
    "    # Extract each value using regex and store in the appropriate column\n",
    "    address = re.search(r'address: (.+)', data)\n",
    "    cost = re.search(r'cost: (\\d+)', data)\n",
    "    gender = re.search(r'gender: (\\w+)', data)\n",
    "    people_needed = re.search(r'people_needed: (\\d+)', data)\n",
    "    long_term = re.search(r'long_term: (\\w+)', data)\n",
    "    phone_number = re.search(r'phone_number: (\\S+)', data)\n",
    "    utilities = re.search(r'utilities: (\\w+)', data)\n",
    "    deposit = re.search(r'deposit: (\\d+)', data)\n",
    "\n",
    "    # Update the DataFrame with extracted values (convert as needed)\n",
    "    new_df.at[index, 'address'] = address.group(1) if address else None\n",
    "    new_df.at[index, 'cost'] = int(cost.group(1)) if cost else None\n",
    "    new_df.at[index, 'gender'] = gender.group(1) if gender else None\n",
    "    new_df.at[index, 'people_needed'] = int(people_needed.group(1)) if people_needed else None\n",
    "    new_df.at[index, 'long_term'] = True if long_term and long_term.group(1) == 'True' else False\n",
    "    new_df.at[index, 'phone_number'] = phone_number.group(1) if phone_number else None\n",
    "    new_df.at[index, 'utilities'] = True if utilities and utilities.group(1) == 'True' else False\n",
    "    new_df.at[index, 'deposit'] = int(deposit.group(1)) if deposit else None\n",
    "new_df"
   ],
   "metadata": {
    "collapsed": false,
    "ExecuteTime": {
     "end_time": "2024-11-05T20:06:12.035589800Z",
     "start_time": "2024-11-05T19:59:22.139391100Z"
    }
   },
   "id": "890d34de14ebfdd4"
  },
  {
   "cell_type": "code",
   "execution_count": 44,
   "outputs": [],
   "source": [
    "new_df.to_csv('result.csv', index=False)"
   ],
   "metadata": {
    "collapsed": false,
    "ExecuteTime": {
     "end_time": "2024-11-05T20:07:20.627398300Z",
     "start_time": "2024-11-05T20:07:20.612009800Z"
    }
   },
   "id": "3cc463276c9169ab"
  },
  {
   "cell_type": "code",
   "execution_count": 45,
   "outputs": [],
   "source": [
    "new_df.to_excel('result.xlsx', index=False)"
   ],
   "metadata": {
    "collapsed": false,
    "ExecuteTime": {
     "end_time": "2024-11-05T20:07:44.473239Z",
     "start_time": "2024-11-05T20:07:43.463328400Z"
    }
   },
   "id": "5688eeb853aa8017"
  },
  {
   "cell_type": "code",
   "execution_count": null,
   "outputs": [
    {
     "name": "stdout",
     "output_type": "stream",
     "text": [
      "Processing channel: DAILY ХАТА\n",
      "Processing channel: SDU [housing]\n",
      "Processing channel: podselenie_v_astane\n",
      "Processing channel: АЛМАТЫ (КВАРЕНДАПОДСЕЛ🏠)\n",
      "Processing channel: Аренда Жилья.Подселение Алматы\n",
      "Processing channel: Аренда квартир Алматы - Чат\n",
      "Processing channel: Аренда квартира Алматы\n",
      "Processing channel: Аренда комнат и квартир Талдыкорган🏙🌃🌌🏢🏘\n",
      "Processing channel: КВАРТИРА АЛМАТЫ  ПӘТЕР АЛМАТЫ  НЕДВИЖИМОСТЬ АЛМАТЫ\n"
     ]
    }
   ],
   "source": [
    "import time\n",
    "\n",
    "# Select the last 100 messages by date for each channel\n",
    "top_100_per_channel = (\n",
    "    combined_df.sort_values(by=['channel_name', 'date'], ascending=[True, False])\n",
    "    .groupby('channel_name')\n",
    "    .head(100)\n",
    ")\n",
    "\n",
    "# Initialize columns for structured data fields\n",
    "top_100_per_channel['address'] = None\n",
    "top_100_per_channel['cost'] = None\n",
    "top_100_per_channel['gender'] = None\n",
    "top_100_per_channel['people_needed'] = None\n",
    "top_100_per_channel['long_term'] = None\n",
    "top_100_per_channel['phone_number'] = None\n",
    "top_100_per_channel['utilities'] = None\n",
    "top_100_per_channel['deposit'] = None\n",
    "\n",
    "# Process each channel's data separately\n",
    "for channel_name, channel_data in top_100_per_channel.groupby('channel_name'):\n",
    "    print(f\"Processing channel: {channel_name}\")\n",
    "    \n",
    "    # Process in batches of 10\n",
    "    for i in range(0, len(channel_data), 10):\n",
    "        batch = channel_data.iloc[i:i+10]  # Select the batch of 10\n",
    "\n",
    "        for index, row in batch.iterrows():\n",
    "            message = row['message']\n",
    "            data = gemini(message)  # Get structured data as a string from gemini\n",
    "\n",
    "            # Extract each value using regex and store in the appropriate column\n",
    "            address = re.search(r'address: (.+)', data)\n",
    "            cost = re.search(r'cost: (\\d+)', data)\n",
    "            gender = re.search(r'gender: (\\w+)', data)\n",
    "            people_needed = re.search(r'people_needed: (\\d+)', data)\n",
    "            long_term = re.search(r'long_term: (\\w+)', data)\n",
    "            phone_number = re.search(r'phone_number: (\\S+)', data)\n",
    "            utilities = re.search(r'utilities: (\\w+)', data)\n",
    "            deposit = re.search(r'deposit: (\\d+)', data)\n",
    "\n",
    "            # Update the DataFrame with extracted values\n",
    "            top_100_per_channel.at[index, 'address'] = address.group(1) if address else None\n",
    "            top_100_per_channel.at[index, 'cost'] = int(cost.group(1)) if cost else None\n",
    "            top_100_per_channel.at[index, 'gender'] = gender.group(1) if gender else None\n",
    "            top_100_per_channel.at[index, 'people_needed'] = int(people_needed.group(1)) if people_needed else None\n",
    "            top_100_per_channel.at[index, 'long_term'] = True if long_term and long_term.group(1) == 'True' else False\n",
    "            top_100_per_channel.at[index, 'phone_number'] = phone_number.group(1) if phone_number else None\n",
    "            top_100_per_channel.at[index, 'utilities'] = True if utilities and utilities.group(1) == 'True' else False\n",
    "            top_100_per_channel.at[index, 'deposit'] = int(deposit.group(1)) if deposit else None\n",
    "\n",
    "        # Wait 2 seconds after processing each batch of 10\n",
    "        time.sleep(2)\n",
    "\n",
    "# Save the processed data to a new CSV file\n",
    "top_100_per_channel.to_csv('/mnt/data/processed_top_100_per_channel.csv', index=False)\n",
    "print(\"Processing complete. Data saved to 'processed_top_100_per_channel.csv'.\")\n"
   ],
   "metadata": {
    "collapsed": false,
    "is_executing": true,
    "ExecuteTime": {
     "start_time": "2024-11-05T20:12:26.986854100Z"
    }
   },
   "id": "220eb5aebc693331"
  },
  {
   "cell_type": "code",
   "execution_count": null,
   "outputs": [],
   "source": [],
   "metadata": {
    "collapsed": false
   },
   "id": "3fca6a8f17e66c43"
  }
 ],
 "metadata": {
  "kernelspec": {
   "display_name": "Python 3 (ipykernel)",
   "language": "python",
   "name": "python3"
  },
  "language_info": {
   "codemirror_mode": {
    "name": "ipython",
    "version": 3
   },
   "file_extension": ".py",
   "mimetype": "text/x-python",
   "name": "python",
   "nbconvert_exporter": "python",
   "pygments_lexer": "ipython3",
   "version": "3.12.4"
  }
 },
 "nbformat": 4,
 "nbformat_minor": 5
}
