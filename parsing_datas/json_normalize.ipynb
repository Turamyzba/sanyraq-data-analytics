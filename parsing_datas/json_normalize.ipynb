{
 "cells": [
  {
   "cell_type": "code",
   "execution_count": 19,
   "id": "7c88db811bb2759b",
   "metadata": {
    "ExecuteTime": {
     "end_time": "2024-10-27T16:49:29.193850200Z",
     "start_time": "2024-10-27T16:49:28.570674100Z"
    },
    "collapsed": false
   },
   "outputs": [],
   "source": [
    "import pandas as pd\n",
    "from pandas import json_normalize\n",
    "import numpy as np\n",
    "import matplotlib.pyplot as plt"
   ]
  },
  {
   "cell_type": "code",
   "execution_count": 21,
   "id": "a48b7b98fc573190",
   "metadata": {
    "ExecuteTime": {
     "end_time": "2024-10-27T16:49:31.494535400Z",
     "start_time": "2024-10-27T16:49:30.505594500Z"
    },
    "collapsed": false
   },
   "outputs": [],
   "source": [
    "df = pd.read_json('jsons/result1.json')\n",
    "\n",
    "df = json_normalize(df['messages'])\n",
    "channel_name = df['from'].dropna().iloc[0]\n",
    "df = df[['date', 'text_entities']]"
   ]
  },
  {
   "cell_type": "code",
   "execution_count": 22,
   "id": "3ca836f5106d3b99",
   "metadata": {
    "ExecuteTime": {
     "end_time": "2024-10-27T16:49:32.522011Z",
     "start_time": "2024-10-27T16:49:32.469919400Z"
    },
    "collapsed": false
   },
   "outputs": [
    {
     "data": {
      "text/html": [
       "<div>\n",
       "<style scoped>\n",
       "    .dataframe tbody tr th:only-of-type {\n",
       "        vertical-align: middle;\n",
       "    }\n",
       "\n",
       "    .dataframe tbody tr th {\n",
       "        vertical-align: top;\n",
       "    }\n",
       "\n",
       "    .dataframe thead th {\n",
       "        text-align: right;\n",
       "    }\n",
       "</style>\n",
       "<table border=\"1\" class=\"dataframe\">\n",
       "  <thead>\n",
       "    <tr style=\"text-align: right;\">\n",
       "      <th></th>\n",
       "      <th>date</th>\n",
       "      <th>text_entities</th>\n",
       "    </tr>\n",
       "  </thead>\n",
       "  <tbody>\n",
       "    <tr>\n",
       "      <th>0</th>\n",
       "      <td>2021-07-17T02:04:08</td>\n",
       "      <td>[]</td>\n",
       "    </tr>\n",
       "    <tr>\n",
       "      <th>1</th>\n",
       "      <td>2021-07-17T02:30:57</td>\n",
       "      <td>[{'type': 'bold', 'text': 'Всем привет!'}, {'t...</td>\n",
       "    </tr>\n",
       "    <tr>\n",
       "      <th>2</th>\n",
       "      <td>2021-07-17T02:46:12</td>\n",
       "      <td>[{'type': 'bold', 'text': 'Перед размещением о...</td>\n",
       "    </tr>\n",
       "    <tr>\n",
       "      <th>3</th>\n",
       "      <td>2021-08-18T22:32:41</td>\n",
       "      <td>[{'type': 'hashtag', 'text': '#Ищу'}, {'type':...</td>\n",
       "    </tr>\n",
       "    <tr>\n",
       "      <th>4</th>\n",
       "      <td>2021-08-18T22:35:34</td>\n",
       "      <td>[{'type': 'hashtag', 'text': '#АлмаАта'}, {'ty...</td>\n",
       "    </tr>\n",
       "  </tbody>\n",
       "</table>\n",
       "</div>"
      ],
      "text/plain": [
       "                  date                                      text_entities\n",
       "0  2021-07-17T02:04:08                                                 []\n",
       "1  2021-07-17T02:30:57  [{'type': 'bold', 'text': 'Всем привет!'}, {'t...\n",
       "2  2021-07-17T02:46:12  [{'type': 'bold', 'text': 'Перед размещением о...\n",
       "3  2021-08-18T22:32:41  [{'type': 'hashtag', 'text': '#Ищу'}, {'type':...\n",
       "4  2021-08-18T22:35:34  [{'type': 'hashtag', 'text': '#АлмаАта'}, {'ty..."
      ]
     },
     "execution_count": 22,
     "metadata": {},
     "output_type": "execute_result"
    }
   ],
   "source": [
    "df.head()"
   ]
  },
  {
   "cell_type": "code",
   "execution_count": 25,
   "id": "beab1725553561a4",
   "metadata": {
    "ExecuteTime": {
     "end_time": "2024-10-27T16:49:33.888703700Z",
     "start_time": "2024-10-27T16:49:33.830144100Z"
    },
    "collapsed": false
   },
   "outputs": [
    {
     "data": {
      "text/html": [
       "<div>\n",
       "<style scoped>\n",
       "    .dataframe tbody tr th:only-of-type {\n",
       "        vertical-align: middle;\n",
       "    }\n",
       "\n",
       "    .dataframe tbody tr th {\n",
       "        vertical-align: top;\n",
       "    }\n",
       "\n",
       "    .dataframe thead th {\n",
       "        text-align: right;\n",
       "    }\n",
       "</style>\n",
       "<table border=\"1\" class=\"dataframe\">\n",
       "  <thead>\n",
       "    <tr style=\"text-align: right;\">\n",
       "      <th></th>\n",
       "      <th>date</th>\n",
       "      <th>message</th>\n",
       "    </tr>\n",
       "  </thead>\n",
       "  <tbody>\n",
       "    <tr>\n",
       "      <th>45859</th>\n",
       "      <td>2024-10-27T18:19:25</td>\n",
       "      <td>Ищем одного парня на подселение, будем жить 4о...</td>\n",
       "    </tr>\n",
       "    <tr>\n",
       "      <th>45858</th>\n",
       "      <td>2024-10-27T17:44:07</td>\n",
       "      <td>СДУ ға өте жақын жерде орналасқан\\nКотеждің бі...</td>\n",
       "    </tr>\n",
       "    <tr>\n",
       "      <th>45857</th>\n",
       "      <td>2024-10-27T17:07:36</td>\n",
       "      <td>Ноябрь айынан бастап бірге тұруға 1қыз іздеймі...</td>\n",
       "    </tr>\n",
       "    <tr>\n",
       "      <th>45856</th>\n",
       "      <td>2024-10-27T17:05:52</td>\n",
       "      <td>Сәлеметсіздер ме, 2қыз бала керек на подселени...</td>\n",
       "    </tr>\n",
       "    <tr>\n",
       "      <th>45855</th>\n",
       "      <td>2024-10-27T16:56:46</td>\n",
       "      <td>Всем привет! Ищу одну девушку на подселение. 2...</td>\n",
       "    </tr>\n",
       "    <tr>\n",
       "      <th>...</th>\n",
       "      <td>...</td>\n",
       "      <td>...</td>\n",
       "    </tr>\n",
       "    <tr>\n",
       "      <th>5</th>\n",
       "      <td>2021-08-18T23:27:20</td>\n",
       "      <td>#ищу #Каскелен #квартира #3_комнаты\\nАрендуем ...</td>\n",
       "    </tr>\n",
       "    <tr>\n",
       "      <th>4</th>\n",
       "      <td>2021-08-18T22:35:34</td>\n",
       "      <td>#АлмаАта #Подселение #Квартира\\nИщем девушку и...</td>\n",
       "    </tr>\n",
       "    <tr>\n",
       "      <th>3</th>\n",
       "      <td>2021-08-18T22:32:41</td>\n",
       "      <td>#Ищу #Подселение #АлмаАта #Квартира #Дом #2_ко...</td>\n",
       "    </tr>\n",
       "    <tr>\n",
       "      <th>2</th>\n",
       "      <td>2021-07-17T02:46:12</td>\n",
       "      <td>Перед размещением объявления рекомендуем испол...</td>\n",
       "    </tr>\n",
       "    <tr>\n",
       "      <th>1</th>\n",
       "      <td>2021-07-17T02:30:57</td>\n",
       "      <td>Всем привет!\\n\\nЭтот чат — площадка, в которой...</td>\n",
       "    </tr>\n",
       "  </tbody>\n",
       "</table>\n",
       "<p>22986 rows × 2 columns</p>\n",
       "</div>"
      ],
      "text/plain": [
       "                      date                                            message\n",
       "45859  2024-10-27T18:19:25  Ищем одного парня на подселение, будем жить 4о...\n",
       "45858  2024-10-27T17:44:07  СДУ ға өте жақын жерде орналасқан\\nКотеждің бі...\n",
       "45857  2024-10-27T17:07:36  Ноябрь айынан бастап бірге тұруға 1қыз іздеймі...\n",
       "45856  2024-10-27T17:05:52  Сәлеметсіздер ме, 2қыз бала керек на подселени...\n",
       "45855  2024-10-27T16:56:46  Всем привет! Ищу одну девушку на подселение. 2...\n",
       "...                    ...                                                ...\n",
       "5      2021-08-18T23:27:20  #ищу #Каскелен #квартира #3_комнаты\\nАрендуем ...\n",
       "4      2021-08-18T22:35:34  #АлмаАта #Подселение #Квартира\\nИщем девушку и...\n",
       "3      2021-08-18T22:32:41  #Ищу #Подселение #АлмаАта #Квартира #Дом #2_ко...\n",
       "2      2021-07-17T02:46:12  Перед размещением объявления рекомендуем испол...\n",
       "1      2021-07-17T02:30:57  Всем привет!\\n\\nЭтот чат — площадка, в которой...\n",
       "\n",
       "[22986 rows x 2 columns]"
      ]
     },
     "execution_count": 25,
     "metadata": {},
     "output_type": "execute_result"
    }
   ],
   "source": [
    "df = df[df['text_entities'].apply(lambda x: isinstance(x, list) and len(x) > 0)]\n",
    "\n",
    "def extract_message(text_entities):\n",
    "    try:\n",
    "        # Concatenate the 'text' fields from each dictionary in the list\n",
    "        return ''.join([entity['text'] for entity in text_entities if 'text' in entity])\n",
    "    except:\n",
    "        return None\n",
    "\n",
    "# Apply the function to create a new 'message' column\n",
    "df['message'] = df['text_entities'].apply(extract_message)\n",
    "\n",
    "# Drop the 'text_entities' column as it is no longer needed\n",
    "df_cleaned = df.drop(columns=['text_entities'])\n",
    "df_cleaned = df_cleaned.sort_values(by='date', ascending=False)\n",
    "df_cleaned"
   ]
  },
  {
   "cell_type": "code",
   "execution_count": 27,
   "id": "1d031e61a7332398",
   "metadata": {
    "ExecuteTime": {
     "end_time": "2024-10-27T16:49:36.524660400Z",
     "start_time": "2024-10-27T16:49:36.513076100Z"
    },
    "collapsed": false
   },
   "outputs": [
    {
     "data": {
      "text/plain": [
       "500"
      ]
     },
     "execution_count": 27,
     "metadata": {},
     "output_type": "execute_result"
    }
   ],
   "source": [
    "# df_cleaned = df_cleaned[df_cleaned['date'] >= '2024-10-10']\n",
    "df_cleaned = df_cleaned.head(50)\n",
    "len(df_cleaned)"
   ]
  },
  {
   "cell_type": "code",
   "execution_count": 29,
   "id": "73fe8bf52b555c9d",
   "metadata": {
    "ExecuteTime": {
     "end_time": "2024-10-27T16:49:39.764952200Z",
     "start_time": "2024-10-27T16:49:39.749847Z"
    },
    "collapsed": false
   },
   "outputs": [],
   "source": [
    "# Helper function to safely extract values\n",
    "def extract_value(pattern, text, data_type=str):\n",
    "    match = re.search(pattern, text)\n",
    "    if match:\n",
    "        value = match.group(1).strip()\n",
    "        if data_type == int:\n",
    "            try:\n",
    "                return int(value)\n",
    "            except ValueError:\n",
    "                return None\n",
    "        elif data_type == bool:\n",
    "            return value.lower() == 'true'\n",
    "        return value\n",
    "    return None"
   ]
  },
  {
   "cell_type": "code",
   "execution_count": null,
   "id": "44093cdec9ef3e85",
   "metadata": {
    "ExecuteTime": {
     "start_time": "2024-10-27T16:49:53.926016100Z"
    },
    "collapsed": false,
    "is_executing": true
   },
   "outputs": [],
   "source": [
    "import json\n",
    "from gemini2 import gemini\n",
    "from parse import parse_string\n",
    "import re\n",
    "import time\n",
    "import numpy as np\n",
    "\n",
    "# Initialize lists to store the extracted values for each column\n",
    "cities = []\n",
    "districts = []\n",
    "addresses = []\n",
    "costs = []\n",
    "genders = []\n",
    "people_neededs = []\n",
    "long_terms = []\n",
    "phone_numbers = []\n",
    "utilities = []\n",
    "deposits = []\n",
    "\n",
    "total_rows = len(df_cleaned)\n",
    "\n",
    "# Iterate over the first 10 rows of df_cleaned\n",
    "for start in range(0, total_rows, 10):\n",
    "    end = min(start + 20, total_rows)  # Ensure we don't go out of bounds\n",
    "    \n",
    "    for i in range(len(df_cleaned)):\n",
    "        message = df_cleaned['message'].iloc[i].replace('\\n', '    ') + \" Алматы\"\n",
    "        result_text = gemini(message)  # Process the message with the gemini function\n",
    "    \n",
    "        # Extract each field using extract_value\n",
    "        city = extract_value(r'city:\\s*(.*)', result_text)\n",
    "        district = extract_value(r'district:\\s*(.*)', result_text)\n",
    "        address = extract_value(r'address:\\s*(.*)', result_text)\n",
    "        cost = extract_value(r'cost:\\s*(\\d+)', result_text, int)\n",
    "        gender = extract_value(r'gender:\\s*(.*)', result_text)\n",
    "        people_needed = extract_value(r'people_needed:\\s*(\\d+)', result_text, int)\n",
    "        long_term = extract_value(r'long_term:\\s*(.*)', result_text, bool)\n",
    "        phone_number = extract_value(r'phone_number:\\s*(.*)', result_text)\n",
    "        utility = extract_value(r'utilities:\\s*(.*)', result_text, bool)\n",
    "        deposit = extract_value(r'deposit:\\s*(\\d+)', result_text, int)\n",
    "    \n",
    "        # Append the extracted values to the lists\n",
    "        cities.append(city)\n",
    "        districts.append(district)\n",
    "        addresses.append(address)\n",
    "        costs.append(float(cost) if cost is not None else np.nan)  # Convert to float or NaN\n",
    "        genders.append(gender)\n",
    "        people_neededs.append(float(people_needed) if people_needed is not None else np.nan)  # Convert to float or NaN\n",
    "        long_terms.append(long_term)\n",
    "        phone_numbers.append(phone_number)\n",
    "        utilities.append(utility)\n",
    "        deposits.append(float(deposit) if deposit is not None else np.nan)  # Convert to float or NaN\n",
    "            \n",
    "    time.sleep(5)\n",
    "\n",
    "df_cleaned['city'] = cities\n",
    "df_cleaned['district'] = districts\n",
    "df_cleaned['address'] = addresses\n",
    "df_cleaned['cost'] = costs\n",
    "df_cleaned['gender'] = genders\n",
    "df_cleaned['people_needed'] = people_needed\n",
    "df_cleaned['long_term'] = long_terms\n",
    "df_cleaned['phone_number'] = phone_numbers\n",
    "df_cleaned['utilities'] = utilities\n",
    "df_cleaned['deposit'] = deposits\n",
    "\n",
    "# Display the updated DataFrame\n",
    "df_cleaned"
   ]
  },
  {
   "cell_type": "code",
   "execution_count": 17,
   "id": "7e2636ded0a103b2",
   "metadata": {
    "ExecuteTime": {
     "end_time": "2024-10-27T16:21:18.165845500Z",
     "start_time": "2024-10-27T16:21:17.942153800Z"
    },
    "collapsed": false
   },
   "outputs": [],
   "source": [
    "df_cleaned.to_excel('res.xlsx')"
   ]
  },
  {
   "cell_type": "code",
   "execution_count": null,
   "id": "92baee171bf5ea07",
   "metadata": {
    "collapsed": false
   },
   "outputs": [],
   "source": [
    "import time\n",
    "import json\n",
    "from gemini1 import gemini\n",
    "from parse import parse_string\n",
    "import pandas as pd\n",
    "import re\n",
    "\n",
    "# Initialize the total number of rows\n",
    "total_rows = len(df_cleaned)\n",
    "\n",
    "# Define a function to process each message with retries for rate limiting\n",
    "def process_message_with_retry(message, retries=3):\n",
    "    for attempt in range(retries):\n",
    "        try:\n",
    "            result = gemini(message)\n",
    "            if result:\n",
    "                return parse_string(result)\n",
    "            else:\n",
    "                return None\n",
    "        except Exception as e:\n",
    "            if \"429\" in str(e):\n",
    "                wait_time = (2 ** attempt) * 10  # Exponential backoff\n",
    "                print(f\"Rate limit exceeded, retrying in {wait_time} seconds...\")\n",
    "                time.sleep(wait_time)\n",
    "            else:\n",
    "                print(f\"Error processing message: {e}\")\n",
    "                return None\n",
    "    return None\n",
    "\n",
    "# Load existing data if available\n",
    "try:\n",
    "    df_cleaned = pd.read_excel(\"df_cleaned_progress_temp.xlsx\")\n",
    "except FileNotFoundError:\n",
    "    pass  # If there's no file, we'll start fresh\n",
    "\n",
    "# Process data in chunks of 15 rows and save progress after each chunk\n",
    "for start in range(0, total_rows, 15):\n",
    "    end = min(start + 15, total_rows)  # Ensure we don't go out of bounds\n",
    "    \n",
    "    # Temporary lists to store values for this chunk\n",
    "    cities = []\n",
    "    districts = []\n",
    "    addresses = []\n",
    "    costs = []\n",
    "    genders = []\n",
    "    people_needed = []\n",
    "    long_terms = []\n",
    "    phone_numbers = []\n",
    "    utilities = []\n",
    "    deposits = []\n",
    "\n",
    "    for i in range(start, end):\n",
    "        try:\n",
    "            message = df_cleaned['message'].iloc[i] + \" \" + channel_name\n",
    "            structured_data = process_message_with_retry(message)  # Process message with retry logic\n",
    "\n",
    "            # Append parsed data or None if result is invalid\n",
    "            cities.append(structured_data.get('city') if structured_data else None)\n",
    "            districts.append(structured_data.get('district') if structured_data else None)\n",
    "            addresses.append(None)  # Placeholder for address\n",
    "            costs.append(structured_data.get('cost') if structured_data else None)\n",
    "            genders.append(structured_data.get('gender') if structured_data else None)\n",
    "            people_needed.append(structured_data.get('people_needed') if structured_data else None)\n",
    "            long_terms.append(structured_data.get('long_term') if structured_data else None)\n",
    "            phone_numbers.append(structured_data.get('phone_number') if structured_data else None)\n",
    "            utilities.append(structured_data.get('utilities') if structured_data else None)\n",
    "            deposits.append(structured_data.get('deposit') if structured_data else None)\n",
    "                \n",
    "        except Exception as e:\n",
    "            print(f\"Error processing row {i}: {e}\")\n",
    "            cities.append(None)\n",
    "            districts.append(None)\n",
    "            addresses.append(None)\n",
    "            costs.append(None)\n",
    "            genders.append(None)\n",
    "            people_needed.append(None)\n",
    "            long_terms.append(None)\n",
    "            phone_numbers.append(None)\n",
    "            utilities.append(None)\n",
    "            deposits.append(None)\n",
    "\n",
    "    # After each chunk, create a DataFrame for the chunk\n",
    "    chunk_df = pd.DataFrame({\n",
    "        'city': cities,\n",
    "        'district': districts,\n",
    "        'address': addresses,\n",
    "        'cost': costs,\n",
    "        'gender': genders,\n",
    "        'people_needed': people_needed,\n",
    "        'long_term': long_terms,\n",
    "        'phone_number': phone_numbers,\n",
    "        'utilities': utilities,\n",
    "        'deposit': deposits\n",
    "    }).dropna(how='all')  # Drop rows if all values are NaN\n",
    "\n",
    "    # Append chunk to df_cleaned only if chunk_df is not empty\n",
    "    if not chunk_df.empty:\n",
    "        df_cleaned = pd.concat([df_cleaned, chunk_df], ignore_index=True)\n",
    "\n",
    "    # Save progress to a temporary file after each chunk\n",
    "    df_cleaned.to_excel(\"df_cleaned_progress_temp.xlsx\", index=False)\n",
    "\n",
    "    # Wait for 60 seconds if rate limit errors are frequent\n",
    "    time.sleep(60)\n",
    "\n",
    "# Final save after processing all chunks\n",
    "df_cleaned.to_excel(\"df_cleaned_final.xlsx\", index=False)\n"
   ]
  },
  {
   "cell_type": "code",
   "execution_count": null,
   "id": "8424beee6b17f57e",
   "metadata": {
    "ExecuteTime": {
     "end_time": "2024-10-27T14:47:31.584742700Z",
     "start_time": "2024-10-27T14:47:31.561258Z"
    },
    "collapsed": false
   },
   "outputs": [],
   "source": [
    "df_cleaned.to_excel(\"df_cleaned_final.xlsx\")"
   ]
  },
  {
   "cell_type": "code",
   "execution_count": 49,
   "id": "172f63b501cfad6a",
   "metadata": {
    "ExecuteTime": {
     "end_time": "2024-10-27T14:30:02.220285100Z",
     "start_time": "2024-10-27T14:30:02.215763200Z"
    },
    "collapsed": false
   },
   "outputs": [
    {
     "data": {
      "text/plain": [
       "date                                  2024-10-27T16:23:45\n",
       "message    Подселениеге 2жігіт керек.Ауезов ауданында үй.\n",
       "Name: 45844, dtype: object"
      ]
     },
     "execution_count": 49,
     "metadata": {},
     "output_type": "execute_result"
    }
   ],
   "source": []
  }
 ],
 "metadata": {
  "kernelspec": {
   "display_name": "Python 3 (ipykernel)",
   "language": "python",
   "name": "python3"
  },
  "language_info": {
   "codemirror_mode": {
    "name": "ipython",
    "version": 3
   },
   "file_extension": ".py",
   "mimetype": "text/x-python",
   "name": "python",
   "nbconvert_exporter": "python",
   "pygments_lexer": "ipython3",
   "version": "3.12.4"
  }
 },
 "nbformat": 4,
 "nbformat_minor": 5
}
