{
 "cells": [
  {
   "cell_type": "code",
   "execution_count": 5,
   "outputs": [],
   "source": [
    "import pandas as pd\n",
    "from pandas import json_normalize\n",
    "import numpy as np\n",
    "import matplotlib.pyplot as plt"
   ],
   "metadata": {
    "collapsed": false,
    "ExecuteTime": {
     "end_time": "2024-10-24T13:15:40.479903700Z",
     "start_time": "2024-10-24T13:15:40.476863100Z"
    }
   },
   "id": "7c88db811bb2759b"
  },
  {
   "cell_type": "code",
   "execution_count": 45,
   "outputs": [
    {
     "name": "stdout",
     "output_type": "stream",
     "text": [
      "Аренда квартира Алматы\n"
     ]
    }
   ],
   "source": [
    "df = pd.read_json('SDU_Housing.json')\n",
    "\n",
    "df = json_normalize(df['messages'])\n",
    "channel_name = df['from'].dropna().iloc[0]\n",
    "df = df[['date', 'text_entities']]"
   ],
   "metadata": {
    "collapsed": false,
    "ExecuteTime": {
     "end_time": "2024-10-24T14:48:23.613654600Z",
     "start_time": "2024-10-24T14:48:23.258509Z"
    }
   },
   "id": "a48b7b98fc573190"
  },
  {
   "cell_type": "code",
   "execution_count": 23,
   "outputs": [
    {
     "data": {
      "text/plain": "                  date                                      text_entities\n0  2021-01-23T22:33:10                                                 []\n1  2021-09-06T14:31:17                                                 []\n2  2021-09-06T14:31:17                                                 []\n3  2021-09-06T14:31:17                                                 []\n4  2021-09-06T14:31:17  [{'type': 'plain', 'text': 'Сдам двухкомнатную...",
      "text/html": "<div>\n<style scoped>\n    .dataframe tbody tr th:only-of-type {\n        vertical-align: middle;\n    }\n\n    .dataframe tbody tr th {\n        vertical-align: top;\n    }\n\n    .dataframe thead th {\n        text-align: right;\n    }\n</style>\n<table border=\"1\" class=\"dataframe\">\n  <thead>\n    <tr style=\"text-align: right;\">\n      <th></th>\n      <th>date</th>\n      <th>text_entities</th>\n    </tr>\n  </thead>\n  <tbody>\n    <tr>\n      <th>0</th>\n      <td>2021-01-23T22:33:10</td>\n      <td>[]</td>\n    </tr>\n    <tr>\n      <th>1</th>\n      <td>2021-09-06T14:31:17</td>\n      <td>[]</td>\n    </tr>\n    <tr>\n      <th>2</th>\n      <td>2021-09-06T14:31:17</td>\n      <td>[]</td>\n    </tr>\n    <tr>\n      <th>3</th>\n      <td>2021-09-06T14:31:17</td>\n      <td>[]</td>\n    </tr>\n    <tr>\n      <th>4</th>\n      <td>2021-09-06T14:31:17</td>\n      <td>[{'type': 'plain', 'text': 'Сдам двухкомнатную...</td>\n    </tr>\n  </tbody>\n</table>\n</div>"
     },
     "execution_count": 23,
     "metadata": {},
     "output_type": "execute_result"
    }
   ],
   "source": [
    "df.head()"
   ],
   "metadata": {
    "collapsed": false,
    "ExecuteTime": {
     "end_time": "2024-10-24T13:23:26.316252400Z",
     "start_time": "2024-10-24T13:23:26.304824100Z"
    }
   },
   "id": "3ca836f5106d3b99"
  },
  {
   "cell_type": "code",
   "execution_count": 27,
   "outputs": [],
   "source": [
    "df = df[df['text_entities'].apply(lambda x: isinstance(x, list) and len(x) > 0)]\n",
    "\n",
    "def extract_message(text_entities):\n",
    "    try:\n",
    "        # Concatenate the 'text' fields from each dictionary in the list\n",
    "        return ''.join([entity['text'] for entity in text_entities if 'text' in entity])\n",
    "    except:\n",
    "        return None\n",
    "\n",
    "# Apply the function to create a new 'message' column\n",
    "df['message'] = df['text_entities'].apply(extract_message)\n",
    "\n",
    "# Drop the 'text_entities' column as it is no longer needed\n",
    "df_cleaned = df.drop(columns=['text_entities'])"
   ],
   "metadata": {
    "collapsed": false,
    "ExecuteTime": {
     "end_time": "2024-10-24T13:27:22.247483Z",
     "start_time": "2024-10-24T13:27:21.371859100Z"
    }
   },
   "id": "beab1725553561a4"
  },
  {
   "cell_type": "code",
   "execution_count": 65,
   "outputs": [],
   "source": [
    "df_cleaned = df_cleaned[df_cleaned['date'] >= '2024-10-10']\n",
    "df_cleaned = df_cleaned.head(10)"
   ],
   "metadata": {
    "collapsed": false,
    "ExecuteTime": {
     "end_time": "2024-10-24T15:13:15.430794400Z",
     "start_time": "2024-10-24T15:13:15.423244200Z"
    }
   },
   "id": "1d031e61a7332398"
  },
  {
   "cell_type": "code",
   "execution_count": 66,
   "outputs": [
    {
     "name": "stdout",
     "output_type": "stream",
     "text": [
      "city: Алматы\n",
      "district: null\n",
      "cost: 67000\n",
      "gender: female\n",
      "people_needed: 3\n",
      "long_term: null\n",
      "phone_number: 87073159210\n",
      "utilities: null\n",
      "deposit: 16000\n"
     ]
    }
   ],
   "source": [
    "from gemini1 import gemini\n",
    "\n",
    "message = df_cleaned['message'].iloc[9] + \"   \" + channel_name\n",
    "result = gemini(message)\n",
    "print(result)"
   ],
   "metadata": {
    "collapsed": false,
    "ExecuteTime": {
     "end_time": "2024-10-24T15:13:18.409422500Z",
     "start_time": "2024-10-24T15:13:16.621525600Z"
    }
   },
   "id": "3b04709143330fe6"
  },
  {
   "cell_type": "code",
   "execution_count": 67,
   "outputs": [
    {
     "name": "stdout",
     "output_type": "stream",
     "text": [
      "                      date                                            message  \\\n",
      "15289  2024-10-10T00:31:32  Заселиться нужно до 15 октября.\\nНужна квартир...   \n",
      "15290  2024-10-10T01:35:08  🎁 Осы топтың барлық жаңа пайдаланушылары үшін ...   \n",
      "15291  2024-10-10T09:39:26  СРОЧНО\\nПодселениеге 2 қыз іздеймін.\\nОплата а...   \n",
      "15292  2024-10-10T09:39:39  2х комнаталык кв 1 комнатасына 2   кыз или 2 у...   \n",
      "15293  2024-10-10T09:46:00  Алматы қаласы наурысбайски раион алма сити жк ...   \n",
      "15294  2024-10-10T12:10:35  Сдам  комнату платежеспособной и  аккуратной д...   \n",
      "15297  2024-10-10T13:21:27  Доброго дня 🪐 В двухкомнатной квартире сдается...   \n",
      "15298  2024-10-10T16:20:58  🚨Срочно🚨\\nСдаём  однокомнатную кв в хорошем со...   \n",
      "15304  2024-10-10T18:56:48  всем привет! ищем 2х девочек на подселение! \\n...   \n",
      "15305  2024-10-10T20:09:40  Кв 3 қыз керек срочно бүгін или ертен көшіп ке...   \n",
      "\n",
      "         city             district address      cost  gender  people_needed  \\\n",
      "15289  Алматы           Алатауский    None  130000.0    null            2.0   \n",
      "15290  Алматы                 null    None       NaN    null            NaN   \n",
      "15291  Алматы                 null    None   60000.0  female            2.0   \n",
      "15292  Алматы                 null    None       NaN  female            2.0   \n",
      "15293  Алматы  Наурызбайский район    None   50000.0  female            1.0   \n",
      "15294  Алматы            Медеуский    None   60000.0  female            1.0   \n",
      "15297  Алматы                 null    None  100000.0  female            1.0   \n",
      "15298  Алматы             Райымбек    None  170000.0    null            NaN   \n",
      "15304  Алматы        Бостандыкский    None   62500.0  female            2.0   \n",
      "15305  Алматы                 null    None   67000.0  female            3.0   \n",
      "\n",
      "      long_term phone_number utilities   deposit  \n",
      "15289      None  87055379728      None       NaN  \n",
      "15290      None         None      None       NaN  \n",
      "15291      None  87763133090      true   30000.0  \n",
      "15292      None  87071880474      None       NaN  \n",
      "15293      None  87007316391      None       NaN  \n",
      "15294      true         None      true       NaN  \n",
      "15297      None            8      true   30000.0  \n",
      "15298      None  87475368386      true  100000.0  \n",
      "15304      None  87002219895      true       NaN  \n",
      "15305      None  87073159210      None   16000.0  \n"
     ]
    }
   ],
   "source": [
    "import json\n",
    "from gemini1 import gemini\n",
    "from parse import parse_string\n",
    "import re\n",
    "\n",
    "# Initialize lists to store the extracted values for each column\n",
    "cities = []\n",
    "districts = []\n",
    "addresses = []\n",
    "costs = []\n",
    "genders = []\n",
    "people_needed = []\n",
    "long_terms = []\n",
    "phone_numbers = []\n",
    "utilities = []\n",
    "deposits = []\n",
    "\n",
    "# Iterate over the first 10 rows of df_cleaned\n",
    "for i in range(10):\n",
    "    message = df_cleaned['message'].iloc[i] + \" \" + channel_name\n",
    "    result = gemini(message)  # Process the message with the gemini function\n",
    "    \n",
    "    if result:\n",
    "        structured_data = parse_string(result)  # Parse the structured string\n",
    "\n",
    "        # Append the extracted values to the respective lists\n",
    "        cities.append(structured_data['city'])\n",
    "        districts.append(structured_data['district'])\n",
    "        addresses.append(None)  # Assuming no address in the result string for now\n",
    "        costs.append(structured_data['cost'])\n",
    "        genders.append(structured_data['gender'])\n",
    "        people_needed.append(structured_data['people_needed'])\n",
    "        long_terms.append(structured_data['long_term'])\n",
    "        phone_numbers.append(structured_data['phone_number'])\n",
    "        utilities.append(structured_data['utilities'])\n",
    "        deposits.append(structured_data['deposit'])\n",
    "    else:\n",
    "        # Append None for each field if the result is empty or invalid\n",
    "        cities.append(None)\n",
    "        districts.append(None)\n",
    "        addresses.append(None)\n",
    "        costs.append(None)\n",
    "        genders.append(None)\n",
    "        people_needed.append(None)\n",
    "        long_terms.append(None)\n",
    "        phone_numbers.append(None)\n",
    "        utilities.append(None)\n",
    "        deposits.append(None)\n",
    "\n",
    "# Add the new columns to df_cleaned\n",
    "df_cleaned['city'] = cities\n",
    "df_cleaned['district'] = districts\n",
    "df_cleaned['address'] = addresses\n",
    "df_cleaned['cost'] = costs\n",
    "df_cleaned['gender'] = genders\n",
    "df_cleaned['people_needed'] = people_needed\n",
    "df_cleaned['long_term'] = long_terms\n",
    "df_cleaned['phone_number'] = phone_numbers\n",
    "df_cleaned['utilities'] = utilities\n",
    "df_cleaned['deposit'] = deposits\n",
    "\n",
    "# Display the updated DataFrame\n",
    "df_cleaned\n"
   ],
   "metadata": {
    "collapsed": false,
    "ExecuteTime": {
     "end_time": "2024-10-24T15:13:39.777333Z",
     "start_time": "2024-10-24T15:13:20.889821600Z"
    }
   },
   "id": "44093cdec9ef3e85"
  },
  {
   "cell_type": "code",
   "execution_count": 68,
   "outputs": [
    {
     "data": {
      "text/plain": "                      date                                            message  \\\n15289  2024-10-10T00:31:32  Заселиться нужно до 15 октября.\\nНужна квартир...   \n15290  2024-10-10T01:35:08  🎁 Осы топтың барлық жаңа пайдаланушылары үшін ...   \n15291  2024-10-10T09:39:26  СРОЧНО\\nПодселениеге 2 қыз іздеймін.\\nОплата а...   \n15292  2024-10-10T09:39:39  2х комнаталык кв 1 комнатасына 2   кыз или 2 у...   \n15293  2024-10-10T09:46:00  Алматы қаласы наурысбайски раион алма сити жк ...   \n15294  2024-10-10T12:10:35  Сдам  комнату платежеспособной и  аккуратной д...   \n15297  2024-10-10T13:21:27  Доброго дня 🪐 В двухкомнатной квартире сдается...   \n15298  2024-10-10T16:20:58  🚨Срочно🚨\\nСдаём  однокомнатную кв в хорошем со...   \n15304  2024-10-10T18:56:48  всем привет! ищем 2х девочек на подселение! \\n...   \n15305  2024-10-10T20:09:40  Кв 3 қыз керек срочно бүгін или ертен көшіп ке...   \n\n         city             district address      cost  gender  people_needed  \\\n15289  Алматы           Алатауский    None  130000.0    null            2.0   \n15290  Алматы                 null    None       NaN    null            NaN   \n15291  Алматы                 null    None   60000.0  female            2.0   \n15292  Алматы                 null    None       NaN  female            2.0   \n15293  Алматы  Наурызбайский район    None   50000.0  female            1.0   \n15294  Алматы            Медеуский    None   60000.0  female            1.0   \n15297  Алматы                 null    None  100000.0  female            1.0   \n15298  Алматы             Райымбек    None  170000.0    null            NaN   \n15304  Алматы        Бостандыкский    None   62500.0  female            2.0   \n15305  Алматы                 null    None   67000.0  female            3.0   \n\n      long_term phone_number utilities   deposit  \n15289      None  87055379728      None       NaN  \n15290      None         None      None       NaN  \n15291      None  87763133090      true   30000.0  \n15292      None  87071880474      None       NaN  \n15293      None  87007316391      None       NaN  \n15294      true         None      true       NaN  \n15297      None            8      true   30000.0  \n15298      None  87475368386      true  100000.0  \n15304      None  87002219895      true       NaN  \n15305      None  87073159210      None   16000.0  ",
      "text/html": "<div>\n<style scoped>\n    .dataframe tbody tr th:only-of-type {\n        vertical-align: middle;\n    }\n\n    .dataframe tbody tr th {\n        vertical-align: top;\n    }\n\n    .dataframe thead th {\n        text-align: right;\n    }\n</style>\n<table border=\"1\" class=\"dataframe\">\n  <thead>\n    <tr style=\"text-align: right;\">\n      <th></th>\n      <th>date</th>\n      <th>message</th>\n      <th>city</th>\n      <th>district</th>\n      <th>address</th>\n      <th>cost</th>\n      <th>gender</th>\n      <th>people_needed</th>\n      <th>long_term</th>\n      <th>phone_number</th>\n      <th>utilities</th>\n      <th>deposit</th>\n    </tr>\n  </thead>\n  <tbody>\n    <tr>\n      <th>15289</th>\n      <td>2024-10-10T00:31:32</td>\n      <td>Заселиться нужно до 15 октября.\\nНужна квартир...</td>\n      <td>Алматы</td>\n      <td>Алатауский</td>\n      <td>None</td>\n      <td>130000.0</td>\n      <td>null</td>\n      <td>2.0</td>\n      <td>None</td>\n      <td>87055379728</td>\n      <td>None</td>\n      <td>NaN</td>\n    </tr>\n    <tr>\n      <th>15290</th>\n      <td>2024-10-10T01:35:08</td>\n      <td>🎁 Осы топтың барлық жаңа пайдаланушылары үшін ...</td>\n      <td>Алматы</td>\n      <td>null</td>\n      <td>None</td>\n      <td>NaN</td>\n      <td>null</td>\n      <td>NaN</td>\n      <td>None</td>\n      <td>None</td>\n      <td>None</td>\n      <td>NaN</td>\n    </tr>\n    <tr>\n      <th>15291</th>\n      <td>2024-10-10T09:39:26</td>\n      <td>СРОЧНО\\nПодселениеге 2 қыз іздеймін.\\nОплата а...</td>\n      <td>Алматы</td>\n      <td>null</td>\n      <td>None</td>\n      <td>60000.0</td>\n      <td>female</td>\n      <td>2.0</td>\n      <td>None</td>\n      <td>87763133090</td>\n      <td>true</td>\n      <td>30000.0</td>\n    </tr>\n    <tr>\n      <th>15292</th>\n      <td>2024-10-10T09:39:39</td>\n      <td>2х комнаталык кв 1 комнатасына 2   кыз или 2 у...</td>\n      <td>Алматы</td>\n      <td>null</td>\n      <td>None</td>\n      <td>NaN</td>\n      <td>female</td>\n      <td>2.0</td>\n      <td>None</td>\n      <td>87071880474</td>\n      <td>None</td>\n      <td>NaN</td>\n    </tr>\n    <tr>\n      <th>15293</th>\n      <td>2024-10-10T09:46:00</td>\n      <td>Алматы қаласы наурысбайски раион алма сити жк ...</td>\n      <td>Алматы</td>\n      <td>Наурызбайский район</td>\n      <td>None</td>\n      <td>50000.0</td>\n      <td>female</td>\n      <td>1.0</td>\n      <td>None</td>\n      <td>87007316391</td>\n      <td>None</td>\n      <td>NaN</td>\n    </tr>\n    <tr>\n      <th>15294</th>\n      <td>2024-10-10T12:10:35</td>\n      <td>Сдам  комнату платежеспособной и  аккуратной д...</td>\n      <td>Алматы</td>\n      <td>Медеуский</td>\n      <td>None</td>\n      <td>60000.0</td>\n      <td>female</td>\n      <td>1.0</td>\n      <td>true</td>\n      <td>None</td>\n      <td>true</td>\n      <td>NaN</td>\n    </tr>\n    <tr>\n      <th>15297</th>\n      <td>2024-10-10T13:21:27</td>\n      <td>Доброго дня 🪐 В двухкомнатной квартире сдается...</td>\n      <td>Алматы</td>\n      <td>null</td>\n      <td>None</td>\n      <td>100000.0</td>\n      <td>female</td>\n      <td>1.0</td>\n      <td>None</td>\n      <td>8</td>\n      <td>true</td>\n      <td>30000.0</td>\n    </tr>\n    <tr>\n      <th>15298</th>\n      <td>2024-10-10T16:20:58</td>\n      <td>🚨Срочно🚨\\nСдаём  однокомнатную кв в хорошем со...</td>\n      <td>Алматы</td>\n      <td>Райымбек</td>\n      <td>None</td>\n      <td>170000.0</td>\n      <td>null</td>\n      <td>NaN</td>\n      <td>None</td>\n      <td>87475368386</td>\n      <td>true</td>\n      <td>100000.0</td>\n    </tr>\n    <tr>\n      <th>15304</th>\n      <td>2024-10-10T18:56:48</td>\n      <td>всем привет! ищем 2х девочек на подселение! \\n...</td>\n      <td>Алматы</td>\n      <td>Бостандыкский</td>\n      <td>None</td>\n      <td>62500.0</td>\n      <td>female</td>\n      <td>2.0</td>\n      <td>None</td>\n      <td>87002219895</td>\n      <td>true</td>\n      <td>NaN</td>\n    </tr>\n    <tr>\n      <th>15305</th>\n      <td>2024-10-10T20:09:40</td>\n      <td>Кв 3 қыз керек срочно бүгін или ертен көшіп ке...</td>\n      <td>Алматы</td>\n      <td>null</td>\n      <td>None</td>\n      <td>67000.0</td>\n      <td>female</td>\n      <td>3.0</td>\n      <td>None</td>\n      <td>87073159210</td>\n      <td>None</td>\n      <td>16000.0</td>\n    </tr>\n  </tbody>\n</table>\n</div>"
     },
     "execution_count": 68,
     "metadata": {},
     "output_type": "execute_result"
    }
   ],
   "source": [
    "df_cleaned"
   ],
   "metadata": {
    "collapsed": false,
    "ExecuteTime": {
     "end_time": "2024-10-24T15:13:52.374383100Z",
     "start_time": "2024-10-24T15:13:52.356440800Z"
    }
   },
   "id": "aee78c8245d220bb"
  },
  {
   "cell_type": "code",
   "execution_count": null,
   "outputs": [],
   "source": [],
   "metadata": {
    "collapsed": false
   },
   "id": "c911a5828e6f500c"
  }
 ],
 "metadata": {
  "kernelspec": {
   "display_name": "Python 3",
   "language": "python",
   "name": "python3"
  },
  "language_info": {
   "codemirror_mode": {
    "name": "ipython",
    "version": 2
   },
   "file_extension": ".py",
   "mimetype": "text/x-python",
   "name": "python",
   "nbconvert_exporter": "python",
   "pygments_lexer": "ipython2",
   "version": "2.7.6"
  }
 },
 "nbformat": 4,
 "nbformat_minor": 5
}
