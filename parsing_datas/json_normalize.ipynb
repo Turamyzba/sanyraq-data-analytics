{
 "cells": [
  {
   "cell_type": "code",
   "execution_count": 1,
   "id": "7c88db811bb2759b",
   "metadata": {
    "collapsed": false,
    "ExecuteTime": {
     "end_time": "2024-11-07T12:01:23.042643Z",
     "start_time": "2024-11-07T12:01:22.163988900Z"
    }
   },
   "outputs": [],
   "source": [
    "import pandas as pd\n",
    "\n",
    "# Step 1: Load the CSV without the \"Unnamed: 0\" column\n",
    "combined_df = pd.read_csv('All_in_one.csv', index_col=0)\n",
    "\n",
    "# Step 2: Save it without adding an index\n",
    "# combined_df.to_csv('All_in_one.csv', index=False)"
   ]
  },
  {
   "cell_type": "code",
   "execution_count": 11,
   "outputs": [
    {
     "data": {
      "text/plain": "                      date                                            message  \\\n0      2024-10-31 19:19:02  Ищем на подселение 1 девушку Квартира 3 комнат...   \n1      2024-10-31 18:32:46  Всем привет ищу 12 девочку к себе на подселени...   \n2      2024-10-31 18:23:14  Алма Сити 5 екы жыгыт ыздеймыз поселениеге 50к...   \n3      2024-10-31 17:43:32  СДУға жақын жерде орналасқан коттедж үй жалға ...   \n4      2024-10-31 16:42:10  ищем одну девушку на подселение в однокомнатну...   \n...                    ...                                                ...   \n71566  2024-09-19 11:59:23  Сниму квартиру в районе сахзаводана длительный...   \n71567  2024-09-19 11:45:18  Подселение в 2х комнатную кв Проживание с ХОЗЯ...   \n71568  2024-09-08 22:21:26  Здравствуйтепомогу с поиском квартиры по вашем...   \n71569  2024-09-04 21:54:05             Сниму 12комнкв в 15 мкр на долгий срок   \n71570  2024-04-06 07:46:24  Подселение в 2х комнатную кв Проживание с ХОЗЯ...   \n\n                                            channel_name    city  \n0                                          SDU [housing]  Almaty  \n1                                          SDU [housing]  Almaty  \n2                                          SDU [housing]  Almaty  \n3                                          SDU [housing]  Almaty  \n4                                          SDU [housing]  Almaty  \n...                                                  ...     ...  \n71566  ТАРАЗ КВАРТИРА ВРЕМЯНКА ДОМ СДАМ СНИМУ ПОДСЕЛЕНИЕ   Taraz  \n71567  ТАРАЗ КВАРТИРА ВРЕМЯНКА ДОМ СДАМ СНИМУ ПОДСЕЛЕНИЕ   Taraz  \n71568  ТАРАЗ КВАРТИРА ВРЕМЯНКА ДОМ СДАМ СНИМУ ПОДСЕЛЕНИЕ   Taraz  \n71569  ТАРАЗ КВАРТИРА ВРЕМЯНКА ДОМ СДАМ СНИМУ ПОДСЕЛЕНИЕ   Taraz  \n71570  ТАРАЗ КВАРТИРА ВРЕМЯНКА ДОМ СДАМ СНИМУ ПОДСЕЛЕНИЕ   Taraz  \n\n[71571 rows x 4 columns]",
      "text/html": "<div>\n<style scoped>\n    .dataframe tbody tr th:only-of-type {\n        vertical-align: middle;\n    }\n\n    .dataframe tbody tr th {\n        vertical-align: top;\n    }\n\n    .dataframe thead th {\n        text-align: right;\n    }\n</style>\n<table border=\"1\" class=\"dataframe\">\n  <thead>\n    <tr style=\"text-align: right;\">\n      <th></th>\n      <th>date</th>\n      <th>message</th>\n      <th>channel_name</th>\n      <th>city</th>\n    </tr>\n  </thead>\n  <tbody>\n    <tr>\n      <th>0</th>\n      <td>2024-10-31 19:19:02</td>\n      <td>Ищем на подселение 1 девушку Квартира 3 комнат...</td>\n      <td>SDU [housing]</td>\n      <td>Almaty</td>\n    </tr>\n    <tr>\n      <th>1</th>\n      <td>2024-10-31 18:32:46</td>\n      <td>Всем привет ищу 12 девочку к себе на подселени...</td>\n      <td>SDU [housing]</td>\n      <td>Almaty</td>\n    </tr>\n    <tr>\n      <th>2</th>\n      <td>2024-10-31 18:23:14</td>\n      <td>Алма Сити 5 екы жыгыт ыздеймыз поселениеге 50к...</td>\n      <td>SDU [housing]</td>\n      <td>Almaty</td>\n    </tr>\n    <tr>\n      <th>3</th>\n      <td>2024-10-31 17:43:32</td>\n      <td>СДУға жақын жерде орналасқан коттедж үй жалға ...</td>\n      <td>SDU [housing]</td>\n      <td>Almaty</td>\n    </tr>\n    <tr>\n      <th>4</th>\n      <td>2024-10-31 16:42:10</td>\n      <td>ищем одну девушку на подселение в однокомнатну...</td>\n      <td>SDU [housing]</td>\n      <td>Almaty</td>\n    </tr>\n    <tr>\n      <th>...</th>\n      <td>...</td>\n      <td>...</td>\n      <td>...</td>\n      <td>...</td>\n    </tr>\n    <tr>\n      <th>71566</th>\n      <td>2024-09-19 11:59:23</td>\n      <td>Сниму квартиру в районе сахзаводана длительный...</td>\n      <td>ТАРАЗ КВАРТИРА ВРЕМЯНКА ДОМ СДАМ СНИМУ ПОДСЕЛЕНИЕ</td>\n      <td>Taraz</td>\n    </tr>\n    <tr>\n      <th>71567</th>\n      <td>2024-09-19 11:45:18</td>\n      <td>Подселение в 2х комнатную кв Проживание с ХОЗЯ...</td>\n      <td>ТАРАЗ КВАРТИРА ВРЕМЯНКА ДОМ СДАМ СНИМУ ПОДСЕЛЕНИЕ</td>\n      <td>Taraz</td>\n    </tr>\n    <tr>\n      <th>71568</th>\n      <td>2024-09-08 22:21:26</td>\n      <td>Здравствуйтепомогу с поиском квартиры по вашем...</td>\n      <td>ТАРАЗ КВАРТИРА ВРЕМЯНКА ДОМ СДАМ СНИМУ ПОДСЕЛЕНИЕ</td>\n      <td>Taraz</td>\n    </tr>\n    <tr>\n      <th>71569</th>\n      <td>2024-09-04 21:54:05</td>\n      <td>Сниму 12комнкв в 15 мкр на долгий срок</td>\n      <td>ТАРАЗ КВАРТИРА ВРЕМЯНКА ДОМ СДАМ СНИМУ ПОДСЕЛЕНИЕ</td>\n      <td>Taraz</td>\n    </tr>\n    <tr>\n      <th>71570</th>\n      <td>2024-04-06 07:46:24</td>\n      <td>Подселение в 2х комнатную кв Проживание с ХОЗЯ...</td>\n      <td>ТАРАЗ КВАРТИРА ВРЕМЯНКА ДОМ СДАМ СНИМУ ПОДСЕЛЕНИЕ</td>\n      <td>Taraz</td>\n    </tr>\n  </tbody>\n</table>\n<p>71571 rows × 4 columns</p>\n</div>"
     },
     "execution_count": 11,
     "metadata": {},
     "output_type": "execute_result"
    }
   ],
   "source": [
    "combined_df = pd.read_csv('All_in_one.csv')\n",
    "# combined_df = combined_df.loc[:, ~combined_df.columns.str.contains('^Unnamed')]\n",
    "# combined_df['date'] = pd.to_datetime(combined_df['date'])\n",
    "# combined_df.to_csv('All_in_one.csv', index=False)\n",
    "combined_df"
   ],
   "metadata": {
    "collapsed": false,
    "ExecuteTime": {
     "end_time": "2024-11-05T19:10:57.408200900Z",
     "start_time": "2024-11-05T19:10:56.572533300Z"
    }
   },
   "id": "11890bfc52afc793"
  },
  {
   "cell_type": "code",
   "execution_count": 12,
   "outputs": [
    {
     "data": {
      "text/plain": "71571"
     },
     "execution_count": 12,
     "metadata": {},
     "output_type": "execute_result"
    }
   ],
   "source": [
    "len(combined_df)"
   ],
   "metadata": {
    "collapsed": false,
    "ExecuteTime": {
     "end_time": "2024-11-05T19:11:09.228276300Z",
     "start_time": "2024-11-05T19:11:09.214239400Z"
    }
   },
   "id": "30d14c59175a80d3"
  },
  {
   "cell_type": "code",
   "execution_count": 3,
   "outputs": [
    {
     "name": "stdout",
     "output_type": "stream",
     "text": [
      "Квартирага 1бала керек Ішпейтіншекпейтінтазалықты сақтайтын болу керек Квартира сдудан 5мин жерде 4бала болып турамыз Бір айға 500 00 Коммуналка бәрі ішінде Толығырақ жекеге\n",
      "address: Квартира сдудан 5мин жерде\n",
      "cost: 50000\n",
      "gender: null\n",
      "people_needed: 1\n",
      "long_term: False\n",
      "phone_number: null\n",
      "utilities: True\n",
      "deposit: null\n"
     ]
    }
   ],
   "source": [
    "from gemini1 import gemini\n",
    "import re\n",
    "\n",
    "mes = combined_df['message'].iloc[1000]\n",
    "print(mes)\n",
    "print(gemini(mes))"
   ],
   "metadata": {
    "collapsed": false,
    "ExecuteTime": {
     "end_time": "2024-11-07T12:01:41.950832800Z",
     "start_time": "2024-11-07T12:01:39.446982800Z"
    }
   },
   "id": "6c98e2771f9c0ee1"
  },
  {
   "cell_type": "code",
   "execution_count": 41,
   "outputs": [
    {
     "data": {
      "text/plain": "                      date                                            message  \\\n46520  2024-10-28 16:40:34  Привет ищем 3х девушек для подселения 3х комна...   \n46521  2024-10-27 17:30:22  Ищем третью девочку на подселение чистоплотную...   \n46522  2024-10-27 17:30:08  СРОЧНО Ищем одну девочку на заселение на долги...   \n46523  2024-10-27 17:29:54  СРОЧНО Ищем девочку на подселение в ЖК Будем ж...   \n46524  2024-10-25 17:00:55  Срочно ищем соседку Жк Ищем одну девочку на за...   \n...                    ...                                                ...   \n67956  2024-10-28 23:28:37  Келесі айдың 5і нен бастап көшетін кв керек 2 ...   \n67957  2024-10-28 02:25:25  Квартира іздеймін 1 бөлмелі Барлық жағдайы жас...   \n67958  2024-10-28 01:39:27  Ищу квартиру В районе пединститута либо школьн...   \n67959  2024-10-20 21:44:37  Бирге туруга кв керек подселение Центр жактан ...   \n67960  2024-10-20 11:54:04  Қасыма бірге тұратын 1 немесе 2 қыз керек Адрс...   \n\n                                 channel_name    city district address  cost  \\\n46520                              DAILY ХАТА  Astana     None    None  None   \n46521                              DAILY ХАТА  Astana     None    None  None   \n46522                              DAILY ХАТА  Astana     None    None  None   \n46523                              DAILY ХАТА  Astana     None    None  None   \n46524                              DAILY ХАТА  Astana     None    None  None   \n...                                       ...     ...      ...     ...   ...   \n67956  Уральск Квартира  Орал КВАРТИРА Аренда    Oral     None    None  None   \n67957  Уральск Квартира  Орал КВАРТИРА Аренда    Oral     None    None  None   \n67958  Уральск Квартира  Орал КВАРТИРА Аренда    Oral     None    None  None   \n67959  Уральск Квартира  Орал КВАРТИРА Аренда    Oral     None    None  None   \n67960  Уральск Квартира  Орал КВАРТИРА Аренда    Oral     None    None  None   \n\n      gender people_needed long_term phone_number utilities deposit  \n46520   None          None      None         None      None    None  \n46521   None          None      None         None      None    None  \n46522   None          None      None         None      None    None  \n46523   None          None      None         None      None    None  \n46524   None          None      None         None      None    None  \n...      ...           ...       ...          ...       ...     ...  \n67956   None          None      None         None      None    None  \n67957   None          None      None         None      None    None  \n67958   None          None      None         None      None    None  \n67959   None          None      None         None      None    None  \n67960   None          None      None         None      None    None  \n\n[215 rows x 13 columns]",
      "text/html": "<div>\n<style scoped>\n    .dataframe tbody tr th:only-of-type {\n        vertical-align: middle;\n    }\n\n    .dataframe tbody tr th {\n        vertical-align: top;\n    }\n\n    .dataframe thead th {\n        text-align: right;\n    }\n</style>\n<table border=\"1\" class=\"dataframe\">\n  <thead>\n    <tr style=\"text-align: right;\">\n      <th></th>\n      <th>date</th>\n      <th>message</th>\n      <th>channel_name</th>\n      <th>city</th>\n      <th>district</th>\n      <th>address</th>\n      <th>cost</th>\n      <th>gender</th>\n      <th>people_needed</th>\n      <th>long_term</th>\n      <th>phone_number</th>\n      <th>utilities</th>\n      <th>deposit</th>\n    </tr>\n  </thead>\n  <tbody>\n    <tr>\n      <th>46520</th>\n      <td>2024-10-28 16:40:34</td>\n      <td>Привет ищем 3х девушек для подселения 3х комна...</td>\n      <td>DAILY ХАТА</td>\n      <td>Astana</td>\n      <td>None</td>\n      <td>None</td>\n      <td>None</td>\n      <td>None</td>\n      <td>None</td>\n      <td>None</td>\n      <td>None</td>\n      <td>None</td>\n      <td>None</td>\n    </tr>\n    <tr>\n      <th>46521</th>\n      <td>2024-10-27 17:30:22</td>\n      <td>Ищем третью девочку на подселение чистоплотную...</td>\n      <td>DAILY ХАТА</td>\n      <td>Astana</td>\n      <td>None</td>\n      <td>None</td>\n      <td>None</td>\n      <td>None</td>\n      <td>None</td>\n      <td>None</td>\n      <td>None</td>\n      <td>None</td>\n      <td>None</td>\n    </tr>\n    <tr>\n      <th>46522</th>\n      <td>2024-10-27 17:30:08</td>\n      <td>СРОЧНО Ищем одну девочку на заселение на долги...</td>\n      <td>DAILY ХАТА</td>\n      <td>Astana</td>\n      <td>None</td>\n      <td>None</td>\n      <td>None</td>\n      <td>None</td>\n      <td>None</td>\n      <td>None</td>\n      <td>None</td>\n      <td>None</td>\n      <td>None</td>\n    </tr>\n    <tr>\n      <th>46523</th>\n      <td>2024-10-27 17:29:54</td>\n      <td>СРОЧНО Ищем девочку на подселение в ЖК Будем ж...</td>\n      <td>DAILY ХАТА</td>\n      <td>Astana</td>\n      <td>None</td>\n      <td>None</td>\n      <td>None</td>\n      <td>None</td>\n      <td>None</td>\n      <td>None</td>\n      <td>None</td>\n      <td>None</td>\n      <td>None</td>\n    </tr>\n    <tr>\n      <th>46524</th>\n      <td>2024-10-25 17:00:55</td>\n      <td>Срочно ищем соседку Жк Ищем одну девочку на за...</td>\n      <td>DAILY ХАТА</td>\n      <td>Astana</td>\n      <td>None</td>\n      <td>None</td>\n      <td>None</td>\n      <td>None</td>\n      <td>None</td>\n      <td>None</td>\n      <td>None</td>\n      <td>None</td>\n      <td>None</td>\n    </tr>\n    <tr>\n      <th>...</th>\n      <td>...</td>\n      <td>...</td>\n      <td>...</td>\n      <td>...</td>\n      <td>...</td>\n      <td>...</td>\n      <td>...</td>\n      <td>...</td>\n      <td>...</td>\n      <td>...</td>\n      <td>...</td>\n      <td>...</td>\n      <td>...</td>\n    </tr>\n    <tr>\n      <th>67956</th>\n      <td>2024-10-28 23:28:37</td>\n      <td>Келесі айдың 5і нен бастап көшетін кв керек 2 ...</td>\n      <td>Уральск Квартира  Орал КВАРТИРА Аренда</td>\n      <td>Oral</td>\n      <td>None</td>\n      <td>None</td>\n      <td>None</td>\n      <td>None</td>\n      <td>None</td>\n      <td>None</td>\n      <td>None</td>\n      <td>None</td>\n      <td>None</td>\n    </tr>\n    <tr>\n      <th>67957</th>\n      <td>2024-10-28 02:25:25</td>\n      <td>Квартира іздеймін 1 бөлмелі Барлық жағдайы жас...</td>\n      <td>Уральск Квартира  Орал КВАРТИРА Аренда</td>\n      <td>Oral</td>\n      <td>None</td>\n      <td>None</td>\n      <td>None</td>\n      <td>None</td>\n      <td>None</td>\n      <td>None</td>\n      <td>None</td>\n      <td>None</td>\n      <td>None</td>\n    </tr>\n    <tr>\n      <th>67958</th>\n      <td>2024-10-28 01:39:27</td>\n      <td>Ищу квартиру В районе пединститута либо школьн...</td>\n      <td>Уральск Квартира  Орал КВАРТИРА Аренда</td>\n      <td>Oral</td>\n      <td>None</td>\n      <td>None</td>\n      <td>None</td>\n      <td>None</td>\n      <td>None</td>\n      <td>None</td>\n      <td>None</td>\n      <td>None</td>\n      <td>None</td>\n    </tr>\n    <tr>\n      <th>67959</th>\n      <td>2024-10-20 21:44:37</td>\n      <td>Бирге туруга кв керек подселение Центр жактан ...</td>\n      <td>Уральск Квартира  Орал КВАРТИРА Аренда</td>\n      <td>Oral</td>\n      <td>None</td>\n      <td>None</td>\n      <td>None</td>\n      <td>None</td>\n      <td>None</td>\n      <td>None</td>\n      <td>None</td>\n      <td>None</td>\n      <td>None</td>\n    </tr>\n    <tr>\n      <th>67960</th>\n      <td>2024-10-20 11:54:04</td>\n      <td>Қасыма бірге тұратын 1 немесе 2 қыз керек Адрс...</td>\n      <td>Уральск Квартира  Орал КВАРТИРА Аренда</td>\n      <td>Oral</td>\n      <td>None</td>\n      <td>None</td>\n      <td>None</td>\n      <td>None</td>\n      <td>None</td>\n      <td>None</td>\n      <td>None</td>\n      <td>None</td>\n      <td>None</td>\n    </tr>\n  </tbody>\n</table>\n<p>215 rows × 13 columns</p>\n</div>"
     },
     "execution_count": 41,
     "metadata": {},
     "output_type": "execute_result"
    }
   ],
   "source": [
    "new_df = (\n",
    "    combined_df.sort_values(by=['channel_name', 'date'], ascending=[True, False])\n",
    "    .groupby('channel_name')\n",
    "    .head(10)\n",
    ")\n",
    "new_df['district'] = None\n",
    "new_df['address'] = None\n",
    "new_df['cost'] = None\n",
    "new_df['gender'] = None\n",
    "new_df['people_needed'] = None\n",
    "new_df['long_term'] = None\n",
    "new_df['phone_number'] = None\n",
    "new_df['utilities'] = None\n",
    "new_df['deposit'] = None\n",
    "\n",
    "new_df"
   ],
   "metadata": {
    "collapsed": false,
    "ExecuteTime": {
     "end_time": "2024-11-05T19:58:07.537765200Z",
     "start_time": "2024-11-05T19:58:07.409479900Z"
    }
   },
   "id": "ae44b5d20b194819"
  },
  {
   "cell_type": "code",
   "execution_count": 43,
   "outputs": [
    {
     "data": {
      "text/plain": "                      date                                            message  \\\n46520  2024-10-28 16:40:34  Привет ищем 3х девушек для подселения 3х комна...   \n46521  2024-10-27 17:30:22  Ищем третью девочку на подселение чистоплотную...   \n46522  2024-10-27 17:30:08  СРОЧНО Ищем одну девочку на заселение на долги...   \n46523  2024-10-27 17:29:54  СРОЧНО Ищем девочку на подселение в ЖК Будем ж...   \n46524  2024-10-25 17:00:55  Срочно ищем соседку Жк Ищем одну девочку на за...   \n...                    ...                                                ...   \n67956  2024-10-28 23:28:37  Келесі айдың 5і нен бастап көшетін кв керек 2 ...   \n67957  2024-10-28 02:25:25  Квартира іздеймін 1 бөлмелі Барлық жағдайы жас...   \n67958  2024-10-28 01:39:27  Ищу квартиру В районе пединститута либо школьн...   \n67959  2024-10-20 21:44:37  Бирге туруга кв керек подселение Центр жактан ...   \n67960  2024-10-20 11:54:04  Қасыма бірге тұратын 1 немесе 2 қыз керек Адрс...   \n\n                                 channel_name    city district  \\\n46520                              DAILY ХАТА  Astana     None   \n46521                              DAILY ХАТА  Astana     None   \n46522                              DAILY ХАТА  Astana     None   \n46523                              DAILY ХАТА  Astana     None   \n46524                              DAILY ХАТА  Astana     None   \n...                                       ...     ...      ...   \n67956  Уральск Квартира  Орал КВАРТИРА Аренда    Oral     None   \n67957  Уральск Квартира  Орал КВАРТИРА Аренда    Oral     None   \n67958  Уральск Квартира  Орал КВАРТИРА Аренда    Oral     None   \n67959  Уральск Квартира  Орал КВАРТИРА Аренда    Oral     None   \n67960  Уральск Квартира  Орал КВАРТИРА Аренда    Oral     None   \n\n                       address   cost  gender people_needed long_term  \\\n46520                     null     60  female             3     False   \n46521                 Жк Сенім     60  female             1     False   \n46522            ЖК Будем жить  60000  female             1      True   \n46523            ЖК Будем жить     60  female             1     False   \n46524     Жк Ищем одну девочку     65  female             1     False   \n...                        ...    ...     ...           ...       ...   \n67956                     None   None    None          None     False   \n67957                     None   None    None          None     False   \n67958                     null   2535    null          None     False   \n67959                     None   None    None          None     False   \n67960  ОстМолодёжный 2комт 70к   None  female             2     False   \n\n      phone_number utilities deposit  \n46520         null      True    None  \n46521         null      True    None  \n46522         null      True    None  \n46523         null      True    None  \n46524         null      True    None  \n...            ...       ...     ...  \n67956         None     False    None  \n67957         None     False    None  \n67958  77788077747     False    None  \n67959         None     False    None  \n67960  87759911625      True    None  \n\n[215 rows x 13 columns]",
      "text/html": "<div>\n<style scoped>\n    .dataframe tbody tr th:only-of-type {\n        vertical-align: middle;\n    }\n\n    .dataframe tbody tr th {\n        vertical-align: top;\n    }\n\n    .dataframe thead th {\n        text-align: right;\n    }\n</style>\n<table border=\"1\" class=\"dataframe\">\n  <thead>\n    <tr style=\"text-align: right;\">\n      <th></th>\n      <th>date</th>\n      <th>message</th>\n      <th>channel_name</th>\n      <th>city</th>\n      <th>district</th>\n      <th>address</th>\n      <th>cost</th>\n      <th>gender</th>\n      <th>people_needed</th>\n      <th>long_term</th>\n      <th>phone_number</th>\n      <th>utilities</th>\n      <th>deposit</th>\n    </tr>\n  </thead>\n  <tbody>\n    <tr>\n      <th>46520</th>\n      <td>2024-10-28 16:40:34</td>\n      <td>Привет ищем 3х девушек для подселения 3х комна...</td>\n      <td>DAILY ХАТА</td>\n      <td>Astana</td>\n      <td>None</td>\n      <td>null</td>\n      <td>60</td>\n      <td>female</td>\n      <td>3</td>\n      <td>False</td>\n      <td>null</td>\n      <td>True</td>\n      <td>None</td>\n    </tr>\n    <tr>\n      <th>46521</th>\n      <td>2024-10-27 17:30:22</td>\n      <td>Ищем третью девочку на подселение чистоплотную...</td>\n      <td>DAILY ХАТА</td>\n      <td>Astana</td>\n      <td>None</td>\n      <td>Жк Сенім</td>\n      <td>60</td>\n      <td>female</td>\n      <td>1</td>\n      <td>False</td>\n      <td>null</td>\n      <td>True</td>\n      <td>None</td>\n    </tr>\n    <tr>\n      <th>46522</th>\n      <td>2024-10-27 17:30:08</td>\n      <td>СРОЧНО Ищем одну девочку на заселение на долги...</td>\n      <td>DAILY ХАТА</td>\n      <td>Astana</td>\n      <td>None</td>\n      <td>ЖК Будем жить</td>\n      <td>60000</td>\n      <td>female</td>\n      <td>1</td>\n      <td>True</td>\n      <td>null</td>\n      <td>True</td>\n      <td>None</td>\n    </tr>\n    <tr>\n      <th>46523</th>\n      <td>2024-10-27 17:29:54</td>\n      <td>СРОЧНО Ищем девочку на подселение в ЖК Будем ж...</td>\n      <td>DAILY ХАТА</td>\n      <td>Astana</td>\n      <td>None</td>\n      <td>ЖК Будем жить</td>\n      <td>60</td>\n      <td>female</td>\n      <td>1</td>\n      <td>False</td>\n      <td>null</td>\n      <td>True</td>\n      <td>None</td>\n    </tr>\n    <tr>\n      <th>46524</th>\n      <td>2024-10-25 17:00:55</td>\n      <td>Срочно ищем соседку Жк Ищем одну девочку на за...</td>\n      <td>DAILY ХАТА</td>\n      <td>Astana</td>\n      <td>None</td>\n      <td>Жк Ищем одну девочку</td>\n      <td>65</td>\n      <td>female</td>\n      <td>1</td>\n      <td>False</td>\n      <td>null</td>\n      <td>True</td>\n      <td>None</td>\n    </tr>\n    <tr>\n      <th>...</th>\n      <td>...</td>\n      <td>...</td>\n      <td>...</td>\n      <td>...</td>\n      <td>...</td>\n      <td>...</td>\n      <td>...</td>\n      <td>...</td>\n      <td>...</td>\n      <td>...</td>\n      <td>...</td>\n      <td>...</td>\n      <td>...</td>\n    </tr>\n    <tr>\n      <th>67956</th>\n      <td>2024-10-28 23:28:37</td>\n      <td>Келесі айдың 5і нен бастап көшетін кв керек 2 ...</td>\n      <td>Уральск Квартира  Орал КВАРТИРА Аренда</td>\n      <td>Oral</td>\n      <td>None</td>\n      <td>None</td>\n      <td>None</td>\n      <td>None</td>\n      <td>None</td>\n      <td>False</td>\n      <td>None</td>\n      <td>False</td>\n      <td>None</td>\n    </tr>\n    <tr>\n      <th>67957</th>\n      <td>2024-10-28 02:25:25</td>\n      <td>Квартира іздеймін 1 бөлмелі Барлық жағдайы жас...</td>\n      <td>Уральск Квартира  Орал КВАРТИРА Аренда</td>\n      <td>Oral</td>\n      <td>None</td>\n      <td>None</td>\n      <td>None</td>\n      <td>None</td>\n      <td>None</td>\n      <td>False</td>\n      <td>None</td>\n      <td>False</td>\n      <td>None</td>\n    </tr>\n    <tr>\n      <th>67958</th>\n      <td>2024-10-28 01:39:27</td>\n      <td>Ищу квартиру В районе пединститута либо школьн...</td>\n      <td>Уральск Квартира  Орал КВАРТИРА Аренда</td>\n      <td>Oral</td>\n      <td>None</td>\n      <td>null</td>\n      <td>2535</td>\n      <td>null</td>\n      <td>None</td>\n      <td>False</td>\n      <td>77788077747</td>\n      <td>False</td>\n      <td>None</td>\n    </tr>\n    <tr>\n      <th>67959</th>\n      <td>2024-10-20 21:44:37</td>\n      <td>Бирге туруга кв керек подселение Центр жактан ...</td>\n      <td>Уральск Квартира  Орал КВАРТИРА Аренда</td>\n      <td>Oral</td>\n      <td>None</td>\n      <td>None</td>\n      <td>None</td>\n      <td>None</td>\n      <td>None</td>\n      <td>False</td>\n      <td>None</td>\n      <td>False</td>\n      <td>None</td>\n    </tr>\n    <tr>\n      <th>67960</th>\n      <td>2024-10-20 11:54:04</td>\n      <td>Қасыма бірге тұратын 1 немесе 2 қыз керек Адрс...</td>\n      <td>Уральск Квартира  Орал КВАРТИРА Аренда</td>\n      <td>Oral</td>\n      <td>None</td>\n      <td>ОстМолодёжный 2комт 70к</td>\n      <td>None</td>\n      <td>female</td>\n      <td>2</td>\n      <td>False</td>\n      <td>87759911625</td>\n      <td>True</td>\n      <td>None</td>\n    </tr>\n  </tbody>\n</table>\n<p>215 rows × 13 columns</p>\n</div>"
     },
     "execution_count": 43,
     "metadata": {},
     "output_type": "execute_result"
    }
   ],
   "source": [
    "for index, row in new_df.iterrows():\n",
    "    message = row['message']\n",
    "    data = gemini(message)  # Get the structured data as a string from gemini\n",
    "\n",
    "    # Extract each value using regex and store in the appropriate column\n",
    "    address = re.search(r'address: (.+)', data)\n",
    "    cost = re.search(r'cost: (\\d+)', data)\n",
    "    gender = re.search(r'gender: (\\w+)', data)\n",
    "    people_needed = re.search(r'people_needed: (\\d+)', data)\n",
    "    long_term = re.search(r'long_term: (\\w+)', data)\n",
    "    phone_number = re.search(r'phone_number: (\\S+)', data)\n",
    "    utilities = re.search(r'utilities: (\\w+)', data)\n",
    "    deposit = re.search(r'deposit: (\\d+)', data)\n",
    "\n",
    "    # Update the DataFrame with extracted values (convert as needed)\n",
    "    new_df.at[index, 'address'] = address.group(1) if address else None\n",
    "    new_df.at[index, 'cost'] = int(cost.group(1)) if cost else None\n",
    "    new_df.at[index, 'gender'] = gender.group(1) if gender else None\n",
    "    new_df.at[index, 'people_needed'] = int(people_needed.group(1)) if people_needed else None\n",
    "    new_df.at[index, 'long_term'] = True if long_term and long_term.group(1) == 'True' else False\n",
    "    new_df.at[index, 'phone_number'] = phone_number.group(1) if phone_number else None\n",
    "    new_df.at[index, 'utilities'] = True if utilities and utilities.group(1) == 'True' else False\n",
    "    new_df.at[index, 'deposit'] = int(deposit.group(1)) if deposit else None\n",
    "new_df"
   ],
   "metadata": {
    "collapsed": false,
    "ExecuteTime": {
     "end_time": "2024-11-05T20:06:12.035589800Z",
     "start_time": "2024-11-05T19:59:22.139391100Z"
    }
   },
   "id": "890d34de14ebfdd4"
  },
  {
   "cell_type": "code",
   "execution_count": 44,
   "outputs": [],
   "source": [
    "new_df.to_csv('result.csv', index=False)"
   ],
   "metadata": {
    "collapsed": false,
    "ExecuteTime": {
     "end_time": "2024-11-05T20:07:20.627398300Z",
     "start_time": "2024-11-05T20:07:20.612009800Z"
    }
   },
   "id": "3cc463276c9169ab"
  },
  {
   "cell_type": "code",
   "execution_count": 45,
   "outputs": [],
   "source": [
    "new_df.to_excel('result.xlsx', index=False)"
   ],
   "metadata": {
    "collapsed": false,
    "ExecuteTime": {
     "end_time": "2024-11-05T20:07:44.473239Z",
     "start_time": "2024-11-05T20:07:43.463328400Z"
    }
   },
   "id": "5688eeb853aa8017"
  },
  {
   "cell_type": "code",
   "execution_count": 46,
   "outputs": [
    {
     "name": "stdout",
     "output_type": "stream",
     "text": [
      "Processing channel: DAILY ХАТА\n",
      "Processing channel: SDU [housing]\n",
      "Processing channel: podselenie_v_astane\n",
      "Processing channel: АЛМАТЫ (КВАРЕНДАПОДСЕЛ🏠)\n",
      "Processing channel: Аренда Жилья.Подселение Алматы\n",
      "Processing channel: Аренда квартир Алматы - Чат\n",
      "Processing channel: Аренда квартира Алматы\n",
      "Processing channel: Аренда комнат и квартир Талдыкорган🏙🌃🌌🏢🏘\n",
      "Processing channel: КВАРТИРА АЛМАТЫ  ПӘТЕР АЛМАТЫ  НЕДВИЖИМОСТЬ АЛМАТЫ\n",
      "Processing channel: Квартира в Алматы  Поиск квартиры\n",
      "Processing channel: Квартира. Сдам, Сниму г.Атырау\n",
      "Processing channel: Квартиры Алматы  Аренда квартир Алматы  Поиск соседей Алматы\n",
      "Processing channel: Квартиры Астана  Аренда квартир Астана  Поиск соседей Астана\n",
      "Processing channel: ПОДСЕЛЕНИЕ АЛМАТЫ\n",
      "Processing channel: ПОДСЕЛЕНИЕ АЛМАТЫ КВАРТИРА\n",
      "Processing channel: ПОДСЕЛЕНИЕ АСТАНА КВАРТИРА\n",
      "Processing channel: ПОДСЕЛЕНИЕ ШЫМКЕНТ АРЕНДА КВАРТИРА\n",
      "Processing channel: Подселение Астана сдам сниму комнату квартиру Астана\n"
     ]
    },
    {
     "ename": "ConnectionError",
     "evalue": "('Connection aborted.', RemoteDisconnected('Remote end closed connection without response'))",
     "output_type": "error",
     "traceback": [
      "\u001B[1;31m---------------------------------------------------------------------------\u001B[0m",
      "\u001B[1;31mRemoteDisconnected\u001B[0m                        Traceback (most recent call last)",
      "File \u001B[1;32m~\\anaconda3\\Lib\\site-packages\\urllib3\\connectionpool.py:789\u001B[0m, in \u001B[0;36mHTTPConnectionPool.urlopen\u001B[1;34m(self, method, url, body, headers, retries, redirect, assert_same_host, timeout, pool_timeout, release_conn, chunked, body_pos, preload_content, decode_content, **response_kw)\u001B[0m\n\u001B[0;32m    788\u001B[0m \u001B[38;5;66;03m# Make the request on the HTTPConnection object\u001B[39;00m\n\u001B[1;32m--> 789\u001B[0m response \u001B[38;5;241m=\u001B[39m \u001B[38;5;28mself\u001B[39m\u001B[38;5;241m.\u001B[39m_make_request(\n\u001B[0;32m    790\u001B[0m     conn,\n\u001B[0;32m    791\u001B[0m     method,\n\u001B[0;32m    792\u001B[0m     url,\n\u001B[0;32m    793\u001B[0m     timeout\u001B[38;5;241m=\u001B[39mtimeout_obj,\n\u001B[0;32m    794\u001B[0m     body\u001B[38;5;241m=\u001B[39mbody,\n\u001B[0;32m    795\u001B[0m     headers\u001B[38;5;241m=\u001B[39mheaders,\n\u001B[0;32m    796\u001B[0m     chunked\u001B[38;5;241m=\u001B[39mchunked,\n\u001B[0;32m    797\u001B[0m     retries\u001B[38;5;241m=\u001B[39mretries,\n\u001B[0;32m    798\u001B[0m     response_conn\u001B[38;5;241m=\u001B[39mresponse_conn,\n\u001B[0;32m    799\u001B[0m     preload_content\u001B[38;5;241m=\u001B[39mpreload_content,\n\u001B[0;32m    800\u001B[0m     decode_content\u001B[38;5;241m=\u001B[39mdecode_content,\n\u001B[0;32m    801\u001B[0m     \u001B[38;5;241m*\u001B[39m\u001B[38;5;241m*\u001B[39mresponse_kw,\n\u001B[0;32m    802\u001B[0m )\n\u001B[0;32m    804\u001B[0m \u001B[38;5;66;03m# Everything went great!\u001B[39;00m\n",
      "File \u001B[1;32m~\\anaconda3\\Lib\\site-packages\\urllib3\\connectionpool.py:536\u001B[0m, in \u001B[0;36mHTTPConnectionPool._make_request\u001B[1;34m(self, conn, method, url, body, headers, retries, timeout, chunked, response_conn, preload_content, decode_content, enforce_content_length)\u001B[0m\n\u001B[0;32m    535\u001B[0m \u001B[38;5;28;01mtry\u001B[39;00m:\n\u001B[1;32m--> 536\u001B[0m     response \u001B[38;5;241m=\u001B[39m conn\u001B[38;5;241m.\u001B[39mgetresponse()\n\u001B[0;32m    537\u001B[0m \u001B[38;5;28;01mexcept\u001B[39;00m (BaseSSLError, \u001B[38;5;167;01mOSError\u001B[39;00m) \u001B[38;5;28;01mas\u001B[39;00m e:\n",
      "File \u001B[1;32m~\\anaconda3\\Lib\\site-packages\\urllib3\\connection.py:464\u001B[0m, in \u001B[0;36mHTTPConnection.getresponse\u001B[1;34m(self)\u001B[0m\n\u001B[0;32m    463\u001B[0m \u001B[38;5;66;03m# Get the response from http.client.HTTPConnection\u001B[39;00m\n\u001B[1;32m--> 464\u001B[0m httplib_response \u001B[38;5;241m=\u001B[39m \u001B[38;5;28msuper\u001B[39m()\u001B[38;5;241m.\u001B[39mgetresponse()\n\u001B[0;32m    466\u001B[0m \u001B[38;5;28;01mtry\u001B[39;00m:\n",
      "File \u001B[1;32m~\\anaconda3\\Lib\\http\\client.py:1428\u001B[0m, in \u001B[0;36mHTTPConnection.getresponse\u001B[1;34m(self)\u001B[0m\n\u001B[0;32m   1427\u001B[0m \u001B[38;5;28;01mtry\u001B[39;00m:\n\u001B[1;32m-> 1428\u001B[0m     response\u001B[38;5;241m.\u001B[39mbegin()\n\u001B[0;32m   1429\u001B[0m \u001B[38;5;28;01mexcept\u001B[39;00m \u001B[38;5;167;01mConnectionError\u001B[39;00m:\n",
      "File \u001B[1;32m~\\anaconda3\\Lib\\http\\client.py:331\u001B[0m, in \u001B[0;36mHTTPResponse.begin\u001B[1;34m(self)\u001B[0m\n\u001B[0;32m    330\u001B[0m \u001B[38;5;28;01mwhile\u001B[39;00m \u001B[38;5;28;01mTrue\u001B[39;00m:\n\u001B[1;32m--> 331\u001B[0m     version, status, reason \u001B[38;5;241m=\u001B[39m \u001B[38;5;28mself\u001B[39m\u001B[38;5;241m.\u001B[39m_read_status()\n\u001B[0;32m    332\u001B[0m     \u001B[38;5;28;01mif\u001B[39;00m status \u001B[38;5;241m!=\u001B[39m CONTINUE:\n",
      "File \u001B[1;32m~\\anaconda3\\Lib\\http\\client.py:300\u001B[0m, in \u001B[0;36mHTTPResponse._read_status\u001B[1;34m(self)\u001B[0m\n\u001B[0;32m    297\u001B[0m \u001B[38;5;28;01mif\u001B[39;00m \u001B[38;5;129;01mnot\u001B[39;00m line:\n\u001B[0;32m    298\u001B[0m     \u001B[38;5;66;03m# Presumably, the server closed the connection before\u001B[39;00m\n\u001B[0;32m    299\u001B[0m     \u001B[38;5;66;03m# sending a valid response.\u001B[39;00m\n\u001B[1;32m--> 300\u001B[0m     \u001B[38;5;28;01mraise\u001B[39;00m RemoteDisconnected(\u001B[38;5;124m\"\u001B[39m\u001B[38;5;124mRemote end closed connection without\u001B[39m\u001B[38;5;124m\"\u001B[39m\n\u001B[0;32m    301\u001B[0m                              \u001B[38;5;124m\"\u001B[39m\u001B[38;5;124m response\u001B[39m\u001B[38;5;124m\"\u001B[39m)\n\u001B[0;32m    302\u001B[0m \u001B[38;5;28;01mtry\u001B[39;00m:\n",
      "\u001B[1;31mRemoteDisconnected\u001B[0m: Remote end closed connection without response",
      "\nDuring handling of the above exception, another exception occurred:\n",
      "\u001B[1;31mProtocolError\u001B[0m                             Traceback (most recent call last)",
      "File \u001B[1;32m~\\anaconda3\\Lib\\site-packages\\requests\\adapters.py:589\u001B[0m, in \u001B[0;36mHTTPAdapter.send\u001B[1;34m(self, request, stream, timeout, verify, cert, proxies)\u001B[0m\n\u001B[0;32m    588\u001B[0m \u001B[38;5;28;01mtry\u001B[39;00m:\n\u001B[1;32m--> 589\u001B[0m     resp \u001B[38;5;241m=\u001B[39m conn\u001B[38;5;241m.\u001B[39murlopen(\n\u001B[0;32m    590\u001B[0m         method\u001B[38;5;241m=\u001B[39mrequest\u001B[38;5;241m.\u001B[39mmethod,\n\u001B[0;32m    591\u001B[0m         url\u001B[38;5;241m=\u001B[39murl,\n\u001B[0;32m    592\u001B[0m         body\u001B[38;5;241m=\u001B[39mrequest\u001B[38;5;241m.\u001B[39mbody,\n\u001B[0;32m    593\u001B[0m         headers\u001B[38;5;241m=\u001B[39mrequest\u001B[38;5;241m.\u001B[39mheaders,\n\u001B[0;32m    594\u001B[0m         redirect\u001B[38;5;241m=\u001B[39m\u001B[38;5;28;01mFalse\u001B[39;00m,\n\u001B[0;32m    595\u001B[0m         assert_same_host\u001B[38;5;241m=\u001B[39m\u001B[38;5;28;01mFalse\u001B[39;00m,\n\u001B[0;32m    596\u001B[0m         preload_content\u001B[38;5;241m=\u001B[39m\u001B[38;5;28;01mFalse\u001B[39;00m,\n\u001B[0;32m    597\u001B[0m         decode_content\u001B[38;5;241m=\u001B[39m\u001B[38;5;28;01mFalse\u001B[39;00m,\n\u001B[0;32m    598\u001B[0m         retries\u001B[38;5;241m=\u001B[39m\u001B[38;5;28mself\u001B[39m\u001B[38;5;241m.\u001B[39mmax_retries,\n\u001B[0;32m    599\u001B[0m         timeout\u001B[38;5;241m=\u001B[39mtimeout,\n\u001B[0;32m    600\u001B[0m         chunked\u001B[38;5;241m=\u001B[39mchunked,\n\u001B[0;32m    601\u001B[0m     )\n\u001B[0;32m    603\u001B[0m \u001B[38;5;28;01mexcept\u001B[39;00m (ProtocolError, \u001B[38;5;167;01mOSError\u001B[39;00m) \u001B[38;5;28;01mas\u001B[39;00m err:\n",
      "File \u001B[1;32m~\\anaconda3\\Lib\\site-packages\\urllib3\\connectionpool.py:843\u001B[0m, in \u001B[0;36mHTTPConnectionPool.urlopen\u001B[1;34m(self, method, url, body, headers, retries, redirect, assert_same_host, timeout, pool_timeout, release_conn, chunked, body_pos, preload_content, decode_content, **response_kw)\u001B[0m\n\u001B[0;32m    841\u001B[0m     new_e \u001B[38;5;241m=\u001B[39m ProtocolError(\u001B[38;5;124m\"\u001B[39m\u001B[38;5;124mConnection aborted.\u001B[39m\u001B[38;5;124m\"\u001B[39m, new_e)\n\u001B[1;32m--> 843\u001B[0m retries \u001B[38;5;241m=\u001B[39m retries\u001B[38;5;241m.\u001B[39mincrement(\n\u001B[0;32m    844\u001B[0m     method, url, error\u001B[38;5;241m=\u001B[39mnew_e, _pool\u001B[38;5;241m=\u001B[39m\u001B[38;5;28mself\u001B[39m, _stacktrace\u001B[38;5;241m=\u001B[39msys\u001B[38;5;241m.\u001B[39mexc_info()[\u001B[38;5;241m2\u001B[39m]\n\u001B[0;32m    845\u001B[0m )\n\u001B[0;32m    846\u001B[0m retries\u001B[38;5;241m.\u001B[39msleep()\n",
      "File \u001B[1;32m~\\anaconda3\\Lib\\site-packages\\urllib3\\util\\retry.py:474\u001B[0m, in \u001B[0;36mRetry.increment\u001B[1;34m(self, method, url, response, error, _pool, _stacktrace)\u001B[0m\n\u001B[0;32m    473\u001B[0m \u001B[38;5;28;01mif\u001B[39;00m read \u001B[38;5;129;01mis\u001B[39;00m \u001B[38;5;28;01mFalse\u001B[39;00m \u001B[38;5;129;01mor\u001B[39;00m method \u001B[38;5;129;01mis\u001B[39;00m \u001B[38;5;28;01mNone\u001B[39;00m \u001B[38;5;129;01mor\u001B[39;00m \u001B[38;5;129;01mnot\u001B[39;00m \u001B[38;5;28mself\u001B[39m\u001B[38;5;241m.\u001B[39m_is_method_retryable(method):\n\u001B[1;32m--> 474\u001B[0m     \u001B[38;5;28;01mraise\u001B[39;00m reraise(\u001B[38;5;28mtype\u001B[39m(error), error, _stacktrace)\n\u001B[0;32m    475\u001B[0m \u001B[38;5;28;01melif\u001B[39;00m read \u001B[38;5;129;01mis\u001B[39;00m \u001B[38;5;129;01mnot\u001B[39;00m \u001B[38;5;28;01mNone\u001B[39;00m:\n",
      "File \u001B[1;32m~\\anaconda3\\Lib\\site-packages\\urllib3\\util\\util.py:38\u001B[0m, in \u001B[0;36mreraise\u001B[1;34m(tp, value, tb)\u001B[0m\n\u001B[0;32m     37\u001B[0m \u001B[38;5;28;01mif\u001B[39;00m value\u001B[38;5;241m.\u001B[39m__traceback__ \u001B[38;5;129;01mis\u001B[39;00m \u001B[38;5;129;01mnot\u001B[39;00m tb:\n\u001B[1;32m---> 38\u001B[0m     \u001B[38;5;28;01mraise\u001B[39;00m value\u001B[38;5;241m.\u001B[39mwith_traceback(tb)\n\u001B[0;32m     39\u001B[0m \u001B[38;5;28;01mraise\u001B[39;00m value\n",
      "File \u001B[1;32m~\\anaconda3\\Lib\\site-packages\\urllib3\\connectionpool.py:789\u001B[0m, in \u001B[0;36mHTTPConnectionPool.urlopen\u001B[1;34m(self, method, url, body, headers, retries, redirect, assert_same_host, timeout, pool_timeout, release_conn, chunked, body_pos, preload_content, decode_content, **response_kw)\u001B[0m\n\u001B[0;32m    788\u001B[0m \u001B[38;5;66;03m# Make the request on the HTTPConnection object\u001B[39;00m\n\u001B[1;32m--> 789\u001B[0m response \u001B[38;5;241m=\u001B[39m \u001B[38;5;28mself\u001B[39m\u001B[38;5;241m.\u001B[39m_make_request(\n\u001B[0;32m    790\u001B[0m     conn,\n\u001B[0;32m    791\u001B[0m     method,\n\u001B[0;32m    792\u001B[0m     url,\n\u001B[0;32m    793\u001B[0m     timeout\u001B[38;5;241m=\u001B[39mtimeout_obj,\n\u001B[0;32m    794\u001B[0m     body\u001B[38;5;241m=\u001B[39mbody,\n\u001B[0;32m    795\u001B[0m     headers\u001B[38;5;241m=\u001B[39mheaders,\n\u001B[0;32m    796\u001B[0m     chunked\u001B[38;5;241m=\u001B[39mchunked,\n\u001B[0;32m    797\u001B[0m     retries\u001B[38;5;241m=\u001B[39mretries,\n\u001B[0;32m    798\u001B[0m     response_conn\u001B[38;5;241m=\u001B[39mresponse_conn,\n\u001B[0;32m    799\u001B[0m     preload_content\u001B[38;5;241m=\u001B[39mpreload_content,\n\u001B[0;32m    800\u001B[0m     decode_content\u001B[38;5;241m=\u001B[39mdecode_content,\n\u001B[0;32m    801\u001B[0m     \u001B[38;5;241m*\u001B[39m\u001B[38;5;241m*\u001B[39mresponse_kw,\n\u001B[0;32m    802\u001B[0m )\n\u001B[0;32m    804\u001B[0m \u001B[38;5;66;03m# Everything went great!\u001B[39;00m\n",
      "File \u001B[1;32m~\\anaconda3\\Lib\\site-packages\\urllib3\\connectionpool.py:536\u001B[0m, in \u001B[0;36mHTTPConnectionPool._make_request\u001B[1;34m(self, conn, method, url, body, headers, retries, timeout, chunked, response_conn, preload_content, decode_content, enforce_content_length)\u001B[0m\n\u001B[0;32m    535\u001B[0m \u001B[38;5;28;01mtry\u001B[39;00m:\n\u001B[1;32m--> 536\u001B[0m     response \u001B[38;5;241m=\u001B[39m conn\u001B[38;5;241m.\u001B[39mgetresponse()\n\u001B[0;32m    537\u001B[0m \u001B[38;5;28;01mexcept\u001B[39;00m (BaseSSLError, \u001B[38;5;167;01mOSError\u001B[39;00m) \u001B[38;5;28;01mas\u001B[39;00m e:\n",
      "File \u001B[1;32m~\\anaconda3\\Lib\\site-packages\\urllib3\\connection.py:464\u001B[0m, in \u001B[0;36mHTTPConnection.getresponse\u001B[1;34m(self)\u001B[0m\n\u001B[0;32m    463\u001B[0m \u001B[38;5;66;03m# Get the response from http.client.HTTPConnection\u001B[39;00m\n\u001B[1;32m--> 464\u001B[0m httplib_response \u001B[38;5;241m=\u001B[39m \u001B[38;5;28msuper\u001B[39m()\u001B[38;5;241m.\u001B[39mgetresponse()\n\u001B[0;32m    466\u001B[0m \u001B[38;5;28;01mtry\u001B[39;00m:\n",
      "File \u001B[1;32m~\\anaconda3\\Lib\\http\\client.py:1428\u001B[0m, in \u001B[0;36mHTTPConnection.getresponse\u001B[1;34m(self)\u001B[0m\n\u001B[0;32m   1427\u001B[0m \u001B[38;5;28;01mtry\u001B[39;00m:\n\u001B[1;32m-> 1428\u001B[0m     response\u001B[38;5;241m.\u001B[39mbegin()\n\u001B[0;32m   1429\u001B[0m \u001B[38;5;28;01mexcept\u001B[39;00m \u001B[38;5;167;01mConnectionError\u001B[39;00m:\n",
      "File \u001B[1;32m~\\anaconda3\\Lib\\http\\client.py:331\u001B[0m, in \u001B[0;36mHTTPResponse.begin\u001B[1;34m(self)\u001B[0m\n\u001B[0;32m    330\u001B[0m \u001B[38;5;28;01mwhile\u001B[39;00m \u001B[38;5;28;01mTrue\u001B[39;00m:\n\u001B[1;32m--> 331\u001B[0m     version, status, reason \u001B[38;5;241m=\u001B[39m \u001B[38;5;28mself\u001B[39m\u001B[38;5;241m.\u001B[39m_read_status()\n\u001B[0;32m    332\u001B[0m     \u001B[38;5;28;01mif\u001B[39;00m status \u001B[38;5;241m!=\u001B[39m CONTINUE:\n",
      "File \u001B[1;32m~\\anaconda3\\Lib\\http\\client.py:300\u001B[0m, in \u001B[0;36mHTTPResponse._read_status\u001B[1;34m(self)\u001B[0m\n\u001B[0;32m    297\u001B[0m \u001B[38;5;28;01mif\u001B[39;00m \u001B[38;5;129;01mnot\u001B[39;00m line:\n\u001B[0;32m    298\u001B[0m     \u001B[38;5;66;03m# Presumably, the server closed the connection before\u001B[39;00m\n\u001B[0;32m    299\u001B[0m     \u001B[38;5;66;03m# sending a valid response.\u001B[39;00m\n\u001B[1;32m--> 300\u001B[0m     \u001B[38;5;28;01mraise\u001B[39;00m RemoteDisconnected(\u001B[38;5;124m\"\u001B[39m\u001B[38;5;124mRemote end closed connection without\u001B[39m\u001B[38;5;124m\"\u001B[39m\n\u001B[0;32m    301\u001B[0m                              \u001B[38;5;124m\"\u001B[39m\u001B[38;5;124m response\u001B[39m\u001B[38;5;124m\"\u001B[39m)\n\u001B[0;32m    302\u001B[0m \u001B[38;5;28;01mtry\u001B[39;00m:\n",
      "\u001B[1;31mProtocolError\u001B[0m: ('Connection aborted.', RemoteDisconnected('Remote end closed connection without response'))",
      "\nDuring handling of the above exception, another exception occurred:\n",
      "\u001B[1;31mConnectionError\u001B[0m                           Traceback (most recent call last)",
      "Cell \u001B[1;32mIn[46], line 30\u001B[0m\n\u001B[0;32m     28\u001B[0m \u001B[38;5;28;01mfor\u001B[39;00m index, row \u001B[38;5;129;01min\u001B[39;00m batch\u001B[38;5;241m.\u001B[39miterrows():\n\u001B[0;32m     29\u001B[0m     message \u001B[38;5;241m=\u001B[39m row[\u001B[38;5;124m'\u001B[39m\u001B[38;5;124mmessage\u001B[39m\u001B[38;5;124m'\u001B[39m]\n\u001B[1;32m---> 30\u001B[0m     data \u001B[38;5;241m=\u001B[39m gemini(message)  \u001B[38;5;66;03m# Get structured data as a string from gemini\u001B[39;00m\n\u001B[0;32m     32\u001B[0m     \u001B[38;5;66;03m# Extract each value using regex and store in the appropriate column\u001B[39;00m\n\u001B[0;32m     33\u001B[0m     address \u001B[38;5;241m=\u001B[39m re\u001B[38;5;241m.\u001B[39msearch(\u001B[38;5;124mr\u001B[39m\u001B[38;5;124m'\u001B[39m\u001B[38;5;124maddress: (.+)\u001B[39m\u001B[38;5;124m'\u001B[39m, data)\n",
      "File \u001B[1;32m~\\Desktop\\sanyraq-data-analytics\\parsing_datas\\gemini1.py:53\u001B[0m, in \u001B[0;36mgemini\u001B[1;34m(message_text)\u001B[0m\n\u001B[0;32m     50\u001B[0m \u001B[38;5;66;03m# Make the API request\u001B[39;00m\n\u001B[0;32m     51\u001B[0m response \u001B[38;5;241m=\u001B[39m requests\u001B[38;5;241m.\u001B[39mpost(url, headers\u001B[38;5;241m=\u001B[39mheaders, json\u001B[38;5;241m=\u001B[39mdata)\n\u001B[1;32m---> 53\u001B[0m \u001B[38;5;28;01mif\u001B[39;00m response\u001B[38;5;241m.\u001B[39mstatus_code \u001B[38;5;241m==\u001B[39m \u001B[38;5;241m200\u001B[39m:\n\u001B[0;32m     54\u001B[0m     \u001B[38;5;28;01mtry\u001B[39;00m:\n\u001B[0;32m     55\u001B[0m         result \u001B[38;5;241m=\u001B[39m response\u001B[38;5;241m.\u001B[39mjson()\n",
      "File \u001B[1;32m~\\anaconda3\\Lib\\site-packages\\requests\\api.py:115\u001B[0m, in \u001B[0;36mpost\u001B[1;34m(url, data, json, **kwargs)\u001B[0m\n\u001B[0;32m    103\u001B[0m \u001B[38;5;28;01mdef\u001B[39;00m \u001B[38;5;21mpost\u001B[39m(url, data\u001B[38;5;241m=\u001B[39m\u001B[38;5;28;01mNone\u001B[39;00m, json\u001B[38;5;241m=\u001B[39m\u001B[38;5;28;01mNone\u001B[39;00m, \u001B[38;5;241m*\u001B[39m\u001B[38;5;241m*\u001B[39mkwargs):\n\u001B[0;32m    104\u001B[0m \u001B[38;5;250m    \u001B[39m\u001B[38;5;124mr\u001B[39m\u001B[38;5;124;03m\"\"\"Sends a POST request.\u001B[39;00m\n\u001B[0;32m    105\u001B[0m \n\u001B[0;32m    106\u001B[0m \u001B[38;5;124;03m    :param url: URL for the new :class:`Request` object.\u001B[39;00m\n\u001B[1;32m   (...)\u001B[0m\n\u001B[0;32m    112\u001B[0m \u001B[38;5;124;03m    :rtype: requests.Response\u001B[39;00m\n\u001B[0;32m    113\u001B[0m \u001B[38;5;124;03m    \"\"\"\u001B[39;00m\n\u001B[1;32m--> 115\u001B[0m     \u001B[38;5;28;01mreturn\u001B[39;00m request(\u001B[38;5;124m\"\u001B[39m\u001B[38;5;124mpost\u001B[39m\u001B[38;5;124m\"\u001B[39m, url, data\u001B[38;5;241m=\u001B[39mdata, json\u001B[38;5;241m=\u001B[39mjson, \u001B[38;5;241m*\u001B[39m\u001B[38;5;241m*\u001B[39mkwargs)\n",
      "File \u001B[1;32m~\\anaconda3\\Lib\\site-packages\\requests\\api.py:59\u001B[0m, in \u001B[0;36mrequest\u001B[1;34m(method, url, **kwargs)\u001B[0m\n\u001B[0;32m     55\u001B[0m \u001B[38;5;66;03m# By using the 'with' statement we are sure the session is closed, thus we\u001B[39;00m\n\u001B[0;32m     56\u001B[0m \u001B[38;5;66;03m# avoid leaving sockets open which can trigger a ResourceWarning in some\u001B[39;00m\n\u001B[0;32m     57\u001B[0m \u001B[38;5;66;03m# cases, and look like a memory leak in others.\u001B[39;00m\n\u001B[0;32m     58\u001B[0m \u001B[38;5;28;01mwith\u001B[39;00m sessions\u001B[38;5;241m.\u001B[39mSession() \u001B[38;5;28;01mas\u001B[39;00m session:\n\u001B[1;32m---> 59\u001B[0m     \u001B[38;5;28;01mreturn\u001B[39;00m session\u001B[38;5;241m.\u001B[39mrequest(method\u001B[38;5;241m=\u001B[39mmethod, url\u001B[38;5;241m=\u001B[39murl, \u001B[38;5;241m*\u001B[39m\u001B[38;5;241m*\u001B[39mkwargs)\n",
      "File \u001B[1;32m~\\anaconda3\\Lib\\site-packages\\requests\\sessions.py:589\u001B[0m, in \u001B[0;36mSession.request\u001B[1;34m(self, method, url, params, data, headers, cookies, files, auth, timeout, allow_redirects, proxies, hooks, stream, verify, cert, json)\u001B[0m\n\u001B[0;32m    584\u001B[0m send_kwargs \u001B[38;5;241m=\u001B[39m {\n\u001B[0;32m    585\u001B[0m     \u001B[38;5;124m\"\u001B[39m\u001B[38;5;124mtimeout\u001B[39m\u001B[38;5;124m\"\u001B[39m: timeout,\n\u001B[0;32m    586\u001B[0m     \u001B[38;5;124m\"\u001B[39m\u001B[38;5;124mallow_redirects\u001B[39m\u001B[38;5;124m\"\u001B[39m: allow_redirects,\n\u001B[0;32m    587\u001B[0m }\n\u001B[0;32m    588\u001B[0m send_kwargs\u001B[38;5;241m.\u001B[39mupdate(settings)\n\u001B[1;32m--> 589\u001B[0m resp \u001B[38;5;241m=\u001B[39m \u001B[38;5;28mself\u001B[39m\u001B[38;5;241m.\u001B[39msend(prep, \u001B[38;5;241m*\u001B[39m\u001B[38;5;241m*\u001B[39msend_kwargs)\n\u001B[0;32m    591\u001B[0m \u001B[38;5;28;01mreturn\u001B[39;00m resp\n",
      "File \u001B[1;32m~\\anaconda3\\Lib\\site-packages\\requests\\sessions.py:703\u001B[0m, in \u001B[0;36mSession.send\u001B[1;34m(self, request, **kwargs)\u001B[0m\n\u001B[0;32m    700\u001B[0m start \u001B[38;5;241m=\u001B[39m preferred_clock()\n\u001B[0;32m    702\u001B[0m \u001B[38;5;66;03m# Send the request\u001B[39;00m\n\u001B[1;32m--> 703\u001B[0m r \u001B[38;5;241m=\u001B[39m adapter\u001B[38;5;241m.\u001B[39msend(request, \u001B[38;5;241m*\u001B[39m\u001B[38;5;241m*\u001B[39mkwargs)\n\u001B[0;32m    705\u001B[0m \u001B[38;5;66;03m# Total elapsed time of the request (approximately)\u001B[39;00m\n\u001B[0;32m    706\u001B[0m elapsed \u001B[38;5;241m=\u001B[39m preferred_clock() \u001B[38;5;241m-\u001B[39m start\n",
      "File \u001B[1;32m~\\anaconda3\\Lib\\site-packages\\requests\\adapters.py:604\u001B[0m, in \u001B[0;36mHTTPAdapter.send\u001B[1;34m(self, request, stream, timeout, verify, cert, proxies)\u001B[0m\n\u001B[0;32m    589\u001B[0m     resp \u001B[38;5;241m=\u001B[39m conn\u001B[38;5;241m.\u001B[39murlopen(\n\u001B[0;32m    590\u001B[0m         method\u001B[38;5;241m=\u001B[39mrequest\u001B[38;5;241m.\u001B[39mmethod,\n\u001B[0;32m    591\u001B[0m         url\u001B[38;5;241m=\u001B[39murl,\n\u001B[1;32m   (...)\u001B[0m\n\u001B[0;32m    600\u001B[0m         chunked\u001B[38;5;241m=\u001B[39mchunked,\n\u001B[0;32m    601\u001B[0m     )\n\u001B[0;32m    603\u001B[0m \u001B[38;5;28;01mexcept\u001B[39;00m (ProtocolError, \u001B[38;5;167;01mOSError\u001B[39;00m) \u001B[38;5;28;01mas\u001B[39;00m err:\n\u001B[1;32m--> 604\u001B[0m     \u001B[38;5;28;01mraise\u001B[39;00m \u001B[38;5;167;01mConnectionError\u001B[39;00m(err, request\u001B[38;5;241m=\u001B[39mrequest)\n\u001B[0;32m    606\u001B[0m \u001B[38;5;28;01mexcept\u001B[39;00m MaxRetryError \u001B[38;5;28;01mas\u001B[39;00m e:\n\u001B[0;32m    607\u001B[0m     \u001B[38;5;28;01mif\u001B[39;00m \u001B[38;5;28misinstance\u001B[39m(e\u001B[38;5;241m.\u001B[39mreason, ConnectTimeoutError):\n\u001B[0;32m    608\u001B[0m         \u001B[38;5;66;03m# TODO: Remove this in 3.0.0: see #2811\u001B[39;00m\n",
      "\u001B[1;31mConnectionError\u001B[0m: ('Connection aborted.', RemoteDisconnected('Remote end closed connection without response'))"
     ]
    }
   ],
   "source": [
    "import time\n",
    "\n",
    "# Select the last 100 messages by date for each channel\n",
    "top_100_per_channel = (\n",
    "    combined_df.sort_values(by=['channel_name', 'date'], ascending=[True, False])\n",
    "    .groupby('channel_name')\n",
    "    .head(100)\n",
    ")\n",
    "\n",
    "# Initialize columns for structured data fields\n",
    "top_100_per_channel['address'] = None\n",
    "top_100_per_channel['cost'] = None\n",
    "top_100_per_channel['gender'] = None\n",
    "top_100_per_channel['people_needed'] = None\n",
    "top_100_per_channel['long_term'] = None\n",
    "top_100_per_channel['phone_number'] = None\n",
    "top_100_per_channel['utilities'] = None\n",
    "top_100_per_channel['deposit'] = None\n",
    "\n",
    "# Process each channel's data separately\n",
    "for channel_name, channel_data in top_100_per_channel.groupby('channel_name'):\n",
    "    print(f\"Processing channel: {channel_name}\")\n",
    "    \n",
    "    # Process in batches of 10\n",
    "    for i in range(0, len(channel_data), 10):\n",
    "        batch = channel_data.iloc[i:i+10]  # Select the batch of 10\n",
    "\n",
    "        for index, row in batch.iterrows():\n",
    "            message = row['message']\n",
    "            data = gemini(message)  # Get structured data as a string from gemini\n",
    "\n",
    "            # Extract each value using regex and store in the appropriate column\n",
    "            address = re.search(r'address: (.+)', data)\n",
    "            cost = re.search(r'cost: (\\d+)', data)\n",
    "            gender = re.search(r'gender: (\\w+)', data)\n",
    "            people_needed = re.search(r'people_needed: (\\d+)', data)\n",
    "            long_term = re.search(r'long_term: (\\w+)', data)\n",
    "            phone_number = re.search(r'phone_number: (\\S+)', data)\n",
    "            utilities = re.search(r'utilities: (\\w+)', data)\n",
    "            deposit = re.search(r'deposit: (\\d+)', data)\n",
    "\n",
    "            # Update the DataFrame with extracted values\n",
    "            top_100_per_channel.at[index, 'address'] = address.group(1) if address else None\n",
    "            top_100_per_channel.at[index, 'cost'] = int(cost.group(1)) if cost else None\n",
    "            top_100_per_channel.at[index, 'gender'] = gender.group(1) if gender else None\n",
    "            top_100_per_channel.at[index, 'people_needed'] = int(people_needed.group(1)) if people_needed else None\n",
    "            top_100_per_channel.at[index, 'long_term'] = True if long_term and long_term.group(1) == 'True' else False\n",
    "            top_100_per_channel.at[index, 'phone_number'] = phone_number.group(1) if phone_number else None\n",
    "            top_100_per_channel.at[index, 'utilities'] = True if utilities and utilities.group(1) == 'True' else False\n",
    "            top_100_per_channel.at[index, 'deposit'] = int(deposit.group(1)) if deposit else None\n",
    "\n",
    "        # Wait 2 seconds after processing each batch of 10\n",
    "        time.sleep(2)\n",
    "\n",
    "# Save the processed data to a new CSV file\n",
    "top_100_per_channel.to_csv('processed_top_100_per_channel.csv', index=False)\n",
    "print(\"Processing complete. Data saved to 'processed_top_100_per_channel.csv'.\")\n"
   ],
   "metadata": {
    "collapsed": false,
    "ExecuteTime": {
     "end_time": "2024-11-05T21:13:39.683217100Z",
     "start_time": "2024-11-05T20:12:26.986854100Z"
    }
   },
   "id": "220eb5aebc693331"
  },
  {
   "cell_type": "code",
   "execution_count": 48,
   "outputs": [],
   "source": [
    "top_100_per_channel.to_csv('processed_top_100_per_channel.csv', index=False)"
   ],
   "metadata": {
    "collapsed": false,
    "ExecuteTime": {
     "end_time": "2024-11-05T21:16:08.959096500Z",
     "start_time": "2024-11-05T21:16:08.927756500Z"
    }
   },
   "id": "3fca6a8f17e66c43"
  },
  {
   "cell_type": "code",
   "execution_count": 49,
   "outputs": [],
   "source": [
    "top_100_per_channel.to_excel('processed_top_100_per_channel.xlsx', index=False)"
   ],
   "metadata": {
    "collapsed": false,
    "ExecuteTime": {
     "end_time": "2024-11-05T21:16:42.041820700Z",
     "start_time": "2024-11-05T21:16:40.743482400Z"
    }
   },
   "id": "9145675c7fa6b84"
  },
  {
   "cell_type": "code",
   "execution_count": null,
   "outputs": [],
   "source": [
    "all_df = combined_df.copy()\n",
    "all_df = all_df.sort_values(by='date', ascending=False)\n",
    "\n",
    "# Initialize columns for structured data fields\n",
    "all_df['address'] = None\n",
    "all_df['cost'] = None\n",
    "all_df['gender'] = None\n",
    "all_df['people_needed'] = None\n",
    "all_df['long_term'] = None\n",
    "all_df['phone_number'] = None\n",
    "all_df['utilities'] = None\n",
    "all_df['deposit'] = None\n",
    "\n",
    "# Process in batches of 10 for all data\n",
    "for i in range(0, len(all_df), 10):\n",
    "    batch = all_df.iloc[i:i+10]  # Select the batch of 10 messages\n",
    "\n",
    "    # Process each message in the batch\n",
    "    for index, row in batch.iterrows():\n",
    "        message = row['message']\n",
    "        data = gemini(message)  # Get the structured data as a string from gemini\n",
    "\n",
    "        # Extract each value using regex and store in the appropriate column\n",
    "        address = re.search(r'address: (.+)', data)\n",
    "        cost = re.search(r'cost: (\\d+)', data)\n",
    "        gender = re.search(r'gender: (\\w+)', data)\n",
    "        people_needed = re.search(r'people_needed: (\\d+)', data)\n",
    "        long_term = re.search(r'long_term: (\\w+)', data)\n",
    "        phone_number = re.search(r'phone_number: (\\S+)', data)\n",
    "        utilities = re.search(r'utilities: (\\w+)', data)\n",
    "        deposit = re.search(r'deposit: (\\d+)', data)\n",
    "\n",
    "        # Update the DataFrame with extracted values\n",
    "        all_df.at[index, 'address'] = address.group(1) if address else None\n",
    "        all_df.at[index, 'cost'] = int(cost.group(1)) if cost else None\n",
    "        all_df.at[index, 'gender'] = gender.group(1) if gender else None\n",
    "        all_df.at[index, 'people_needed'] = int(people_needed.group(1)) if people_needed else None\n",
    "        all_df.at[index, 'long_term'] = True if long_term and long_term.group(1) == 'True' else False\n",
    "        all_df.at[index, 'phone_number'] = phone_number.group(1) if phone_number else None\n",
    "        all_df.at[index, 'utilities'] = True if utilities and utilities.group(1) == 'True' else False\n",
    "        all_df.at[index, 'deposit'] = int(deposit.group(1)) if deposit else None\n",
    "\n",
    "    # Wait 2 seconds after processing each batch of 10\n",
    "    time.sleep(2)\n",
    "\n",
    "# Save the processed data to a new CSV file\n",
    "all_df.to_csv('processed_all_data.csv', index=False)\n",
    "all_df.to_excel('processed_all_data.xlsx', index=False)\n",
    "print(\"Processing complete. Data saved to 'processed_all_data.csv'.\")"
   ],
   "metadata": {
    "collapsed": false,
    "is_executing": true,
    "ExecuteTime": {
     "start_time": "2024-11-05T21:35:59.583808700Z"
    }
   },
   "id": "29b134b296967cfc"
  },
  {
   "cell_type": "code",
   "execution_count": null,
   "outputs": [],
   "source": [],
   "metadata": {
    "collapsed": false
   },
   "id": "f89a790468d664be"
  },
  {
   "cell_type": "code",
   "execution_count": 52,
   "outputs": [],
   "source": [
    "all_df.to_excel('processed_all_data.xlsx', index=False)\n"
   ],
   "metadata": {
    "collapsed": false,
    "ExecuteTime": {
     "end_time": "2024-11-06T12:05:40.729413500Z",
     "start_time": "2024-11-06T12:05:14.412574400Z"
    }
   },
   "id": "2aeab07227357f4"
  },
  {
   "cell_type": "code",
   "execution_count": null,
   "outputs": [],
   "source": [],
   "metadata": {
    "collapsed": false
   },
   "id": "18db128b763f410"
  }
 ],
 "metadata": {
  "kernelspec": {
   "display_name": "Python 3 (ipykernel)",
   "language": "python",
   "name": "python3"
  },
  "language_info": {
   "codemirror_mode": {
    "name": "ipython",
    "version": 3
   },
   "file_extension": ".py",
   "mimetype": "text/x-python",
   "name": "python",
   "nbconvert_exporter": "python",
   "pygments_lexer": "ipython3",
   "version": "3.12.4"
  }
 },
 "nbformat": 4,
 "nbformat_minor": 5
}
