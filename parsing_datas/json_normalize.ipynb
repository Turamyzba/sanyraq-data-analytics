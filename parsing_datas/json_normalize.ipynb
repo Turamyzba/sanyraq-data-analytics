{
 "cells": [
  {
   "cell_type": "code",
   "execution_count": 34,
   "outputs": [],
   "source": [
    "import pandas as pd\n",
    "from pandas import json_normalize\n",
    "import numpy as np\n",
    "import matplotlib.pyplot as plt"
   ],
   "metadata": {
    "collapsed": false,
    "ExecuteTime": {
     "end_time": "2024-10-27T14:02:22.855059400Z",
     "start_time": "2024-10-27T14:02:22.851005100Z"
    }
   },
   "id": "7c88db811bb2759b"
  },
  {
   "cell_type": "code",
   "execution_count": 40,
   "outputs": [],
   "source": [
    "df = pd.read_json('jsons/result.json')\n",
    "\n",
    "df = json_normalize(df['messages'])\n",
    "channel_name = df['from'].dropna().iloc[0]\n",
    "df = df[['date', 'text_entities']]"
   ],
   "metadata": {
    "collapsed": false,
    "ExecuteTime": {
     "end_time": "2024-10-27T14:19:50.113620900Z",
     "start_time": "2024-10-27T14:19:49.100842500Z"
    }
   },
   "id": "a48b7b98fc573190"
  },
  {
   "cell_type": "code",
   "execution_count": 41,
   "outputs": [
    {
     "data": {
      "text/plain": "                  date                                      text_entities\n0  2021-07-17T02:04:08                                                 []\n1  2021-07-17T02:30:57  [{'type': 'bold', 'text': 'Всем привет!'}, {'t...\n2  2021-07-17T02:46:12  [{'type': 'bold', 'text': 'Перед размещением о...\n3  2021-08-18T22:32:41  [{'type': 'hashtag', 'text': '#Ищу'}, {'type':...\n4  2021-08-18T22:35:34  [{'type': 'hashtag', 'text': '#АлмаАта'}, {'ty...",
      "text/html": "<div>\n<style scoped>\n    .dataframe tbody tr th:only-of-type {\n        vertical-align: middle;\n    }\n\n    .dataframe tbody tr th {\n        vertical-align: top;\n    }\n\n    .dataframe thead th {\n        text-align: right;\n    }\n</style>\n<table border=\"1\" class=\"dataframe\">\n  <thead>\n    <tr style=\"text-align: right;\">\n      <th></th>\n      <th>date</th>\n      <th>text_entities</th>\n    </tr>\n  </thead>\n  <tbody>\n    <tr>\n      <th>0</th>\n      <td>2021-07-17T02:04:08</td>\n      <td>[]</td>\n    </tr>\n    <tr>\n      <th>1</th>\n      <td>2021-07-17T02:30:57</td>\n      <td>[{'type': 'bold', 'text': 'Всем привет!'}, {'t...</td>\n    </tr>\n    <tr>\n      <th>2</th>\n      <td>2021-07-17T02:46:12</td>\n      <td>[{'type': 'bold', 'text': 'Перед размещением о...</td>\n    </tr>\n    <tr>\n      <th>3</th>\n      <td>2021-08-18T22:32:41</td>\n      <td>[{'type': 'hashtag', 'text': '#Ищу'}, {'type':...</td>\n    </tr>\n    <tr>\n      <th>4</th>\n      <td>2021-08-18T22:35:34</td>\n      <td>[{'type': 'hashtag', 'text': '#АлмаАта'}, {'ty...</td>\n    </tr>\n  </tbody>\n</table>\n</div>"
     },
     "execution_count": 41,
     "metadata": {},
     "output_type": "execute_result"
    }
   ],
   "source": [
    "df.head()"
   ],
   "metadata": {
    "collapsed": false,
    "ExecuteTime": {
     "end_time": "2024-10-27T14:19:50.921365200Z",
     "start_time": "2024-10-27T14:19:50.897154500Z"
    }
   },
   "id": "3ca836f5106d3b99"
  },
  {
   "cell_type": "code",
   "execution_count": 42,
   "outputs": [
    {
     "data": {
      "text/plain": "                      date                                            message\n45859  2024-10-27T18:19:25  Ищем одного парня на подселение, будем жить 4о...\n45858  2024-10-27T17:44:07  СДУ ға өте жақын жерде орналасқан\\nКотеждің бі...\n45857  2024-10-27T17:07:36  Ноябрь айынан бастап бірге тұруға 1қыз іздеймі...\n45856  2024-10-27T17:05:52  Сәлеметсіздер ме, 2қыз бала керек на подселени...\n45855  2024-10-27T16:56:46  Всем привет! Ищу одну девушку на подселение. 2...\n...                    ...                                                ...\n5      2021-08-18T23:27:20  #ищу #Каскелен #квартира #3_комнаты\\nАрендуем ...\n4      2021-08-18T22:35:34  #АлмаАта #Подселение #Квартира\\nИщем девушку и...\n3      2021-08-18T22:32:41  #Ищу #Подселение #АлмаАта #Квартира #Дом #2_ко...\n2      2021-07-17T02:46:12  Перед размещением объявления рекомендуем испол...\n1      2021-07-17T02:30:57  Всем привет!\\n\\nЭтот чат — площадка, в которой...\n\n[22986 rows x 2 columns]",
      "text/html": "<div>\n<style scoped>\n    .dataframe tbody tr th:only-of-type {\n        vertical-align: middle;\n    }\n\n    .dataframe tbody tr th {\n        vertical-align: top;\n    }\n\n    .dataframe thead th {\n        text-align: right;\n    }\n</style>\n<table border=\"1\" class=\"dataframe\">\n  <thead>\n    <tr style=\"text-align: right;\">\n      <th></th>\n      <th>date</th>\n      <th>message</th>\n    </tr>\n  </thead>\n  <tbody>\n    <tr>\n      <th>45859</th>\n      <td>2024-10-27T18:19:25</td>\n      <td>Ищем одного парня на подселение, будем жить 4о...</td>\n    </tr>\n    <tr>\n      <th>45858</th>\n      <td>2024-10-27T17:44:07</td>\n      <td>СДУ ға өте жақын жерде орналасқан\\nКотеждің бі...</td>\n    </tr>\n    <tr>\n      <th>45857</th>\n      <td>2024-10-27T17:07:36</td>\n      <td>Ноябрь айынан бастап бірге тұруға 1қыз іздеймі...</td>\n    </tr>\n    <tr>\n      <th>45856</th>\n      <td>2024-10-27T17:05:52</td>\n      <td>Сәлеметсіздер ме, 2қыз бала керек на подселени...</td>\n    </tr>\n    <tr>\n      <th>45855</th>\n      <td>2024-10-27T16:56:46</td>\n      <td>Всем привет! Ищу одну девушку на подселение. 2...</td>\n    </tr>\n    <tr>\n      <th>...</th>\n      <td>...</td>\n      <td>...</td>\n    </tr>\n    <tr>\n      <th>5</th>\n      <td>2021-08-18T23:27:20</td>\n      <td>#ищу #Каскелен #квартира #3_комнаты\\nАрендуем ...</td>\n    </tr>\n    <tr>\n      <th>4</th>\n      <td>2021-08-18T22:35:34</td>\n      <td>#АлмаАта #Подселение #Квартира\\nИщем девушку и...</td>\n    </tr>\n    <tr>\n      <th>3</th>\n      <td>2021-08-18T22:32:41</td>\n      <td>#Ищу #Подселение #АлмаАта #Квартира #Дом #2_ко...</td>\n    </tr>\n    <tr>\n      <th>2</th>\n      <td>2021-07-17T02:46:12</td>\n      <td>Перед размещением объявления рекомендуем испол...</td>\n    </tr>\n    <tr>\n      <th>1</th>\n      <td>2021-07-17T02:30:57</td>\n      <td>Всем привет!\\n\\nЭтот чат — площадка, в которой...</td>\n    </tr>\n  </tbody>\n</table>\n<p>22986 rows × 2 columns</p>\n</div>"
     },
     "execution_count": 42,
     "metadata": {},
     "output_type": "execute_result"
    }
   ],
   "source": [
    "df = df[df['text_entities'].apply(lambda x: isinstance(x, list) and len(x) > 0)]\n",
    "\n",
    "def extract_message(text_entities):\n",
    "    try:\n",
    "        # Concatenate the 'text' fields from each dictionary in the list\n",
    "        return ''.join([entity['text'] for entity in text_entities if 'text' in entity])\n",
    "    except:\n",
    "        return None\n",
    "\n",
    "# Apply the function to create a new 'message' column\n",
    "df['message'] = df['text_entities'].apply(extract_message)\n",
    "\n",
    "# Drop the 'text_entities' column as it is no longer needed\n",
    "df_cleaned = df.drop(columns=['text_entities'])\n",
    "df_cleaned = df_cleaned.sort_values(by='date', ascending=False)\n",
    "df_cleaned"
   ],
   "metadata": {
    "collapsed": false,
    "ExecuteTime": {
     "end_time": "2024-10-27T14:19:52.566381800Z",
     "start_time": "2024-10-27T14:19:52.509521400Z"
    }
   },
   "id": "beab1725553561a4"
  },
  {
   "cell_type": "code",
   "execution_count": 43,
   "outputs": [
    {
     "data": {
      "text/plain": "                      date                                            message\n45859  2024-10-27T18:19:25  Ищем одного парня на подселение, будем жить 4о...\n45858  2024-10-27T17:44:07  СДУ ға өте жақын жерде орналасқан\\nКотеждің бі...\n45857  2024-10-27T17:07:36  Ноябрь айынан бастап бірге тұруға 1қыз іздеймі...\n45856  2024-10-27T17:05:52  Сәлеметсіздер ме, 2қыз бала керек на подселени...\n45855  2024-10-27T16:56:46  Всем привет! Ищу одну девушку на подселение. 2...\n45845  2024-10-27T16:40:22  Сдаю комнату в Каскелене на 3-4 студентов. Иде...\n45844  2024-10-27T16:23:45     Подселениеге 2жігіт керек.Ауезов ауданында үй.\n45843  2024-10-27T15:46:22  СДУға жақын жерде орналасқан коттедж жалға бер...\n45842  2024-10-27T15:17:52  Ищем двух девушек на подселение в Алтын Аул. К...\n45841  2024-10-27T12:49:51  ПОДСЕЛЕНИЕГЕ 1 ҚЫЗ КЕРЕК\\n2 ҚЫЗ БОЛЫП ТҰРАМЫЗ!...\n45840  2024-10-27T12:11:08  Всем привет! Ищем двух девушек на подселение. ...\n45839  2024-10-27T11:26:32  Сәлем. Подселениеге кыз издеймиз, 1ноябрь баст...\n45838  2024-10-27T11:20:33  Ноябрь айынан бастап бірге тұруға 1қыз іздеймі...\n45837  2024-10-27T11:15:54  Подселениеге 2 адам керек, изолированная комна...\n45836  2024-10-27T10:59:19  Срочно🆘🆘🆘\\nБүгін көшіп келе алатын 1 қыз керек...\n45835  2024-10-27T08:32:32  СДУ ға өте жақын жерде орналасқан\\nКотеждің бі...\n45834  2024-10-27T01:24:30                                       Вопросы в лс\n45832  2024-10-26T23:51:40         4 ұл бала ұстау білетін, уй іздеп жатырмыз\n45831  2024-10-26T22:43:37  Sdu ga 2 minuttyk jerde kvartira jalga beriled...\n45830  2024-10-26T21:43:00  СДУға жақын жерде орналасқан коттедж жалға бер...\n45829  2024-10-26T17:48:13  Ищем двух девушек на подселение в Алтын Аул. К...\n45828  2024-10-26T15:00:55  Сдаётся дом в кизе, количество комнат 5, можно...\n45818  2024-10-26T13:56:32  Ищем 1 девушку на подселение на долгий срок\\nМ...\n45817  2024-10-26T12:04:34  Сдуға қарама қарсы квартираға подселениемен 1-...\n45816  2024-10-26T10:30:19  Ищем двух девушек на подселение в Алтын Аул. К...\n45815  2024-10-26T10:12:42  Подселениеге 2 адам керек, изолированная комна...\n45814  2024-10-26T10:08:51  СРОЧНО!!\\nНояюрь 1нен бастап келетін қыз керек...\n45813  2024-10-26T08:58:22  Сәлем. Всем привет. \\nСдается в аренду квартир...\n45809  2024-10-26T06:53:46  Сдам комнату рядом с СДУ в верхней части! Деву...\n45805  2024-10-26T06:17:42  Тез арада‼️‼️\\nПодселениеге 1 қыз іздеймін. Но...\n45804  2024-10-26T06:06:00  Привет Кыздар, Мкр Карлыгашта,2х комнатный ква...\n45803  2024-10-26T02:17:24                                    Абая правда 300\n45802  2024-10-26T01:01:51  Подселениеге 2 адам керек, изолированная комна...\n45801  2024-10-25T23:06:23  Сдуға қарама қарсы квартираға подселениемен 1-...\n45800  2024-10-25T22:21:39                   По все вопросом обращайтесь в лс\n45797  2024-10-25T21:29:19  Сәлем. Всем привет. \\nСдается в аренду квартир...\n45796  2024-10-25T21:10:12  СДУға жақын жерде орналасқан коттедж жалға бер...\n45795  2024-10-25T18:46:50  Ищем двух девушек на подселение в Алтын Аул. К...\n45790  2024-10-25T14:49:16  Сду қыздары тұратын үйде 1 бөлме бос,Сдуға жақ...\n45789  2024-10-25T14:16:20  Всем привет! Ищем двух девушек на подселение. ...\n45788  2024-10-25T13:55:05  Универге 2 минуттық жерде квартира жалға беріл...\n45787  2024-10-25T13:47:51  Срочнооо‼️Всем привет. Ищем 1 девушку на подсе...\n45786  2024-10-25T13:45:47  Сәлем. Всем привет. \\nСдается в аренду квартир...\n45785  2024-10-25T13:32:11  Алтын ауыл 1 комнатная квартира арендаға беріл...\n45784  2024-10-25T13:25:13               https://m.krisha.kz/a/show/696995773\n45783  2024-10-25T12:48:20  Нужны девочки на подселение примерно по 65к с ...\n45782  2024-10-25T12:05:11  Ищем двух девушек на подселение в Алтын Аул. К...\n45781  2024-10-25T11:40:06  Қайырлы күн!\\nАлматыда центрде Сити центрге на...\n45780  2024-10-25T11:27:44  СДУға жақын жерде орналасқан коттедж жалға бер...\n45779  2024-10-25T11:27:44                                        87073329414",
      "text/html": "<div>\n<style scoped>\n    .dataframe tbody tr th:only-of-type {\n        vertical-align: middle;\n    }\n\n    .dataframe tbody tr th {\n        vertical-align: top;\n    }\n\n    .dataframe thead th {\n        text-align: right;\n    }\n</style>\n<table border=\"1\" class=\"dataframe\">\n  <thead>\n    <tr style=\"text-align: right;\">\n      <th></th>\n      <th>date</th>\n      <th>message</th>\n    </tr>\n  </thead>\n  <tbody>\n    <tr>\n      <th>45859</th>\n      <td>2024-10-27T18:19:25</td>\n      <td>Ищем одного парня на подселение, будем жить 4о...</td>\n    </tr>\n    <tr>\n      <th>45858</th>\n      <td>2024-10-27T17:44:07</td>\n      <td>СДУ ға өте жақын жерде орналасқан\\nКотеждің бі...</td>\n    </tr>\n    <tr>\n      <th>45857</th>\n      <td>2024-10-27T17:07:36</td>\n      <td>Ноябрь айынан бастап бірге тұруға 1қыз іздеймі...</td>\n    </tr>\n    <tr>\n      <th>45856</th>\n      <td>2024-10-27T17:05:52</td>\n      <td>Сәлеметсіздер ме, 2қыз бала керек на подселени...</td>\n    </tr>\n    <tr>\n      <th>45855</th>\n      <td>2024-10-27T16:56:46</td>\n      <td>Всем привет! Ищу одну девушку на подселение. 2...</td>\n    </tr>\n    <tr>\n      <th>45845</th>\n      <td>2024-10-27T16:40:22</td>\n      <td>Сдаю комнату в Каскелене на 3-4 студентов. Иде...</td>\n    </tr>\n    <tr>\n      <th>45844</th>\n      <td>2024-10-27T16:23:45</td>\n      <td>Подселениеге 2жігіт керек.Ауезов ауданында үй.</td>\n    </tr>\n    <tr>\n      <th>45843</th>\n      <td>2024-10-27T15:46:22</td>\n      <td>СДУға жақын жерде орналасқан коттедж жалға бер...</td>\n    </tr>\n    <tr>\n      <th>45842</th>\n      <td>2024-10-27T15:17:52</td>\n      <td>Ищем двух девушек на подселение в Алтын Аул. К...</td>\n    </tr>\n    <tr>\n      <th>45841</th>\n      <td>2024-10-27T12:49:51</td>\n      <td>ПОДСЕЛЕНИЕГЕ 1 ҚЫЗ КЕРЕК\\n2 ҚЫЗ БОЛЫП ТҰРАМЫЗ!...</td>\n    </tr>\n    <tr>\n      <th>45840</th>\n      <td>2024-10-27T12:11:08</td>\n      <td>Всем привет! Ищем двух девушек на подселение. ...</td>\n    </tr>\n    <tr>\n      <th>45839</th>\n      <td>2024-10-27T11:26:32</td>\n      <td>Сәлем. Подселениеге кыз издеймиз, 1ноябрь баст...</td>\n    </tr>\n    <tr>\n      <th>45838</th>\n      <td>2024-10-27T11:20:33</td>\n      <td>Ноябрь айынан бастап бірге тұруға 1қыз іздеймі...</td>\n    </tr>\n    <tr>\n      <th>45837</th>\n      <td>2024-10-27T11:15:54</td>\n      <td>Подселениеге 2 адам керек, изолированная комна...</td>\n    </tr>\n    <tr>\n      <th>45836</th>\n      <td>2024-10-27T10:59:19</td>\n      <td>Срочно🆘🆘🆘\\nБүгін көшіп келе алатын 1 қыз керек...</td>\n    </tr>\n    <tr>\n      <th>45835</th>\n      <td>2024-10-27T08:32:32</td>\n      <td>СДУ ға өте жақын жерде орналасқан\\nКотеждің бі...</td>\n    </tr>\n    <tr>\n      <th>45834</th>\n      <td>2024-10-27T01:24:30</td>\n      <td>Вопросы в лс</td>\n    </tr>\n    <tr>\n      <th>45832</th>\n      <td>2024-10-26T23:51:40</td>\n      <td>4 ұл бала ұстау білетін, уй іздеп жатырмыз</td>\n    </tr>\n    <tr>\n      <th>45831</th>\n      <td>2024-10-26T22:43:37</td>\n      <td>Sdu ga 2 minuttyk jerde kvartira jalga beriled...</td>\n    </tr>\n    <tr>\n      <th>45830</th>\n      <td>2024-10-26T21:43:00</td>\n      <td>СДУға жақын жерде орналасқан коттедж жалға бер...</td>\n    </tr>\n    <tr>\n      <th>45829</th>\n      <td>2024-10-26T17:48:13</td>\n      <td>Ищем двух девушек на подселение в Алтын Аул. К...</td>\n    </tr>\n    <tr>\n      <th>45828</th>\n      <td>2024-10-26T15:00:55</td>\n      <td>Сдаётся дом в кизе, количество комнат 5, можно...</td>\n    </tr>\n    <tr>\n      <th>45818</th>\n      <td>2024-10-26T13:56:32</td>\n      <td>Ищем 1 девушку на подселение на долгий срок\\nМ...</td>\n    </tr>\n    <tr>\n      <th>45817</th>\n      <td>2024-10-26T12:04:34</td>\n      <td>Сдуға қарама қарсы квартираға подселениемен 1-...</td>\n    </tr>\n    <tr>\n      <th>45816</th>\n      <td>2024-10-26T10:30:19</td>\n      <td>Ищем двух девушек на подселение в Алтын Аул. К...</td>\n    </tr>\n    <tr>\n      <th>45815</th>\n      <td>2024-10-26T10:12:42</td>\n      <td>Подселениеге 2 адам керек, изолированная комна...</td>\n    </tr>\n    <tr>\n      <th>45814</th>\n      <td>2024-10-26T10:08:51</td>\n      <td>СРОЧНО!!\\nНояюрь 1нен бастап келетін қыз керек...</td>\n    </tr>\n    <tr>\n      <th>45813</th>\n      <td>2024-10-26T08:58:22</td>\n      <td>Сәлем. Всем привет. \\nСдается в аренду квартир...</td>\n    </tr>\n    <tr>\n      <th>45809</th>\n      <td>2024-10-26T06:53:46</td>\n      <td>Сдам комнату рядом с СДУ в верхней части! Деву...</td>\n    </tr>\n    <tr>\n      <th>45805</th>\n      <td>2024-10-26T06:17:42</td>\n      <td>Тез арада‼️‼️\\nПодселениеге 1 қыз іздеймін. Но...</td>\n    </tr>\n    <tr>\n      <th>45804</th>\n      <td>2024-10-26T06:06:00</td>\n      <td>Привет Кыздар, Мкр Карлыгашта,2х комнатный ква...</td>\n    </tr>\n    <tr>\n      <th>45803</th>\n      <td>2024-10-26T02:17:24</td>\n      <td>Абая правда 300</td>\n    </tr>\n    <tr>\n      <th>45802</th>\n      <td>2024-10-26T01:01:51</td>\n      <td>Подселениеге 2 адам керек, изолированная комна...</td>\n    </tr>\n    <tr>\n      <th>45801</th>\n      <td>2024-10-25T23:06:23</td>\n      <td>Сдуға қарама қарсы квартираға подселениемен 1-...</td>\n    </tr>\n    <tr>\n      <th>45800</th>\n      <td>2024-10-25T22:21:39</td>\n      <td>По все вопросом обращайтесь в лс</td>\n    </tr>\n    <tr>\n      <th>45797</th>\n      <td>2024-10-25T21:29:19</td>\n      <td>Сәлем. Всем привет. \\nСдается в аренду квартир...</td>\n    </tr>\n    <tr>\n      <th>45796</th>\n      <td>2024-10-25T21:10:12</td>\n      <td>СДУға жақын жерде орналасқан коттедж жалға бер...</td>\n    </tr>\n    <tr>\n      <th>45795</th>\n      <td>2024-10-25T18:46:50</td>\n      <td>Ищем двух девушек на подселение в Алтын Аул. К...</td>\n    </tr>\n    <tr>\n      <th>45790</th>\n      <td>2024-10-25T14:49:16</td>\n      <td>Сду қыздары тұратын үйде 1 бөлме бос,Сдуға жақ...</td>\n    </tr>\n    <tr>\n      <th>45789</th>\n      <td>2024-10-25T14:16:20</td>\n      <td>Всем привет! Ищем двух девушек на подселение. ...</td>\n    </tr>\n    <tr>\n      <th>45788</th>\n      <td>2024-10-25T13:55:05</td>\n      <td>Универге 2 минуттық жерде квартира жалға беріл...</td>\n    </tr>\n    <tr>\n      <th>45787</th>\n      <td>2024-10-25T13:47:51</td>\n      <td>Срочнооо‼️Всем привет. Ищем 1 девушку на подсе...</td>\n    </tr>\n    <tr>\n      <th>45786</th>\n      <td>2024-10-25T13:45:47</td>\n      <td>Сәлем. Всем привет. \\nСдается в аренду квартир...</td>\n    </tr>\n    <tr>\n      <th>45785</th>\n      <td>2024-10-25T13:32:11</td>\n      <td>Алтын ауыл 1 комнатная квартира арендаға беріл...</td>\n    </tr>\n    <tr>\n      <th>45784</th>\n      <td>2024-10-25T13:25:13</td>\n      <td>https://m.krisha.kz/a/show/696995773</td>\n    </tr>\n    <tr>\n      <th>45783</th>\n      <td>2024-10-25T12:48:20</td>\n      <td>Нужны девочки на подселение примерно по 65к с ...</td>\n    </tr>\n    <tr>\n      <th>45782</th>\n      <td>2024-10-25T12:05:11</td>\n      <td>Ищем двух девушек на подселение в Алтын Аул. К...</td>\n    </tr>\n    <tr>\n      <th>45781</th>\n      <td>2024-10-25T11:40:06</td>\n      <td>Қайырлы күн!\\nАлматыда центрде Сити центрге на...</td>\n    </tr>\n    <tr>\n      <th>45780</th>\n      <td>2024-10-25T11:27:44</td>\n      <td>СДУға жақын жерде орналасқан коттедж жалға бер...</td>\n    </tr>\n    <tr>\n      <th>45779</th>\n      <td>2024-10-25T11:27:44</td>\n      <td>87073329414</td>\n    </tr>\n  </tbody>\n</table>\n</div>"
     },
     "execution_count": 43,
     "metadata": {},
     "output_type": "execute_result"
    }
   ],
   "source": [
    "# df_cleaned = df_cleaned[df_cleaned['date'] >= '2024-10-10']\n",
    "df_cleaned = df_cleaned[:50]\n",
    "df_cleaned"
   ],
   "metadata": {
    "collapsed": false,
    "ExecuteTime": {
     "end_time": "2024-10-27T14:19:55.024580900Z",
     "start_time": "2024-10-27T14:19:55.021551100Z"
    }
   },
   "id": "1d031e61a7332398"
  },
  {
   "cell_type": "code",
   "execution_count": 39,
   "outputs": [
    {
     "name": "stdout",
     "output_type": "stream",
     "text": [
      "СДУға жақын жерде орналасқан коттедж жалға беріледі.6орын ұлдарға,1орын қыздарға бос.Барлық жағдай жасалынған вайпай бар жәнеде кухня отдельно тефаль,печка,микробальновка ,посуда бәрі бар. Жәнеде стиралка утюг бар,теннисный стол бар арасында ойнап сергіп алуға.Үй видео камерамен жабдықталған вайпай бар.Толықтай ақпарат білгіңіз келсе осы нөмірге хабарласыңыз:87073329414 Almaty\n",
      "city: Almaty\n",
      "district: null\n",
      "address: null\n",
      "cost: null\n",
      "gender: null\n",
      "people_needed: null\n",
      "long_term: null\n",
      "phone_number: 87073329414\n",
      "utilities: null\n",
      "deposit: null\n"
     ]
    }
   ],
   "source": [
    "from gemini2 import gemini\n",
    "\n",
    "# message = df_cleaned['message'].iloc[0]\n",
    "# result = gemini(message)\n",
    "# print(result)\n",
    "\n",
    "\n",
    "message = df_cleaned['message'].iloc[7].replace('\\n', ' ') + \" Almaty\"\n",
    "\n",
    "# Call the gemini function\n",
    "print(message)\n",
    "result = gemini(message)\n",
    "print(result)"
   ],
   "metadata": {
    "collapsed": false,
    "ExecuteTime": {
     "end_time": "2024-10-27T14:02:49.692164300Z",
     "start_time": "2024-10-27T14:02:48.089227800Z"
    }
   },
   "id": "8bc06c67f7105c64"
  },
  {
   "cell_type": "code",
   "execution_count": null,
   "outputs": [],
   "source": [
    "import json\n",
    "from gemini2 import gemini\n",
    "from parse import parse_string\n",
    "import re\n",
    "\n",
    "# Initialize lists to store the extracted values for each column\n",
    "cities = []\n",
    "districts = []\n",
    "addresses = []\n",
    "costs = []\n",
    "genders = []\n",
    "people_needed = []\n",
    "long_terms = []\n",
    "phone_numbers = []\n",
    "utilities = []\n",
    "deposits = []\n",
    "\n",
    "# Make a copy of df_cleaned to df2\n",
    "df2 = df_cleaned.copy()\n",
    "\n",
    "# Iterate over the rows of df_cleaned\n",
    "for _, row in df_cleaned.iterrows():\n",
    "    message = row['message'].replace('\\n', ' ') + \" \" + channel_name\n",
    "    result = gemini(message)  # Process the message with the gemini function\n",
    "    \n",
    "    if result:\n",
    "        structured_data = parse_string(result)  # Parse the structured string\n",
    "\n",
    "        # Append the extracted values to the respective lists\n",
    "        cities.append(structured_data.get('city'))\n",
    "        districts.append(structured_data.get('district'))\n",
    "        addresses.append(None)  # Assuming no address in the result string for now\n",
    "        costs.append(structured_data.get('cost'))\n",
    "        genders.append(structured_data.get('gender'))\n",
    "        people_needed.append(structured_data.get('people_needed'))\n",
    "        long_terms.append(structured_data.get('long_term'))\n",
    "        phone_numbers.append(structured_data.get('phone_number'))\n",
    "        utilities.append(structured_data.get('utilities'))\n",
    "        deposits.append(structured_data.get('deposit'))\n",
    "    else:\n",
    "        # Append None for each field if the result is empty or invalid\n",
    "        cities.append(None)\n",
    "        districts.append(None)\n",
    "        addresses.append(None)\n",
    "        costs.append(None)\n",
    "        genders.append(None)\n",
    "        people_needed.append(None)\n",
    "        long_terms.append(None)\n",
    "        phone_numbers.append(None)\n",
    "        utilities.append(None)\n",
    "        deposits.append(None)\n",
    "\n",
    "# Add the new columns to df2 using .loc\n",
    "df2.loc[:, 'city'] = cities\n",
    "df2.loc[:, 'district'] = districts\n",
    "df2.loc[:, 'address'] = addresses\n",
    "df2.loc[:, 'cost'] = costs\n",
    "df2.loc[:, 'gender'] = genders\n",
    "df2.loc[:, 'people_needed'] = people_needed\n",
    "df2.loc[:, 'long_term'] = long_terms\n",
    "df2.loc[:, 'phone_number'] = phone_numbers\n",
    "df2.loc[:, 'utilities'] = utilities\n",
    "df2.loc[:, 'deposit'] = deposits\n",
    "\n",
    "# Display the updated DataFrame\n",
    "df2\n"
   ],
   "metadata": {
    "collapsed": false,
    "is_executing": true,
    "ExecuteTime": {
     "start_time": "2024-10-27T14:20:02.198981200Z"
    }
   },
   "id": "44093cdec9ef3e85"
  },
  {
   "cell_type": "code",
   "execution_count": 33,
   "outputs": [],
   "source": [
    "df_cleaned.to_excel(\"df_cleaned_final.xlsx\")"
   ],
   "metadata": {
    "collapsed": false,
    "ExecuteTime": {
     "end_time": "2024-10-27T14:01:52.447177700Z",
     "start_time": "2024-10-27T14:01:52.418995300Z"
    }
   },
   "id": "8424beee6b17f57e"
  },
  {
   "cell_type": "code",
   "execution_count": null,
   "outputs": [],
   "source": [],
   "metadata": {
    "collapsed": false
   },
   "id": "172f63b501cfad6a"
  }
 ],
 "metadata": {
  "kernelspec": {
   "display_name": "Python 3",
   "language": "python",
   "name": "python3"
  },
  "language_info": {
   "codemirror_mode": {
    "name": "ipython",
    "version": 2
   },
   "file_extension": ".py",
   "mimetype": "text/x-python",
   "name": "python",
   "nbconvert_exporter": "python",
   "pygments_lexer": "ipython2",
   "version": "2.7.6"
  }
 },
 "nbformat": 4,
 "nbformat_minor": 5
}
