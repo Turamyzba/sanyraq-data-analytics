{
 "cells": [
  {
   "cell_type": "code",
   "execution_count": 1,
   "id": "7c88db811bb2759b",
   "metadata": {
    "collapsed": false,
    "ExecuteTime": {
     "end_time": "2024-11-03T17:08:30.502517500Z",
     "start_time": "2024-11-03T17:08:30.491995300Z"
    }
   },
   "outputs": [],
   "source": [
    "import pandas as pd\n",
    "from pandas import json_normalize\n",
    "import numpy as np\n",
    "import matplotlib.pyplot as plt"
   ]
  },
  {
   "cell_type": "code",
   "execution_count": 2,
   "id": "a48b7b98fc573190",
   "metadata": {
    "collapsed": false,
    "ExecuteTime": {
     "end_time": "2024-11-03T17:08:33.247800700Z",
     "start_time": "2024-11-03T17:08:31.972839600Z"
    }
   },
   "outputs": [],
   "source": [
    "df = pd.read_json('jsons/result1.json')\n",
    "\n",
    "df = json_normalize(df['messages'])\n",
    "channel_name = df['from'].dropna().iloc[0]\n",
    "df = df[['date', 'text_entities']]"
   ]
  }
 ],
 "metadata": {
  "kernelspec": {
   "display_name": "Python 3 (ipykernel)",
   "language": "python",
   "name": "python3"
  },
  "language_info": {
   "codemirror_mode": {
    "name": "ipython",
    "version": 3
   },
   "file_extension": ".py",
   "mimetype": "text/x-python",
   "name": "python",
   "nbconvert_exporter": "python",
   "pygments_lexer": "ipython3",
   "version": "3.12.4"
  }
 },
 "nbformat": 4,
 "nbformat_minor": 5
}
