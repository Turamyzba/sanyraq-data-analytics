{
 "cells": [
  {
   "cell_type": "code",
   "execution_count": 1,
   "id": "initial_id",
   "metadata": {
    "ExecuteTime": {
     "end_time": "2024-11-07T10:49:03.062175900Z",
     "start_time": "2024-11-07T10:49:01.575461400Z"
    },
    "collapsed": true
   },
   "outputs": [],
   "source": [
    "import pandas as pd\n",
    "from pandas import json_normalize\n",
    "import numpy as np\n",
    "import matplotlib.pyplot as plt\n",
    "import os"
   ]
  },
  {
   "cell_type": "code",
   "execution_count": null,
   "id": "6aa368dda913dd1b",
   "metadata": {
    "ExecuteTime": {
     "end_time": "2024-11-04T23:41:47.433440400Z",
     "start_time": "2024-11-04T23:41:47.407220700Z"
    },
    "collapsed": false
   },
   "outputs": [
    {
     "name": "stdout",
     "output_type": "stream",
     "text": [
      "(239, 3)\n"
     ]
    },
    {
     "data": {
      "text/html": [
       "<div>\n",
       "<style scoped>\n",
       "    .dataframe tbody tr th:only-of-type {\n",
       "        vertical-align: middle;\n",
       "    }\n",
       "\n",
       "    .dataframe tbody tr th {\n",
       "        vertical-align: top;\n",
       "    }\n",
       "\n",
       "    .dataframe thead th {\n",
       "        text-align: right;\n",
       "    }\n",
       "</style>\n",
       "<table border=\"1\" class=\"dataframe\">\n",
       "  <thead>\n",
       "    <tr style=\"text-align: right;\">\n",
       "      <th></th>\n",
       "      <th>date</th>\n",
       "      <th>message</th>\n",
       "      <th>channel_name</th>\n",
       "    </tr>\n",
       "  </thead>\n",
       "  <tbody>\n",
       "    <tr>\n",
       "      <th>0</th>\n",
       "      <td>2024-10-30T14:19:35</td>\n",
       "      <td>Срочно нужна квартира 2х комн.\\n\\nУнивермаг,Ди...</td>\n",
       "      <td>Уральск Квартира  Орал КВАРТИРА Аренда</td>\n",
       "    </tr>\n",
       "    <tr>\n",
       "      <th>1</th>\n",
       "      <td>2024-10-29T13:55:07</td>\n",
       "      <td>Нужна квартира на длительный срок/Подселение\\n...</td>\n",
       "      <td>Уральск Квартира  Орал КВАРТИРА Аренда</td>\n",
       "    </tr>\n",
       "    <tr>\n",
       "      <th>2</th>\n",
       "      <td>2024-10-29T12:16:24</td>\n",
       "      <td>1 комнаталы квартираға 1 қыз іздейміз \\n\\n04.1...</td>\n",
       "      <td>Уральск Квартира  Орал КВАРТИРА Аренда</td>\n",
       "    </tr>\n",
       "    <tr>\n",
       "      <th>3</th>\n",
       "      <td>2024-10-29T12:14:10</td>\n",
       "      <td>Қасымызға қыз 1 іздеймііз❗️❗️❗️\\n\\nМекенжай:Ом...</td>\n",
       "      <td>Уральск Квартира  Орал КВАРТИРА Аренда</td>\n",
       "    </tr>\n",
       "    <tr>\n",
       "      <th>4</th>\n",
       "      <td>2024-10-29T12:10:03</td>\n",
       "      <td>Квартираға 1-бала керек  бірге тұруға \\n\\nкв к...</td>\n",
       "      <td>Уральск Квартира  Орал КВАРТИРА Аренда</td>\n",
       "    </tr>\n",
       "  </tbody>\n",
       "</table>\n",
       "</div>"
      ],
      "text/plain": [
       "                  date                                            message  \\\n",
       "0  2024-10-30T14:19:35  Срочно нужна квартира 2х комн.\\n\\nУнивермаг,Ди...   \n",
       "1  2024-10-29T13:55:07  Нужна квартира на длительный срок/Подселение\\n...   \n",
       "2  2024-10-29T12:16:24  1 комнаталы квартираға 1 қыз іздейміз \\n\\n04.1...   \n",
       "3  2024-10-29T12:14:10  Қасымызға қыз 1 іздеймііз❗️❗️❗️\\n\\nМекенжай:Ом...   \n",
       "4  2024-10-29T12:10:03  Квартираға 1-бала керек  бірге тұруға \\n\\nкв к...   \n",
       "\n",
       "                             channel_name  \n",
       "0  Уральск Квартира  Орал КВАРТИРА Аренда  \n",
       "1  Уральск Квартира  Орал КВАРТИРА Аренда  \n",
       "2  Уральск Квартира  Орал КВАРТИРА Аренда  \n",
       "3  Уральск Квартира  Орал КВАРТИРА Аренда  \n",
       "4  Уральск Квартира  Орал КВАРТИРА Аренда  "
      ]
     },
     "execution_count": 11,
     "metadata": {},
     "output_type": "execute_result"
    }
   ],
   "source": [
    "import pandas as pd\n",
    "import os\n",
    "\n",
    "# Path to the directory containing all your CSV files\n",
    "directory_path = 'All_Json_2023-2024'\n",
    "\n",
    "# List to hold your DataFrames\n",
    "dataframes = []\n",
    "\n",
    "# Iterate through every file in the directory\n",
    "for filename in os.listdir(directory_path):\n",
    "    if filename.endswith('.csv'):\n",
    "        file_path = os.path.join(directory_path, filename)\n",
    "        df = pd.read_csv(file_path)\n",
    "\n",
    "        # Add a new column for the channel name, which is the filename without the extension\n",
    "        df['channel_name'] = filename[:-4]  # removes the '.csv' from the filename\n",
    "\n",
    "        dataframes.append(df)\n",
    "\n",
    "# Concatenate all DataFrames into one\n",
    "combined_df = pd.concat(dataframes, ignore_index=True)\n",
    "\n",
    "# Remove duplicates based only on the 'message' column\n",
    "final_df = combined_df.drop_duplicates(subset=['message'])\n",
    "\n",
    "# Save the final DataFrame to a new CSV file\n",
    "final_df.to_csv('all_csv/Oral_all.csv', index=False)\n",
    "\n",
    "# Optionally, print the shape or head of the DataFrame to verify\n",
    "print(final_df.shape)\n",
    "final_df.head()"
   ]
  },
  {
   "cell_type": "code",
   "execution_count": 13,
   "id": "a2539b841630865f",
   "metadata": {
    "ExecuteTime": {
     "end_time": "2024-11-05T00:00:56.200011800Z",
     "start_time": "2024-11-05T00:00:54.679836800Z"
    },
    "collapsed": false
   },
   "outputs": [
    {
     "name": "stdout",
     "output_type": "stream",
     "text": [
      "(76406, 5)\n"
     ]
    },
    {
     "data": {
      "text/html": [
       "<div>\n",
       "<style scoped>\n",
       "    .dataframe tbody tr th:only-of-type {\n",
       "        vertical-align: middle;\n",
       "    }\n",
       "\n",
       "    .dataframe tbody tr th {\n",
       "        vertical-align: top;\n",
       "    }\n",
       "\n",
       "    .dataframe thead th {\n",
       "        text-align: right;\n",
       "    }\n",
       "</style>\n",
       "<table border=\"1\" class=\"dataframe\">\n",
       "  <thead>\n",
       "    <tr style=\"text-align: right;\">\n",
       "      <th></th>\n",
       "      <th>Unnamed: 0</th>\n",
       "      <th>date</th>\n",
       "      <th>message</th>\n",
       "      <th>channel_name</th>\n",
       "      <th>city</th>\n",
       "    </tr>\n",
       "  </thead>\n",
       "  <tbody>\n",
       "    <tr>\n",
       "      <th>0</th>\n",
       "      <td>0</td>\n",
       "      <td>2024-10-31T19:19:02</td>\n",
       "      <td>Ищем на подселение 1 девушку Квартира 3 комнат...</td>\n",
       "      <td>SDU [housing]</td>\n",
       "      <td>Almaty</td>\n",
       "    </tr>\n",
       "    <tr>\n",
       "      <th>1</th>\n",
       "      <td>1</td>\n",
       "      <td>2024-10-31T18:32:46</td>\n",
       "      <td>Всем привет ищу 12 девочку к себе на подселени...</td>\n",
       "      <td>SDU [housing]</td>\n",
       "      <td>Almaty</td>\n",
       "    </tr>\n",
       "    <tr>\n",
       "      <th>2</th>\n",
       "      <td>2</td>\n",
       "      <td>2024-10-31T18:23:14</td>\n",
       "      <td>Алма Сити 5 екы жыгыт ыздеймыз поселениеге 50к...</td>\n",
       "      <td>SDU [housing]</td>\n",
       "      <td>Almaty</td>\n",
       "    </tr>\n",
       "    <tr>\n",
       "      <th>3</th>\n",
       "      <td>3</td>\n",
       "      <td>2024-10-31T17:43:32</td>\n",
       "      <td>СДУға жақын жерде орналасқан коттедж үй жалға ...</td>\n",
       "      <td>SDU [housing]</td>\n",
       "      <td>Almaty</td>\n",
       "    </tr>\n",
       "    <tr>\n",
       "      <th>4</th>\n",
       "      <td>4</td>\n",
       "      <td>2024-10-31T16:42:10</td>\n",
       "      <td>ищем одну девушку на подселение в однокомнатну...</td>\n",
       "      <td>SDU [housing]</td>\n",
       "      <td>Almaty</td>\n",
       "    </tr>\n",
       "  </tbody>\n",
       "</table>\n",
       "</div>"
      ],
      "text/plain": [
       "   Unnamed: 0                 date  \\\n",
       "0           0  2024-10-31T19:19:02   \n",
       "1           1  2024-10-31T18:32:46   \n",
       "2           2  2024-10-31T18:23:14   \n",
       "3           3  2024-10-31T17:43:32   \n",
       "4           4  2024-10-31T16:42:10   \n",
       "\n",
       "                                             message   channel_name    city  \n",
       "0  Ищем на подселение 1 девушку Квартира 3 комнат...  SDU [housing]  Almaty  \n",
       "1  Всем привет ищу 12 девочку к себе на подселени...  SDU [housing]  Almaty  \n",
       "2  Алма Сити 5 екы жыгыт ыздеймыз поселениеге 50к...  SDU [housing]  Almaty  \n",
       "3  СДУға жақын жерде орналасқан коттедж үй жалға ...  SDU [housing]  Almaty  \n",
       "4  ищем одну девушку на подселение в однокомнатну...  SDU [housing]  Almaty  "
      ]
     },
     "execution_count": 13,
     "metadata": {},
     "output_type": "execute_result"
    }
   ],
   "source": [
    "# Path to the directory containing your CSV files\n",
    "directory_path = 'all_csv'\n",
    "\n",
    "# List to hold your DataFrames\n",
    "dataframes = []\n",
    "\n",
    "# List of CSV files to merge\n",
    "csv_files = ['Almaty.csv', 'Astana.csv', 'Atyrau.csv', 'Oral.csv', 'Shymkent.csv', 'Taldykorgan.csv', 'Taraz.csv']\n",
    "\n",
    "# Iterate through the list of CSV files\n",
    "for file_name in csv_files:\n",
    "    file_path = os.path.join(directory_path, file_name)\n",
    "    df = pd.read_csv(file_path)\n",
    "\n",
    "    # Add a new column 'city' that extracts the city name from the file name\n",
    "    city_name = file_name.replace('.csv', '')  # Remove the extension to get the city name\n",
    "    df['city'] = city_name  # Add the city name as a new column\n",
    "\n",
    "    dataframes.append(df)\n",
    "\n",
    "# Concatenate all DataFrames into one\n",
    "combined_df = pd.concat(dataframes, ignore_index=True)\n",
    "\n",
    "# Save the combined DataFrame to a new CSV file\n",
    "combined_df.to_csv('all_csv/All_in_one.csv', index=False)\n",
    "\n",
    "# Optionally, print the shape or head of the DataFrame to verify\n",
    "print(combined_df.shape)\n",
    "combined_df.head()"
   ]
  },
  {
   "cell_type": "code",
   "execution_count": 2,
   "id": "e2b097b72b3f72bd",
   "metadata": {
    "ExecuteTime": {
     "end_time": "2024-11-07T10:49:09.110467800Z",
     "start_time": "2024-11-07T10:49:07.991836500Z"
    },
    "collapsed": false
   },
   "outputs": [
    {
     "data": {
      "text/html": [
       "<div>\n",
       "<style scoped>\n",
       "    .dataframe tbody tr th:only-of-type {\n",
       "        vertical-align: middle;\n",
       "    }\n",
       "\n",
       "    .dataframe tbody tr th {\n",
       "        vertical-align: top;\n",
       "    }\n",
       "\n",
       "    .dataframe thead th {\n",
       "        text-align: right;\n",
       "    }\n",
       "</style>\n",
       "<table border=\"1\" class=\"dataframe\">\n",
       "  <thead>\n",
       "    <tr style=\"text-align: right;\">\n",
       "      <th></th>\n",
       "      <th>date</th>\n",
       "      <th>message</th>\n",
       "      <th>channel_name</th>\n",
       "      <th>city</th>\n",
       "    </tr>\n",
       "  </thead>\n",
       "  <tbody>\n",
       "    <tr>\n",
       "      <th>0</th>\n",
       "      <td>2024-10-31 19:19:02</td>\n",
       "      <td>Ищем на подселение 1 девушку Квартира 3 комнат...</td>\n",
       "      <td>SDU [housing]</td>\n",
       "      <td>Almaty</td>\n",
       "    </tr>\n",
       "    <tr>\n",
       "      <th>1</th>\n",
       "      <td>2024-10-31 18:32:46</td>\n",
       "      <td>Всем привет ищу 12 девочку к себе на подселени...</td>\n",
       "      <td>SDU [housing]</td>\n",
       "      <td>Almaty</td>\n",
       "    </tr>\n",
       "    <tr>\n",
       "      <th>2</th>\n",
       "      <td>2024-10-31 18:23:14</td>\n",
       "      <td>Алма Сити 5 екы жыгыт ыздеймыз поселениеге 50к...</td>\n",
       "      <td>SDU [housing]</td>\n",
       "      <td>Almaty</td>\n",
       "    </tr>\n",
       "    <tr>\n",
       "      <th>3</th>\n",
       "      <td>2024-10-31 17:43:32</td>\n",
       "      <td>СДУға жақын жерде орналасқан коттедж үй жалға ...</td>\n",
       "      <td>SDU [housing]</td>\n",
       "      <td>Almaty</td>\n",
       "    </tr>\n",
       "    <tr>\n",
       "      <th>4</th>\n",
       "      <td>2024-10-31 16:42:10</td>\n",
       "      <td>ищем одну девушку на подселение в однокомнатну...</td>\n",
       "      <td>SDU [housing]</td>\n",
       "      <td>Almaty</td>\n",
       "    </tr>\n",
       "    <tr>\n",
       "      <th>...</th>\n",
       "      <td>...</td>\n",
       "      <td>...</td>\n",
       "      <td>...</td>\n",
       "      <td>...</td>\n",
       "    </tr>\n",
       "    <tr>\n",
       "      <th>71566</th>\n",
       "      <td>2024-09-19 11:59:23</td>\n",
       "      <td>Сниму квартиру в районе сахзаводана длительный...</td>\n",
       "      <td>ТАРАЗ КВАРТИРА ВРЕМЯНКА ДОМ СДАМ СНИМУ ПОДСЕЛЕНИЕ</td>\n",
       "      <td>Taraz</td>\n",
       "    </tr>\n",
       "    <tr>\n",
       "      <th>71567</th>\n",
       "      <td>2024-09-19 11:45:18</td>\n",
       "      <td>Подселение в 2х комнатную кв Проживание с ХОЗЯ...</td>\n",
       "      <td>ТАРАЗ КВАРТИРА ВРЕМЯНКА ДОМ СДАМ СНИМУ ПОДСЕЛЕНИЕ</td>\n",
       "      <td>Taraz</td>\n",
       "    </tr>\n",
       "    <tr>\n",
       "      <th>71568</th>\n",
       "      <td>2024-09-08 22:21:26</td>\n",
       "      <td>Здравствуйтепомогу с поиском квартиры по вашем...</td>\n",
       "      <td>ТАРАЗ КВАРТИРА ВРЕМЯНКА ДОМ СДАМ СНИМУ ПОДСЕЛЕНИЕ</td>\n",
       "      <td>Taraz</td>\n",
       "    </tr>\n",
       "    <tr>\n",
       "      <th>71569</th>\n",
       "      <td>2024-09-04 21:54:05</td>\n",
       "      <td>Сниму 12комнкв в 15 мкр на долгий срок</td>\n",
       "      <td>ТАРАЗ КВАРТИРА ВРЕМЯНКА ДОМ СДАМ СНИМУ ПОДСЕЛЕНИЕ</td>\n",
       "      <td>Taraz</td>\n",
       "    </tr>\n",
       "    <tr>\n",
       "      <th>71570</th>\n",
       "      <td>2024-04-06 07:46:24</td>\n",
       "      <td>Подселение в 2х комнатную кв Проживание с ХОЗЯ...</td>\n",
       "      <td>ТАРАЗ КВАРТИРА ВРЕМЯНКА ДОМ СДАМ СНИМУ ПОДСЕЛЕНИЕ</td>\n",
       "      <td>Taraz</td>\n",
       "    </tr>\n",
       "  </tbody>\n",
       "</table>\n",
       "<p>71571 rows × 4 columns</p>\n",
       "</div>"
      ],
      "text/plain": [
       "                      date                                            message  \\\n",
       "0      2024-10-31 19:19:02  Ищем на подселение 1 девушку Квартира 3 комнат...   \n",
       "1      2024-10-31 18:32:46  Всем привет ищу 12 девочку к себе на подселени...   \n",
       "2      2024-10-31 18:23:14  Алма Сити 5 екы жыгыт ыздеймыз поселениеге 50к...   \n",
       "3      2024-10-31 17:43:32  СДУға жақын жерде орналасқан коттедж үй жалға ...   \n",
       "4      2024-10-31 16:42:10  ищем одну девушку на подселение в однокомнатну...   \n",
       "...                    ...                                                ...   \n",
       "71566  2024-09-19 11:59:23  Сниму квартиру в районе сахзаводана длительный...   \n",
       "71567  2024-09-19 11:45:18  Подселение в 2х комнатную кв Проживание с ХОЗЯ...   \n",
       "71568  2024-09-08 22:21:26  Здравствуйтепомогу с поиском квартиры по вашем...   \n",
       "71569  2024-09-04 21:54:05             Сниму 12комнкв в 15 мкр на долгий срок   \n",
       "71570  2024-04-06 07:46:24  Подселение в 2х комнатную кв Проживание с ХОЗЯ...   \n",
       "\n",
       "                                            channel_name    city  \n",
       "0                                          SDU [housing]  Almaty  \n",
       "1                                          SDU [housing]  Almaty  \n",
       "2                                          SDU [housing]  Almaty  \n",
       "3                                          SDU [housing]  Almaty  \n",
       "4                                          SDU [housing]  Almaty  \n",
       "...                                                  ...     ...  \n",
       "71566  ТАРАЗ КВАРТИРА ВРЕМЯНКА ДОМ СДАМ СНИМУ ПОДСЕЛЕНИЕ   Taraz  \n",
       "71567  ТАРАЗ КВАРТИРА ВРЕМЯНКА ДОМ СДАМ СНИМУ ПОДСЕЛЕНИЕ   Taraz  \n",
       "71568  ТАРАЗ КВАРТИРА ВРЕМЯНКА ДОМ СДАМ СНИМУ ПОДСЕЛЕНИЕ   Taraz  \n",
       "71569  ТАРАЗ КВАРТИРА ВРЕМЯНКА ДОМ СДАМ СНИМУ ПОДСЕЛЕНИЕ   Taraz  \n",
       "71570  ТАРАЗ КВАРТИРА ВРЕМЯНКА ДОМ СДАМ СНИМУ ПОДСЕЛЕНИЕ   Taraz  \n",
       "\n",
       "[71571 rows x 4 columns]"
      ]
     },
     "execution_count": 2,
     "metadata": {},
     "output_type": "execute_result"
    }
   ],
   "source": [
    "combined_df = pd.read_csv('all_csv/All_in_one.csv')\n",
    "combined_df = combined_df.loc[:, ~combined_df.columns.str.contains('^Unnamed')]\n",
    "# combined_df['date'] = pd.to_datetime(combined_df['date'])\n",
    "# combined_df.to_csv('all_csv/All_in_one.csv')\n",
    "combined_df"
   ]
  },
  {
   "cell_type": "code",
   "execution_count": 3,
   "id": "e3a6cd99c039ef07",
   "metadata": {
    "ExecuteTime": {
     "end_time": "2024-11-07T10:49:12.727468500Z",
     "start_time": "2024-11-07T10:49:12.705191200Z"
    },
    "collapsed": false
   },
   "outputs": [
    {
     "data": {
      "text/plain": [
       "22"
      ]
     },
     "execution_count": 3,
     "metadata": {},
     "output_type": "execute_result"
    }
   ],
   "source": [
    "# Count of our chats\n",
    "len(combined_df.channel_name.unique().tolist())"
   ]
  },
  {
   "cell_type": "code",
   "execution_count": 4,
   "id": "d3edf45f28c7b385",
   "metadata": {
    "ExecuteTime": {
     "end_time": "2024-11-07T10:49:23.014043700Z",
     "start_time": "2024-11-07T10:49:22.975308700Z"
    },
    "collapsed": false
   },
   "outputs": [
    {
     "data": {
      "text/plain": [
       "71571"
      ]
     },
     "execution_count": 4,
     "metadata": {},
     "output_type": "execute_result"
    }
   ],
   "source": [
    "len(combined_df)"
   ]
  },
  {
   "cell_type": "code",
   "execution_count": 50,
   "id": "5f5b9f63001f4d11",
   "metadata": {
    "ExecuteTime": {
     "end_time": "2024-11-05T11:07:57.737426700Z",
     "start_time": "2024-11-05T11:07:57.708044800Z"
    },
    "collapsed": false
   },
   "outputs": [
    {
     "data": {
      "text/plain": [
       "array(['Almaty', 'Astana', 'Atyrau', 'Oral', 'Shymkent', 'Taldykorgan',\n",
       "       'Taraz'], dtype=object)"
      ]
     },
     "execution_count": 50,
     "metadata": {},
     "output_type": "execute_result"
    }
   ],
   "source": [
    "# Count of Cities\n",
    "combined_df.city.unique()"
   ]
  },
  {
   "cell_type": "code",
   "execution_count": 51,
   "id": "a2e515f78887a6e3",
   "metadata": {
    "ExecuteTime": {
     "end_time": "2024-11-05T11:08:03.421342200Z",
     "start_time": "2024-11-05T11:08:03.307802Z"
    },
    "collapsed": false
   },
   "outputs": [
    {
     "data": {
      "text/plain": [
       "date                                          2020-04-26 23:11:29\n",
       "message         В будущем в первую очередь здесь будут публико...\n",
       "channel_name                                  podselenie_v_astane\n",
       "city                                                       Astana\n",
       "Name: 60923, dtype: object"
      ]
     },
     "execution_count": 51,
     "metadata": {},
     "output_type": "execute_result"
    }
   ],
   "source": [
    "combined_df['date'] = pd.to_datetime(combined_df['date'])\n",
    "first = combined_df.sort_values('date').iloc[0]\n",
    "first"
   ]
  },
  {
   "cell_type": "code",
   "execution_count": 52,
   "id": "a96da8d9a7b2d8fc",
   "metadata": {
    "ExecuteTime": {
     "end_time": "2024-11-05T11:08:07.008037500Z",
     "start_time": "2024-11-05T11:08:06.980251200Z"
    },
    "collapsed": false
   },
   "outputs": [
    {
     "data": {
      "text/plain": [
       "date                                          2024-10-31 19:19:02\n",
       "message         Ищем на подселение 1 девушку Квартира 3 комнат...\n",
       "channel_name                                        SDU [housing]\n",
       "city                                                       Almaty\n",
       "Name: 0, dtype: object"
      ]
     },
     "execution_count": 52,
     "metadata": {},
     "output_type": "execute_result"
    }
   ],
   "source": [
    "last = combined_df.sort_values('date', ascending=False).iloc[0]\n",
    "last"
   ]
  },
  {
   "cell_type": "code",
   "execution_count": 42,
   "id": "902b921da08a4a2f",
   "metadata": {
    "ExecuteTime": {
     "end_time": "2024-11-05T00:18:15.083333Z",
     "start_time": "2024-11-05T00:18:15.074979100Z"
    },
    "collapsed": false
   },
   "outputs": [
    {
     "data": {
      "text/plain": [
       "1648"
      ]
     },
     "execution_count": 42,
     "metadata": {},
     "output_type": "execute_result"
    }
   ],
   "source": [
    "(last['date'] - first['date']).days"
   ]
  },
  {
   "cell_type": "code",
   "execution_count": null,
   "id": "1d70a39c12628f5b",
   "metadata": {
    "collapsed": false
   },
   "outputs": [],
   "source": []
  }
 ],
 "metadata": {
  "kernelspec": {
   "display_name": "Python 3",
   "language": "python",
   "name": "python3"
  },
  "language_info": {
   "codemirror_mode": {
    "name": "ipython",
    "version": 2
   },
   "file_extension": ".py",
   "mimetype": "text/x-python",
   "name": "python",
   "nbconvert_exporter": "python",
   "pygments_lexer": "ipython2",
   "version": "2.7.6"
  }
 },
 "nbformat": 4,
 "nbformat_minor": 5
}
