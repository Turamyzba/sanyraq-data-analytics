{
 "cells": [
  {
   "cell_type": "code",
   "execution_count": 2,
   "id": "initial_id",
   "metadata": {
    "collapsed": true,
    "ExecuteTime": {
     "end_time": "2024-11-04T23:04:44.354390500Z",
     "start_time": "2024-11-04T23:04:44.339227600Z"
    }
   },
   "outputs": [],
   "source": [
    "import pandas as pd\n",
    "from pandas import json_normalize\n",
    "import numpy as np\n",
    "import matplotlib.pyplot as plt\n",
    "import os"
   ]
  },
  {
   "cell_type": "code",
   "execution_count": 4,
   "outputs": [
    {
     "name": "stdout",
     "output_type": "stream",
     "text": [
      "(51384, 2)\n"
     ]
    },
    {
     "data": {
      "text/plain": "                  date                                            message\n0  2024-10-31T19:19:02  Ищем на подселение 1 девушку. Квартира 3 комна...\n1  2024-10-31T18:32:46  Всем привет, ищу 1-2 девочку к себе на подселе...\n2  2024-10-31T18:23:14  Алма Сити 5, екы жыгыт ыздеймыз поселениеге, 5...\n3  2024-10-31T17:43:32  СДУға жақын жерде орналасқан коттедж үй жалға ...\n4  2024-10-31T16:42:10  📌 ищем одну девушку на подселение в однокомнат...",
      "text/html": "<div>\n<style scoped>\n    .dataframe tbody tr th:only-of-type {\n        vertical-align: middle;\n    }\n\n    .dataframe tbody tr th {\n        vertical-align: top;\n    }\n\n    .dataframe thead th {\n        text-align: right;\n    }\n</style>\n<table border=\"1\" class=\"dataframe\">\n  <thead>\n    <tr style=\"text-align: right;\">\n      <th></th>\n      <th>date</th>\n      <th>message</th>\n    </tr>\n  </thead>\n  <tbody>\n    <tr>\n      <th>0</th>\n      <td>2024-10-31T19:19:02</td>\n      <td>Ищем на подселение 1 девушку. Квартира 3 комна...</td>\n    </tr>\n    <tr>\n      <th>1</th>\n      <td>2024-10-31T18:32:46</td>\n      <td>Всем привет, ищу 1-2 девочку к себе на подселе...</td>\n    </tr>\n    <tr>\n      <th>2</th>\n      <td>2024-10-31T18:23:14</td>\n      <td>Алма Сити 5, екы жыгыт ыздеймыз поселениеге, 5...</td>\n    </tr>\n    <tr>\n      <th>3</th>\n      <td>2024-10-31T17:43:32</td>\n      <td>СДУға жақын жерде орналасқан коттедж үй жалға ...</td>\n    </tr>\n    <tr>\n      <th>4</th>\n      <td>2024-10-31T16:42:10</td>\n      <td>📌 ищем одну девушку на подселение в однокомнат...</td>\n    </tr>\n  </tbody>\n</table>\n</div>"
     },
     "execution_count": 4,
     "metadata": {},
     "output_type": "execute_result"
    }
   ],
   "source": [
    "# Path to the directory containing all your CSV files\n",
    "directory_path = 'all_csv/Almaty'\n",
    "\n",
    "# List to hold your DataFrames\n",
    "dataframes = []\n",
    "\n",
    "# Iterate through every file in the directory\n",
    "for filename in os.listdir(directory_path):\n",
    "    if filename.endswith('.csv'):\n",
    "        file_path = os.path.join(directory_path, filename)\n",
    "        df = pd.read_csv(file_path)\n",
    "        dataframes.append(df)\n",
    "\n",
    "# Concatenate all DataFrames into one\n",
    "combined_df = pd.concat(dataframes, ignore_index=True)\n",
    "\n",
    "# Remove duplicates based only on the 'message' column\n",
    "final_df = combined_df.drop_duplicates(subset=['message'])\n",
    "\n",
    "# Save the final DataFrame to a new CSV file\n",
    "final_df.to_csv('all_csv/Almaty_all.csv', index=False)\n",
    "\n",
    "# Optionally, print the shape or head of the DataFrame to verify\n",
    "print(final_df.shape)\n",
    "final_df.head()\n"
   ],
   "metadata": {
    "collapsed": false,
    "ExecuteTime": {
     "end_time": "2024-11-04T23:06:10.522980900Z",
     "start_time": "2024-11-04T23:06:09.129512600Z"
    }
   },
   "id": "6aa368dda913dd1b"
  },
  {
   "cell_type": "code",
   "execution_count": null,
   "outputs": [],
   "source": [],
   "metadata": {
    "collapsed": false
   },
   "id": "a80647839ab9f318"
  }
 ],
 "metadata": {
  "kernelspec": {
   "display_name": "Python 3",
   "language": "python",
   "name": "python3"
  },
  "language_info": {
   "codemirror_mode": {
    "name": "ipython",
    "version": 2
   },
   "file_extension": ".py",
   "mimetype": "text/x-python",
   "name": "python",
   "nbconvert_exporter": "python",
   "pygments_lexer": "ipython2",
   "version": "2.7.6"
  }
 },
 "nbformat": 4,
 "nbformat_minor": 5
}
