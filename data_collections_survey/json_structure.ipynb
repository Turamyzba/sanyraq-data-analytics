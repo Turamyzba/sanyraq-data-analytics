{
 "cells": [
  {
   "cell_type": "code",
   "execution_count": 12,
   "metadata": {
    "ExecuteTime": {
     "end_time": "2024-11-04T22:21:59.864023400Z",
     "start_time": "2024-11-04T22:21:57.593607300Z"
    }
   },
   "outputs": [],
   "source": [
    "import pandas as pd\n",
    "import re\n",
    "import os\n",
    "from pandas import json_normalize\n",
    "import numpy as np\n",
    "import matplotlib.pyplot as plt"
   ]
  },
  {
   "cell_type": "code",
   "execution_count": 7,
   "metadata": {},
   "outputs": [
    {
     "name": "stdout",
     "output_type": "stream",
     "text": [
      "Skipping sdam_snimu_astana.json as it doesn't contain required columns: 'date' and 'text_entities'.\n",
      "Skipping Подселение Шымкент найти комнату квартиру.json as it doesn't contain required columns: 'date' and 'text_entities'.\n",
      "(37545, 3)\n",
      "                 date                                            message  \\\n",
      "0 2024-11-27 14:55:46  Всем привет , срочно ищу 3 девушку для прожива...   \n",
      "1 2024-11-25 20:38:21  62500 + комм услуги, 25000 за депозит\\nБукар Ж...   \n",
      "2 2024-11-25 20:37:46  всем привет,ищу девушку для сожительства,будем...   \n",
      "3 2024-11-25 20:37:35  Всем привет\\nИщем к кому (к девушкам) подселит...   \n",
      "4 2024-11-25 20:37:24  Ищем квартиру\\nМы, три девушки, ищем квартиру ...   \n",
      "\n",
      "  channel_name  \n",
      "0   DAILY ХАТА  \n",
      "1   DAILY ХАТА  \n",
      "2   DAILY ХАТА  \n",
      "3   DAILY ХАТА  \n",
      "4   DAILY ХАТА  \n"
     ]
    }
   ],
   "source": [
    "import pandas as pd\n",
    "import os\n",
    "from pandas import json_normalize\n",
    "import numpy as np\n",
    "import matplotlib.pyplot as plt\n",
    "\n",
    "directory_path = 'All_Json_2023-2024'\n",
    "\n",
    "dataframes = []\n",
    "\n",
    "def extract_message(text_entities):\n",
    "    try:\n",
    "        # Concatenate the 'text' fields from each dictionary in the list\n",
    "        return ''.join([entity['text'] for entity in text_entities if 'text' in entity])\n",
    "    except:\n",
    "        return None\n",
    "\n",
    "# Iterate through every file in the directory\n",
    "for filename in os.listdir(directory_path):\n",
    "    if filename.endswith('.json'):\n",
    "        file_path = os.path.join(directory_path, filename)\n",
    "        try:\n",
    "            df = pd.read_json(file_path)\n",
    "\n",
    "            # Ensure 'messages' column exists\n",
    "            if 'messages' in df.columns:\n",
    "                df = json_normalize(df['messages'])\n",
    "            else:\n",
    "                print(f\"Skipping {filename} as it doesn't have 'messages' field.\")\n",
    "                continue\n",
    "            \n",
    "            # Check if the necessary columns are available\n",
    "            if 'date' in df.columns and 'text_entities' in df.columns:\n",
    "                # Clean the data\n",
    "                df = df[['date', 'text_entities']]\n",
    "\n",
    "                # Filter rows where 'text_entities' is a non-empty list\n",
    "                df = df[df['text_entities'].apply(lambda x: isinstance(x, list) and len(x) > 0)]\n",
    "\n",
    "                # Extract the message text\n",
    "                df['message'] = df['text_entities'].apply(extract_message)\n",
    "\n",
    "                # Drop 'text_entities' column\n",
    "                df_cleaned = df.drop(columns=['text_entities'])\n",
    "                df_cleaned['date'] = pd.to_datetime(df_cleaned['date'])\n",
    "                df_cleaned = df_cleaned.sort_values(by='date', ascending=False)\n",
    "\n",
    "                # Add a new column for the channel name (based on filename)\n",
    "                df_cleaned['channel_name'] = filename[:-5]  # removes the '.json' from the filename\n",
    "\n",
    "                # Append the dataframe to the list\n",
    "                dataframes.append(df_cleaned)\n",
    "            else:\n",
    "                print(f\"Skipping {filename} as it doesn't contain required columns: 'date' and 'text_entities'.\")\n",
    "\n",
    "        except Exception as e:\n",
    "            print(f\"Error processing {filename}: {e}\")\n",
    "\n",
    "# Combine all dataframes into one\n",
    "combined_df = pd.concat(dataframes, ignore_index=True)\n",
    "\n",
    "# Remove duplicates based on the 'message' column\n",
    "final_df = combined_df.drop_duplicates(subset=['message'])\n",
    "\n",
    "# Save to CSV\n",
    "final_df.to_csv('all_2024.csv', index=False)\n",
    "\n",
    "print(final_df.shape)\n",
    "print(final_df.head())\n"
   ]
  },
  {
   "cell_type": "code",
   "execution_count": 10,
   "metadata": {},
   "outputs": [
    {
     "data": {
      "text/plain": [
       "(37545, 3)"
      ]
     },
     "execution_count": 10,
     "metadata": {},
     "output_type": "execute_result"
    }
   ],
   "source": [
    "final_df = final_df.dropna(how='any')\n",
    "final_df.head()\n",
    "final_df.shape"
   ]
  },
  {
   "cell_type": "code",
   "execution_count": 15,
   "metadata": {},
   "outputs": [
    {
     "data": {
      "text/html": [
       "<div>\n",
       "<style scoped>\n",
       "    .dataframe tbody tr th:only-of-type {\n",
       "        vertical-align: middle;\n",
       "    }\n",
       "\n",
       "    .dataframe tbody tr th {\n",
       "        vertical-align: top;\n",
       "    }\n",
       "\n",
       "    .dataframe thead th {\n",
       "        text-align: right;\n",
       "    }\n",
       "</style>\n",
       "<table border=\"1\" class=\"dataframe\">\n",
       "  <thead>\n",
       "    <tr style=\"text-align: right;\">\n",
       "      <th></th>\n",
       "      <th>date</th>\n",
       "      <th>message</th>\n",
       "      <th>channel_name</th>\n",
       "    </tr>\n",
       "  </thead>\n",
       "  <tbody>\n",
       "    <tr>\n",
       "      <th>0</th>\n",
       "      <td>2024-11-27 14:55:46</td>\n",
       "      <td>Всем привет срочно ищу 3 девушку для проживани...</td>\n",
       "      <td>DAILY ХАТА</td>\n",
       "    </tr>\n",
       "    <tr>\n",
       "      <th>1</th>\n",
       "      <td>2024-11-25 20:38:21</td>\n",
       "      <td>62500 комм услуги 25000 за депозит Букар Жырау...</td>\n",
       "      <td>DAILY ХАТА</td>\n",
       "    </tr>\n",
       "    <tr>\n",
       "      <th>2</th>\n",
       "      <td>2024-11-25 20:37:46</td>\n",
       "      <td>всем приветищу девушку для сожительствабудем ж...</td>\n",
       "      <td>DAILY ХАТА</td>\n",
       "    </tr>\n",
       "    <tr>\n",
       "      <th>3</th>\n",
       "      <td>2024-11-25 20:37:35</td>\n",
       "      <td>Всем привет Ищем к кому к девушкам подселиться...</td>\n",
       "      <td>DAILY ХАТА</td>\n",
       "    </tr>\n",
       "    <tr>\n",
       "      <th>4</th>\n",
       "      <td>2024-11-25 20:37:24</td>\n",
       "      <td>Ищем квартиру Мы три девушки ищем квартиру для...</td>\n",
       "      <td>DAILY ХАТА</td>\n",
       "    </tr>\n",
       "    <tr>\n",
       "      <th>...</th>\n",
       "      <td>...</td>\n",
       "      <td>...</td>\n",
       "      <td>...</td>\n",
       "    </tr>\n",
       "    <tr>\n",
       "      <th>58205</th>\n",
       "      <td>2024-02-11 00:07:21</td>\n",
       "      <td>Квартира помесячно мкр 5 ул Черненко 5 Уральск...</td>\n",
       "      <td>Уральск Квартира  Орал КВАРТИРА Аренда</td>\n",
       "    </tr>\n",
       "    <tr>\n",
       "      <th>58207</th>\n",
       "      <td>2024-02-10 23:59:15</td>\n",
       "      <td>Квартира на длительный срок мкр Кунаева 55 Абу...</td>\n",
       "      <td>Уральск Квартира  Орал КВАРТИРА Аренда</td>\n",
       "    </tr>\n",
       "    <tr>\n",
       "      <th>58208</th>\n",
       "      <td>2024-02-10 23:54:12</td>\n",
       "      <td>Квартира на длительный срок Маметова проспект ...</td>\n",
       "      <td>Уральск Квартира  Орал КВАРТИРА Аренда</td>\n",
       "    </tr>\n",
       "    <tr>\n",
       "      <th>58209</th>\n",
       "      <td>2024-02-10 23:52:18</td>\n",
       "      <td>Квартира на длительный срок мкр СевероВосток 2...</td>\n",
       "      <td>Уральск Квартира  Орал КВАРТИРА Аренда</td>\n",
       "    </tr>\n",
       "    <tr>\n",
       "      <th>58210</th>\n",
       "      <td>2023-12-10 17:50:37</td>\n",
       "      <td>Аренда квартиры на длительный срок Уральск 1 к...</td>\n",
       "      <td>Уральск Квартира  Орал КВАРТИРА Аренда</td>\n",
       "    </tr>\n",
       "  </tbody>\n",
       "</table>\n",
       "<p>32660 rows × 3 columns</p>\n",
       "</div>"
      ],
      "text/plain": [
       "                     date                                            message  \\\n",
       "0     2024-11-27 14:55:46  Всем привет срочно ищу 3 девушку для проживани...   \n",
       "1     2024-11-25 20:38:21  62500 комм услуги 25000 за депозит Букар Жырау...   \n",
       "2     2024-11-25 20:37:46  всем приветищу девушку для сожительствабудем ж...   \n",
       "3     2024-11-25 20:37:35  Всем привет Ищем к кому к девушкам подселиться...   \n",
       "4     2024-11-25 20:37:24  Ищем квартиру Мы три девушки ищем квартиру для...   \n",
       "...                   ...                                                ...   \n",
       "58205 2024-02-11 00:07:21  Квартира помесячно мкр 5 ул Черненко 5 Уральск...   \n",
       "58207 2024-02-10 23:59:15  Квартира на длительный срок мкр Кунаева 55 Абу...   \n",
       "58208 2024-02-10 23:54:12  Квартира на длительный срок Маметова проспект ...   \n",
       "58209 2024-02-10 23:52:18  Квартира на длительный срок мкр СевероВосток 2...   \n",
       "58210 2023-12-10 17:50:37  Аренда квартиры на длительный срок Уральск 1 к...   \n",
       "\n",
       "                                 channel_name  \n",
       "0                                  DAILY ХАТА  \n",
       "1                                  DAILY ХАТА  \n",
       "2                                  DAILY ХАТА  \n",
       "3                                  DAILY ХАТА  \n",
       "4                                  DAILY ХАТА  \n",
       "...                                       ...  \n",
       "58205  Уральск Квартира  Орал КВАРТИРА Аренда  \n",
       "58207  Уральск Квартира  Орал КВАРТИРА Аренда  \n",
       "58208  Уральск Квартира  Орал КВАРТИРА Аренда  \n",
       "58209  Уральск Квартира  Орал КВАРТИРА Аренда  \n",
       "58210  Уральск Квартира  Орал КВАРТИРА Аренда  \n",
       "\n",
       "[32660 rows x 3 columns]"
      ]
     },
     "execution_count": 15,
     "metadata": {},
     "output_type": "execute_result"
    }
   ],
   "source": [
    "def clean_text(text):\n",
    "    cleaned_text = re.sub(r'[^А-Яа-яӘәІіҢңҒғҚқҰұҮүҺһӨөЁё0-9\\s]', '', text)\n",
    "    cleaned_text = re.sub(r'\\s+', ' ', cleaned_text).strip()\n",
    "    return cleaned_text\n",
    "\n",
    "final_df['message'] = final_df['message'].apply(clean_text)\n",
    "final_df = final_df[final_df['message'] != \"\"]\n",
    "final_df = final_df[~final_df['message'].str.startswith(\"Извините\")]\n",
    "\n",
    "final_df = final_df[final_df['message'].apply(lambda x: len(x.split()) >= 10)]\n",
    "final_df"
   ]
  },
  {
   "cell_type": "code",
   "execution_count": 16,
   "metadata": {},
   "outputs": [],
   "source": [
    "final_df.to_csv('all_2024.csv', index=False)\n"
   ]
  },
  {
   "cell_type": "code",
   "execution_count": 17,
   "metadata": {},
   "outputs": [
    {
     "data": {
      "text/plain": [
       "(32660, 3)"
      ]
     },
     "execution_count": 17,
     "metadata": {},
     "output_type": "execute_result"
    }
   ],
   "source": [
    "final_df.shape"
   ]
  },
  {
   "cell_type": "code",
   "execution_count": null,
   "metadata": {},
   "outputs": [],
   "source": []
  }
 ],
 "metadata": {
  "kernelspec": {
   "display_name": "Python 3",
   "language": "python",
   "name": "python3"
  },
  "language_info": {
   "codemirror_mode": {
    "name": "ipython",
    "version": 3
   },
   "file_extension": ".py",
   "mimetype": "text/x-python",
   "name": "python",
   "nbconvert_exporter": "python",
   "pygments_lexer": "ipython3",
   "version": "3.11.5"
  }
 },
 "nbformat": 4,
 "nbformat_minor": 2
}
