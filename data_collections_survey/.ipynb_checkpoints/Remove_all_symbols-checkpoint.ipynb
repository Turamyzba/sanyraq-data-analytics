{
 "cells": [
  {
   "cell_type": "code",
   "execution_count": 12,
   "id": "b8a8af59",
   "metadata": {},
   "outputs": [],
   "source": [
    "import pandas as pd\n",
    "import re"
   ]
  },
  {
   "cell_type": "code",
   "execution_count": 14,
   "id": "22d2baa1",
   "metadata": {},
   "outputs": [
    {
     "data": {
      "text/html": [
       "<div>\n",
       "<style scoped>\n",
       "    .dataframe tbody tr th:only-of-type {\n",
       "        vertical-align: middle;\n",
       "    }\n",
       "\n",
       "    .dataframe tbody tr th {\n",
       "        vertical-align: top;\n",
       "    }\n",
       "\n",
       "    .dataframe thead th {\n",
       "        text-align: right;\n",
       "    }\n",
       "</style>\n",
       "<table border=\"1\" class=\"dataframe\">\n",
       "  <thead>\n",
       "    <tr style=\"text-align: right;\">\n",
       "      <th></th>\n",
       "      <th>date</th>\n",
       "      <th>message</th>\n",
       "    </tr>\n",
       "  </thead>\n",
       "  <tbody>\n",
       "    <tr>\n",
       "      <th>0</th>\n",
       "      <td>2024-10-31T19:19:02</td>\n",
       "      <td>Ищем на подселение 1 девушку. Квартира 3 комна...</td>\n",
       "    </tr>\n",
       "    <tr>\n",
       "      <th>1</th>\n",
       "      <td>2024-10-31T18:32:46</td>\n",
       "      <td>Всем привет, ищу 1-2 девочку к себе на подселе...</td>\n",
       "    </tr>\n",
       "    <tr>\n",
       "      <th>2</th>\n",
       "      <td>2024-10-31T18:23:14</td>\n",
       "      <td>Алма Сити 5, екы жыгыт ыздеймыз поселениеге, 5...</td>\n",
       "    </tr>\n",
       "    <tr>\n",
       "      <th>3</th>\n",
       "      <td>2024-10-31T17:43:32</td>\n",
       "      <td>СДУға жақын жерде орналасқан коттедж үй жалға ...</td>\n",
       "    </tr>\n",
       "    <tr>\n",
       "      <th>4</th>\n",
       "      <td>2024-10-31T16:42:10</td>\n",
       "      <td>📌 ищем одну девушку на подселение в однокомнат...</td>\n",
       "    </tr>\n",
       "    <tr>\n",
       "      <th>...</th>\n",
       "      <td>...</td>\n",
       "      <td>...</td>\n",
       "    </tr>\n",
       "    <tr>\n",
       "      <th>51379</th>\n",
       "      <td>2022-08-30T01:11:14</td>\n",
       "      <td>5-комнатная квартира, 200 м², 13/16 этаж\\r\\n\\r...</td>\n",
       "    </tr>\n",
       "    <tr>\n",
       "      <th>51380</th>\n",
       "      <td>2022-08-30T01:11:13</td>\n",
       "      <td>2-комнатная квартира, 47 м², 3/4 этаж\\r\\n\\r\\nР...</td>\n",
       "    </tr>\n",
       "    <tr>\n",
       "      <th>51381</th>\n",
       "      <td>2022-08-30T01:11:09</td>\n",
       "      <td>2-комнатная квартира, 45 м², 1/4 этаж\\r\\n\\r\\nР...</td>\n",
       "    </tr>\n",
       "    <tr>\n",
       "      <th>51382</th>\n",
       "      <td>2022-08-30T01:11:08</td>\n",
       "      <td>1-комнатная квартира, 41 м², 5/5 этаж\\r\\n\\r\\nР...</td>\n",
       "    </tr>\n",
       "    <tr>\n",
       "      <th>51383</th>\n",
       "      <td>2022-08-30T01:11:07</td>\n",
       "      <td>2-комнатная квартира, 45 м², 4/4 этаж\\r\\n\\r\\nР...</td>\n",
       "    </tr>\n",
       "  </tbody>\n",
       "</table>\n",
       "<p>51384 rows × 2 columns</p>\n",
       "</div>"
      ],
      "text/plain": [
       "                      date                                            message\n",
       "0      2024-10-31T19:19:02  Ищем на подселение 1 девушку. Квартира 3 комна...\n",
       "1      2024-10-31T18:32:46  Всем привет, ищу 1-2 девочку к себе на подселе...\n",
       "2      2024-10-31T18:23:14  Алма Сити 5, екы жыгыт ыздеймыз поселениеге, 5...\n",
       "3      2024-10-31T17:43:32  СДУға жақын жерде орналасқан коттедж үй жалға ...\n",
       "4      2024-10-31T16:42:10  📌 ищем одну девушку на подселение в однокомнат...\n",
       "...                    ...                                                ...\n",
       "51379  2022-08-30T01:11:14  5-комнатная квартира, 200 м², 13/16 этаж\\r\\n\\r...\n",
       "51380  2022-08-30T01:11:13  2-комнатная квартира, 47 м², 3/4 этаж\\r\\n\\r\\nР...\n",
       "51381  2022-08-30T01:11:09  2-комнатная квартира, 45 м², 1/4 этаж\\r\\n\\r\\nР...\n",
       "51382  2022-08-30T01:11:08  1-комнатная квартира, 41 м², 5/5 этаж\\r\\n\\r\\nР...\n",
       "51383  2022-08-30T01:11:07  2-комнатная квартира, 45 м², 4/4 этаж\\r\\n\\r\\nР...\n",
       "\n",
       "[51384 rows x 2 columns]"
      ]
     },
     "execution_count": 14,
     "metadata": {},
     "output_type": "execute_result"
    }
   ],
   "source": [
    "df = pd.read_csv('all_csv/Almaty_all.csv')\n",
    "df"
   ]
  },
  {
   "cell_type": "code",
   "execution_count": null,
   "id": "4d599b0b",
   "metadata": {},
   "outputs": [],
   "source": []
  }
 ],
 "metadata": {
  "kernelspec": {
   "display_name": "Python 3 (ipykernel)",
   "language": "python",
   "name": "python3"
  },
  "language_info": {
   "codemirror_mode": {
    "name": "ipython",
    "version": 3
   },
   "file_extension": ".py",
   "mimetype": "text/x-python",
   "name": "python",
   "nbconvert_exporter": "python",
   "pygments_lexer": "ipython3",
   "version": "3.11.4"
  }
 },
 "nbformat": 4,
 "nbformat_minor": 5
}
